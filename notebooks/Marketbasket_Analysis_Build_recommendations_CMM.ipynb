{
 "cells": [
  {
   "cell_type": "code",
   "execution_count": 8,
   "metadata": {},
   "outputs": [],
   "source": [
    "import pandas as pd\n",
    "import numpy as np\n",
    "import seaborn as sns\n",
    "import matplotlib.pyplot as plt\n",
    "from matplotlib import colors as mcolors\n",
    "from tqdm import tqdm\n",
    "import gc\n",
    "import warnings\n",
    "warnings.filterwarnings('ignore')"
   ]
  },
  {
   "cell_type": "markdown",
   "metadata": {},
   "source": [
    "# 1.0 Load data from association rules"
   ]
  },
  {
   "cell_type": "code",
   "execution_count": 2,
   "metadata": {},
   "outputs": [
    {
     "data": {
      "text/html": [
       "<div>\n",
       "<style scoped>\n",
       "    .dataframe tbody tr th:only-of-type {\n",
       "        vertical-align: middle;\n",
       "    }\n",
       "\n",
       "    .dataframe tbody tr th {\n",
       "        vertical-align: top;\n",
       "    }\n",
       "\n",
       "    .dataframe thead th {\n",
       "        text-align: right;\n",
       "    }\n",
       "</style>\n",
       "<table border=\"1\" class=\"dataframe\">\n",
       "  <thead>\n",
       "    <tr style=\"text-align: right;\">\n",
       "      <th></th>\n",
       "      <th>antecedants</th>\n",
       "      <th>consequents</th>\n",
       "      <th>support</th>\n",
       "      <th>confidence</th>\n",
       "      <th>lift</th>\n",
       "    </tr>\n",
       "  </thead>\n",
       "  <tbody>\n",
       "    <tr>\n",
       "      <th>720</th>\n",
       "      <td>0882759003</td>\n",
       "      <td>0882757003</td>\n",
       "      <td>0.000116</td>\n",
       "      <td>0.808696</td>\n",
       "      <td>6260.392977</td>\n",
       "    </tr>\n",
       "    <tr>\n",
       "      <th>719</th>\n",
       "      <td>0874078003</td>\n",
       "      <td>0912418001</td>\n",
       "      <td>0.000114</td>\n",
       "      <td>0.844037</td>\n",
       "      <td>6177.581318</td>\n",
       "    </tr>\n",
       "    <tr>\n",
       "      <th>377</th>\n",
       "      <td>0698260005</td>\n",
       "      <td>0698255005</td>\n",
       "      <td>0.000108</td>\n",
       "      <td>0.813084</td>\n",
       "      <td>6117.888025</td>\n",
       "    </tr>\n",
       "    <tr>\n",
       "      <th>657</th>\n",
       "      <td>0833490002</td>\n",
       "      <td>0833486002</td>\n",
       "      <td>0.000101</td>\n",
       "      <td>0.743119</td>\n",
       "      <td>5982.853211</td>\n",
       "    </tr>\n",
       "    <tr>\n",
       "      <th>646</th>\n",
       "      <td>0845699001</td>\n",
       "      <td>0832298002</td>\n",
       "      <td>0.000119</td>\n",
       "      <td>0.727273</td>\n",
       "      <td>5740.463458</td>\n",
       "    </tr>\n",
       "    <tr>\n",
       "      <th>...</th>\n",
       "      <td>...</td>\n",
       "      <td>...</td>\n",
       "      <td>...</td>\n",
       "      <td>...</td>\n",
       "      <td>...</td>\n",
       "    </tr>\n",
       "    <tr>\n",
       "      <th>396</th>\n",
       "      <td>0706016003</td>\n",
       "      <td>0706016001</td>\n",
       "      <td>0.001151</td>\n",
       "      <td>0.248459</td>\n",
       "      <td>23.447922</td>\n",
       "    </tr>\n",
       "    <tr>\n",
       "      <th>395</th>\n",
       "      <td>0706016002</td>\n",
       "      <td>0706016001</td>\n",
       "      <td>0.002006</td>\n",
       "      <td>0.235870</td>\n",
       "      <td>22.259842</td>\n",
       "    </tr>\n",
       "    <tr>\n",
       "      <th>401</th>\n",
       "      <td>0706016025</td>\n",
       "      <td>0706016001</td>\n",
       "      <td>0.000127</td>\n",
       "      <td>0.235023</td>\n",
       "      <td>22.179938</td>\n",
       "    </tr>\n",
       "    <tr>\n",
       "      <th>399</th>\n",
       "      <td>0706016015</td>\n",
       "      <td>0706016001</td>\n",
       "      <td>0.000761</td>\n",
       "      <td>0.223315</td>\n",
       "      <td>21.075021</td>\n",
       "    </tr>\n",
       "    <tr>\n",
       "      <th>325</th>\n",
       "      <td>0673901001</td>\n",
       "      <td>0706016001</td>\n",
       "      <td>0.000129</td>\n",
       "      <td>0.201161</td>\n",
       "      <td>18.984217</td>\n",
       "    </tr>\n",
       "  </tbody>\n",
       "</table>\n",
       "<p>779 rows × 5 columns</p>\n",
       "</div>"
      ],
      "text/plain": [
       "    antecedants consequents   support  confidence         lift\n",
       "720  0882759003  0882757003  0.000116    0.808696  6260.392977\n",
       "719  0874078003  0912418001  0.000114    0.844037  6177.581318\n",
       "377  0698260005  0698255005  0.000108    0.813084  6117.888025\n",
       "657  0833490002  0833486002  0.000101    0.743119  5982.853211\n",
       "646  0845699001  0832298002  0.000119    0.727273  5740.463458\n",
       "..          ...         ...       ...         ...          ...\n",
       "396  0706016003  0706016001  0.001151    0.248459    23.447922\n",
       "395  0706016002  0706016001  0.002006    0.235870    22.259842\n",
       "401  0706016025  0706016001  0.000127    0.235023    22.179938\n",
       "399  0706016015  0706016001  0.000761    0.223315    21.075021\n",
       "325  0673901001  0706016001  0.000129    0.201161    18.984217\n",
       "\n",
       "[779 rows x 5 columns]"
      ]
     },
     "execution_count": 2,
     "metadata": {},
     "output_type": "execute_result"
    }
   ],
   "source": [
    "# Load association results:\n",
    "\n",
    "association_results_df = pd.read_csv('../data/20220504_table_association_results_wardrobesize_2-20_wo_none.csv', \\\n",
    "    index_col=0,  dtype={'antecedants':'string', 'consequents':'string'})\n",
    "\n",
    "association_results_df.sort_values('lift', ascending=False, inplace=True)\n",
    "association_results_df"
   ]
  },
  {
   "cell_type": "code",
   "execution_count": 3,
   "metadata": {},
   "outputs": [],
   "source": [
    "# Generate wardrobe table:\n",
    "df_trans = pd.read_csv('../data/transactions_train.csv', dtype={'article_id':'string'})\n",
    "# Train test split:\n",
    "df_trans_train = df_trans.query('t_dat < \"2020-09-16\"').copy()\n",
    "df_trans_red = df_trans_train.drop(columns=['t_dat', 'price', 'sales_channel_id']).copy()\n",
    "df_wardrobe = df_trans_red.groupby('customer_id')['article_id'].aggregate(lambda x: list(x)).reset_index()\n"
   ]
  },
  {
   "cell_type": "code",
   "execution_count": 4,
   "metadata": {},
   "outputs": [],
   "source": [
    "# Clear memory\n",
    "del [[df_trans,df_trans_red, df_trans_train]]"
   ]
  },
  {
   "cell_type": "code",
   "execution_count": 5,
   "metadata": {},
   "outputs": [
    {
     "data": {
      "text/html": [
       "<div>\n",
       "<style scoped>\n",
       "    .dataframe tbody tr th:only-of-type {\n",
       "        vertical-align: middle;\n",
       "    }\n",
       "\n",
       "    .dataframe tbody tr th {\n",
       "        vertical-align: top;\n",
       "    }\n",
       "\n",
       "    .dataframe thead th {\n",
       "        text-align: right;\n",
       "    }\n",
       "</style>\n",
       "<table border=\"1\" class=\"dataframe\">\n",
       "  <thead>\n",
       "    <tr style=\"text-align: right;\">\n",
       "      <th></th>\n",
       "      <th>customer_id</th>\n",
       "      <th>article_id</th>\n",
       "    </tr>\n",
       "  </thead>\n",
       "  <tbody>\n",
       "    <tr>\n",
       "      <th>0</th>\n",
       "      <td>00000dbacae5abe5e23885899a1fa44253a17956c6d1c3...</td>\n",
       "      <td>[0625548001, 0176209023, 0627759010, 069713800...</td>\n",
       "    </tr>\n",
       "    <tr>\n",
       "      <th>1</th>\n",
       "      <td>0000423b00ade91418cceaf3b26c6af3dd342b51fd051e...</td>\n",
       "      <td>[0583558001, 0639677008, 0640244003, 052126900...</td>\n",
       "    </tr>\n",
       "    <tr>\n",
       "      <th>2</th>\n",
       "      <td>000058a12d5b43e67d225668fa1f8d618c13dc232df0ca...</td>\n",
       "      <td>[0663713001, 0541518023, 0663713001, 057802000...</td>\n",
       "    </tr>\n",
       "    <tr>\n",
       "      <th>3</th>\n",
       "      <td>00005ca1c9ed5f5146b52ac8639a40ca9d57aeff4d1bd2...</td>\n",
       "      <td>[0742079001, 0732413001]</td>\n",
       "    </tr>\n",
       "    <tr>\n",
       "      <th>4</th>\n",
       "      <td>00006413d8573cd20ed7128e53b7b13819fe5cfc2d801f...</td>\n",
       "      <td>[0634249005, 0677049001, 0698286003, 070770400...</td>\n",
       "    </tr>\n",
       "  </tbody>\n",
       "</table>\n",
       "</div>"
      ],
      "text/plain": [
       "                                         customer_id  \\\n",
       "0  00000dbacae5abe5e23885899a1fa44253a17956c6d1c3...   \n",
       "1  0000423b00ade91418cceaf3b26c6af3dd342b51fd051e...   \n",
       "2  000058a12d5b43e67d225668fa1f8d618c13dc232df0ca...   \n",
       "3  00005ca1c9ed5f5146b52ac8639a40ca9d57aeff4d1bd2...   \n",
       "4  00006413d8573cd20ed7128e53b7b13819fe5cfc2d801f...   \n",
       "\n",
       "                                          article_id  \n",
       "0  [0625548001, 0176209023, 0627759010, 069713800...  \n",
       "1  [0583558001, 0639677008, 0640244003, 052126900...  \n",
       "2  [0663713001, 0541518023, 0663713001, 057802000...  \n",
       "3                           [0742079001, 0732413001]  \n",
       "4  [0634249005, 0677049001, 0698286003, 070770400...  "
      ]
     },
     "execution_count": 5,
     "metadata": {},
     "output_type": "execute_result"
    }
   ],
   "source": [
    "df_wardrobe.head()\n"
   ]
  },
  {
   "cell_type": "code",
   "execution_count": 54,
   "metadata": {},
   "outputs": [],
   "source": [
    "# Add 'number of articles' column (propably needed to generate smaller dataset) and sort descending:\n",
    "\n",
    "df_wardrobe['no_articles'] = df_wardrobe.article_id.apply(lambda x: len(x))\n",
    "df_wardrobe.sort_values('no_articles', ascending=False, inplace=True)"
   ]
  },
  {
   "cell_type": "code",
   "execution_count": 6,
   "metadata": {},
   "outputs": [],
   "source": [
    "# # Select a sample for testing code\n",
    "# df_sample = df_wardrobe.sample(n=1000000, random_state=42)\n",
    "# df_sample.sort_values('no_articles', ascending=False)\n",
    "\n",
    "# Since no sample is necessary df_sample will be df_wardrobe:\n",
    "df_sample = df_wardrobe.copy()"
   ]
  },
  {
   "cell_type": "code",
   "execution_count": 9,
   "metadata": {},
   "outputs": [
    {
     "ename": "NameError",
     "evalue": "name 'df_wardrobe' is not defined",
     "output_type": "error",
     "traceback": [
      "\u001b[0;31m---------------------------------------------------------------------------\u001b[0m",
      "\u001b[0;31mNameError\u001b[0m                                 Traceback (most recent call last)",
      "\u001b[1;32m/Users/c_messerschmidt/Documents/neuefische/fashion-recommender/notebooks/Marketbasket_Analysis_Build_recommendations_CMM.ipynb Cell 9'\u001b[0m in \u001b[0;36m<cell line: 2>\u001b[0;34m()\u001b[0m\n\u001b[1;32m      <a href='vscode-notebook-cell:/Users/c_messerschmidt/Documents/neuefische/fashion-recommender/notebooks/Marketbasket_Analysis_Build_recommendations_CMM.ipynb#ch0000020?line=0'>1</a>\u001b[0m \u001b[39m# Clear memory\u001b[39;00m\n\u001b[0;32m----> <a href='vscode-notebook-cell:/Users/c_messerschmidt/Documents/neuefische/fashion-recommender/notebooks/Marketbasket_Analysis_Build_recommendations_CMM.ipynb#ch0000020?line=1'>2</a>\u001b[0m \u001b[39mdel\u001b[39;00m [[df_wardrobe]]\n\u001b[1;32m      <a href='vscode-notebook-cell:/Users/c_messerschmidt/Documents/neuefische/fashion-recommender/notebooks/Marketbasket_Analysis_Build_recommendations_CMM.ipynb#ch0000020?line=3'>4</a>\u001b[0m gc\u001b[39m.\u001b[39mcollect()\n",
      "\u001b[0;31mNameError\u001b[0m: name 'df_wardrobe' is not defined"
     ]
    }
   ],
   "source": [
    "# Clear memory\n",
    "del [[df_wardrobe]]\n",
    "\n",
    "gc.collect()"
   ]
  },
  {
   "cell_type": "markdown",
   "metadata": {},
   "source": [
    "# 2.0 Assign product recommendations based on current wardrobes"
   ]
  },
  {
   "cell_type": "code",
   "execution_count": 10,
   "metadata": {},
   "outputs": [],
   "source": [
    "# Generate empty column for recommendation\n",
    "df_sample['reco'] = df_sample.apply(lambda x: [], axis=1)"
   ]
  },
  {
   "cell_type": "code",
   "execution_count": 11,
   "metadata": {},
   "outputs": [],
   "source": [
    "# Append consequents as list\n",
    "# Info: needed 186 minutes for wardrobes between 2-20 products.\n",
    "\n",
    "for i in range(len(df_sample)):\n",
    "    for j in range(len(association_results_df)):\n",
    "        if association_results_df.antecedants.iloc[j] in df_sample.article_id.iloc[i]:\n",
    "            if association_results_df.consequents.iloc[j] not in df_sample.article_id.iloc[i]:\n",
    "                df_sample['reco'].iloc[i].append(association_results_df.consequents.iloc[j])\n",
    "            \n",
    "\n"
   ]
  },
  {
   "cell_type": "code",
   "execution_count": 12,
   "metadata": {},
   "outputs": [
    {
     "data": {
      "text/html": [
       "<div>\n",
       "<style scoped>\n",
       "    .dataframe tbody tr th:only-of-type {\n",
       "        vertical-align: middle;\n",
       "    }\n",
       "\n",
       "    .dataframe tbody tr th {\n",
       "        vertical-align: top;\n",
       "    }\n",
       "\n",
       "    .dataframe thead th {\n",
       "        text-align: right;\n",
       "    }\n",
       "</style>\n",
       "<table border=\"1\" class=\"dataframe\">\n",
       "  <thead>\n",
       "    <tr style=\"text-align: right;\">\n",
       "      <th></th>\n",
       "      <th>customer_id</th>\n",
       "      <th>article_id</th>\n",
       "      <th>reco</th>\n",
       "      <th>no_reco</th>\n",
       "    </tr>\n",
       "  </thead>\n",
       "  <tbody>\n",
       "    <tr>\n",
       "      <th>1007560</th>\n",
       "      <td>be1981ab818cf4ef6765b2ecaea7a2cbf14ccd6e8a7ee9...</td>\n",
       "      <td>[0658506001, 0662980002, 0667709001, 068568700...</td>\n",
       "      <td>[0758060001, 0492244014, 0799410003, 078338000...</td>\n",
       "      <td>60</td>\n",
       "    </tr>\n",
       "    <tr>\n",
       "      <th>64883</th>\n",
       "      <td>0c44b5697c84f49c39712df9b5452ec131cf6cf4090e35...</td>\n",
       "      <td>[0399136060, 0399136061, 0668390001, 042619900...</td>\n",
       "      <td>[0802980001, 0698283002, 0832284003, 054246400...</td>\n",
       "      <td>53</td>\n",
       "    </tr>\n",
       "    <tr>\n",
       "      <th>238923</th>\n",
       "      <td>2d17eb6bc25d969da89b83e3d446041c90bc99789998a3...</td>\n",
       "      <td>[0680810001, 0537346022, 0550309001, 063967700...</td>\n",
       "      <td>[0758060001, 0843873003, 0740720001, 075800201...</td>\n",
       "      <td>45</td>\n",
       "    </tr>\n",
       "    <tr>\n",
       "      <th>561018</th>\n",
       "      <td>69dcbfa8db2b3b9832657dd3f693cdb9bae009b5e3c289...</td>\n",
       "      <td>[0658298001, 0657291001, 0657291001, 063967700...</td>\n",
       "      <td>[0833486002, 0772032001, 0758064002, 060004301...</td>\n",
       "      <td>45</td>\n",
       "    </tr>\n",
       "    <tr>\n",
       "      <th>19815</th>\n",
       "      <td>03c3771e117f921c472552497e243607243fd7de0c57fd...</td>\n",
       "      <td>[0688873005, 0618899009, 0670687001, 067068700...</td>\n",
       "      <td>[0871468001, 0861477001, 0767438001, 081183500...</td>\n",
       "      <td>44</td>\n",
       "    </tr>\n",
       "  </tbody>\n",
       "</table>\n",
       "</div>"
      ],
      "text/plain": [
       "                                               customer_id  \\\n",
       "1007560  be1981ab818cf4ef6765b2ecaea7a2cbf14ccd6e8a7ee9...   \n",
       "64883    0c44b5697c84f49c39712df9b5452ec131cf6cf4090e35...   \n",
       "238923   2d17eb6bc25d969da89b83e3d446041c90bc99789998a3...   \n",
       "561018   69dcbfa8db2b3b9832657dd3f693cdb9bae009b5e3c289...   \n",
       "19815    03c3771e117f921c472552497e243607243fd7de0c57fd...   \n",
       "\n",
       "                                                article_id  \\\n",
       "1007560  [0658506001, 0662980002, 0667709001, 068568700...   \n",
       "64883    [0399136060, 0399136061, 0668390001, 042619900...   \n",
       "238923   [0680810001, 0537346022, 0550309001, 063967700...   \n",
       "561018   [0658298001, 0657291001, 0657291001, 063967700...   \n",
       "19815    [0688873005, 0618899009, 0670687001, 067068700...   \n",
       "\n",
       "                                                      reco  no_reco  \n",
       "1007560  [0758060001, 0492244014, 0799410003, 078338000...       60  \n",
       "64883    [0802980001, 0698283002, 0832284003, 054246400...       53  \n",
       "238923   [0758060001, 0843873003, 0740720001, 075800201...       45  \n",
       "561018   [0833486002, 0772032001, 0758064002, 060004301...       45  \n",
       "19815    [0871468001, 0861477001, 0767438001, 081183500...       44  "
      ]
     },
     "execution_count": 12,
     "metadata": {},
     "output_type": "execute_result"
    }
   ],
   "source": [
    "df_sample['no_reco'] = df_sample.reco.apply(lambda x: len(x))\n",
    "df_sample.sort_values('no_reco', ascending=False).head()\n"
   ]
  },
  {
   "cell_type": "code",
   "execution_count": 55,
   "metadata": {},
   "outputs": [
    {
     "name": "stdout",
     "output_type": "stream",
     "text": [
      "The dataset includes...\n",
      "- 541901 customers with at least 1 recommendation\n",
      "- 111490 customers with at least 6 recommendations\n",
      "- 23616 customers with more than 12 recommendations\n"
     ]
    }
   ],
   "source": [
    "# Number of customer_ids with at least X recommendations:\n",
    "print(\"The dataset includes...\")\n",
    "print(f\"- {df_sample[df_sample['no_reco']>0].shape[0]} customers with at least 1 recommendation\")\n",
    "print(f\"- {df_sample[df_sample['no_reco']>5].shape[0]} customers with at least 6 recommendations\")\n",
    "print(f\"- {df_sample[df_sample['no_reco']>12].shape[0]} customers with more than 12 recommendations\")\n"
   ]
  },
  {
   "cell_type": "code",
   "execution_count": null,
   "metadata": {},
   "outputs": [],
   "source": [
    "# sort consequents by lift-value\n",
    "# ToDo!"
   ]
  },
  {
   "cell_type": "code",
   "execution_count": 56,
   "metadata": {},
   "outputs": [
    {
     "ename": "NameError",
     "evalue": "name 'e' is not defined",
     "output_type": "error",
     "traceback": [
      "\u001b[0;31m---------------------------------------------------------------------------\u001b[0m",
      "\u001b[0;31mNameError\u001b[0m                                 Traceback (most recent call last)",
      "\u001b[1;32m/Users/c_messerschmidt/Documents/neuefische/fashion-recommender/notebooks/Marketbasket_Analysis_Build_recommendations_CMM.ipynb Cell 16'\u001b[0m in \u001b[0;36m<cell line: 1>\u001b[0;34m()\u001b[0m\n\u001b[0;32m----> <a href='vscode-notebook-cell:/Users/c_messerschmidt/Documents/neuefische/fashion-recommender/notebooks/Marketbasket_Analysis_Build_recommendations_CMM.ipynb#ch0000039?line=0'>1</a>\u001b[0m \u001b[39m1\u001b[39m\u001b[39m*\u001b[39m e\u001b[39m*\u001b[39m\u001b[39m*\u001b[39m\u001b[39m-\u001b[39m\u001b[39m4\u001b[39m\n",
      "\u001b[0;31mNameError\u001b[0m: name 'e' is not defined"
     ]
    }
   ],
   "source": []
  },
  {
   "cell_type": "code",
   "execution_count": 24,
   "metadata": {},
   "outputs": [],
   "source": [
    "# Create reco-column (\"prediction\") which stores recos in one string:\n",
    "# df_sample['prediction'] = ' '.join(df_sample['reco'])\n",
    "df_sample['prediction'] = df_sample.reco.apply(lambda x: ' '.join(x))"
   ]
  },
  {
   "cell_type": "code",
   "execution_count": 28,
   "metadata": {},
   "outputs": [
    {
     "data": {
      "text/html": [
       "<div>\n",
       "<style scoped>\n",
       "    .dataframe tbody tr th:only-of-type {\n",
       "        vertical-align: middle;\n",
       "    }\n",
       "\n",
       "    .dataframe tbody tr th {\n",
       "        vertical-align: top;\n",
       "    }\n",
       "\n",
       "    .dataframe thead th {\n",
       "        text-align: right;\n",
       "    }\n",
       "</style>\n",
       "<table border=\"1\" class=\"dataframe\">\n",
       "  <thead>\n",
       "    <tr style=\"text-align: right;\">\n",
       "      <th></th>\n",
       "      <th>customer_id</th>\n",
       "      <th>article_id</th>\n",
       "      <th>reco</th>\n",
       "      <th>no_reco</th>\n",
       "      <th>prediction</th>\n",
       "    </tr>\n",
       "  </thead>\n",
       "  <tbody>\n",
       "    <tr>\n",
       "      <th>0</th>\n",
       "      <td>00000dbacae5abe5e23885899a1fa44253a17956c6d1c3...</td>\n",
       "      <td>[0625548001, 0176209023, 0627759010, 069713800...</td>\n",
       "      <td>[0568597007]</td>\n",
       "      <td>1</td>\n",
       "      <td>0568597007</td>\n",
       "    </tr>\n",
       "    <tr>\n",
       "      <th>1</th>\n",
       "      <td>0000423b00ade91418cceaf3b26c6af3dd342b51fd051e...</td>\n",
       "      <td>[0583558001, 0639677008, 0640244003, 052126900...</td>\n",
       "      <td>[0776237020, 0688537005, 0589599036, 083835700...</td>\n",
       "      <td>9</td>\n",
       "      <td>0776237020 0688537005 0589599036 0838357002 04...</td>\n",
       "    </tr>\n",
       "    <tr>\n",
       "      <th>2</th>\n",
       "      <td>000058a12d5b43e67d225668fa1f8d618c13dc232df0ca...</td>\n",
       "      <td>[0663713001, 0541518023, 0663713001, 057802000...</td>\n",
       "      <td>[0458543001, 0458543009, 0838055001, 0823505002]</td>\n",
       "      <td>4</td>\n",
       "      <td>0458543001 0458543009 0838055001 0823505002</td>\n",
       "    </tr>\n",
       "    <tr>\n",
       "      <th>3</th>\n",
       "      <td>00005ca1c9ed5f5146b52ac8639a40ca9d57aeff4d1bd2...</td>\n",
       "      <td>[0742079001, 0732413001]</td>\n",
       "      <td>[]</td>\n",
       "      <td>0</td>\n",
       "      <td></td>\n",
       "    </tr>\n",
       "    <tr>\n",
       "      <th>4</th>\n",
       "      <td>00006413d8573cd20ed7128e53b7b13819fe5cfc2d801f...</td>\n",
       "      <td>[0634249005, 0677049001, 0698286003, 070770400...</td>\n",
       "      <td>[0692721005]</td>\n",
       "      <td>1</td>\n",
       "      <td>0692721005</td>\n",
       "    </tr>\n",
       "  </tbody>\n",
       "</table>\n",
       "</div>"
      ],
      "text/plain": [
       "                                         customer_id  \\\n",
       "0  00000dbacae5abe5e23885899a1fa44253a17956c6d1c3...   \n",
       "1  0000423b00ade91418cceaf3b26c6af3dd342b51fd051e...   \n",
       "2  000058a12d5b43e67d225668fa1f8d618c13dc232df0ca...   \n",
       "3  00005ca1c9ed5f5146b52ac8639a40ca9d57aeff4d1bd2...   \n",
       "4  00006413d8573cd20ed7128e53b7b13819fe5cfc2d801f...   \n",
       "\n",
       "                                          article_id  \\\n",
       "0  [0625548001, 0176209023, 0627759010, 069713800...   \n",
       "1  [0583558001, 0639677008, 0640244003, 052126900...   \n",
       "2  [0663713001, 0541518023, 0663713001, 057802000...   \n",
       "3                           [0742079001, 0732413001]   \n",
       "4  [0634249005, 0677049001, 0698286003, 070770400...   \n",
       "\n",
       "                                                reco  no_reco  \\\n",
       "0                                       [0568597007]        1   \n",
       "1  [0776237020, 0688537005, 0589599036, 083835700...        9   \n",
       "2   [0458543001, 0458543009, 0838055001, 0823505002]        4   \n",
       "3                                                 []        0   \n",
       "4                                       [0692721005]        1   \n",
       "\n",
       "                                          prediction  \n",
       "0                                         0568597007  \n",
       "1  0776237020 0688537005 0589599036 0838357002 04...  \n",
       "2        0458543001 0458543009 0838055001 0823505002  \n",
       "3                                                     \n",
       "4                                         0692721005  "
      ]
     },
     "execution_count": 28,
     "metadata": {},
     "output_type": "execute_result"
    }
   ],
   "source": [
    "df_sample.head()"
   ]
  },
  {
   "cell_type": "code",
   "execution_count": 26,
   "metadata": {},
   "outputs": [],
   "source": [
    "# Store recommendations as csv:\n",
    "df_sample.to_csv('../data/20220504_test_all_cust_recommendations_wardrobesize_2-20_wo_none.csv')"
   ]
  },
  {
   "cell_type": "markdown",
   "metadata": {},
   "source": [
    "# 3.0 Generate submission csv"
   ]
  },
  {
   "cell_type": "code",
   "execution_count": 41,
   "metadata": {},
   "outputs": [],
   "source": [
    "# Generate submission train file (only customer_ids which exist in train dataset):\n",
    "df_submission_train = df_sample.drop(columns=['article_id', 'reco', 'no_reco'])\n"
   ]
  },
  {
   "cell_type": "code",
   "execution_count": 47,
   "metadata": {},
   "outputs": [
    {
     "data": {
      "text/html": [
       "<div>\n",
       "<style scoped>\n",
       "    .dataframe tbody tr th:only-of-type {\n",
       "        vertical-align: middle;\n",
       "    }\n",
       "\n",
       "    .dataframe tbody tr th {\n",
       "        vertical-align: top;\n",
       "    }\n",
       "\n",
       "    .dataframe thead th {\n",
       "        text-align: right;\n",
       "    }\n",
       "</style>\n",
       "<table border=\"1\" class=\"dataframe\">\n",
       "  <thead>\n",
       "    <tr style=\"text-align: right;\">\n",
       "      <th></th>\n",
       "      <th>customer_id</th>\n",
       "      <th>prediction</th>\n",
       "    </tr>\n",
       "  </thead>\n",
       "  <tbody>\n",
       "    <tr>\n",
       "      <th>0</th>\n",
       "      <td>00000dbacae5abe5e23885899a1fa44253a17956c6d1c3...</td>\n",
       "      <td>0568597007</td>\n",
       "    </tr>\n",
       "    <tr>\n",
       "      <th>1</th>\n",
       "      <td>0000423b00ade91418cceaf3b26c6af3dd342b51fd051e...</td>\n",
       "      <td>0776237020 0688537005 0589599036 0838357002 04...</td>\n",
       "    </tr>\n",
       "    <tr>\n",
       "      <th>2</th>\n",
       "      <td>000058a12d5b43e67d225668fa1f8d618c13dc232df0ca...</td>\n",
       "      <td>0458543001 0458543009 0838055001 0823505002</td>\n",
       "    </tr>\n",
       "    <tr>\n",
       "      <th>3</th>\n",
       "      <td>00005ca1c9ed5f5146b52ac8639a40ca9d57aeff4d1bd2...</td>\n",
       "      <td></td>\n",
       "    </tr>\n",
       "    <tr>\n",
       "      <th>4</th>\n",
       "      <td>00006413d8573cd20ed7128e53b7b13819fe5cfc2d801f...</td>\n",
       "      <td>0692721005</td>\n",
       "    </tr>\n",
       "  </tbody>\n",
       "</table>\n",
       "</div>"
      ],
      "text/plain": [
       "                                         customer_id  \\\n",
       "0  00000dbacae5abe5e23885899a1fa44253a17956c6d1c3...   \n",
       "1  0000423b00ade91418cceaf3b26c6af3dd342b51fd051e...   \n",
       "2  000058a12d5b43e67d225668fa1f8d618c13dc232df0ca...   \n",
       "3  00005ca1c9ed5f5146b52ac8639a40ca9d57aeff4d1bd2...   \n",
       "4  00006413d8573cd20ed7128e53b7b13819fe5cfc2d801f...   \n",
       "\n",
       "                                          prediction  \n",
       "0                                         0568597007  \n",
       "1  0776237020 0688537005 0589599036 0838357002 04...  \n",
       "2        0458543001 0458543009 0838055001 0823505002  \n",
       "3                                                     \n",
       "4                                         0692721005  "
      ]
     },
     "execution_count": 47,
     "metadata": {},
     "output_type": "execute_result"
    }
   ],
   "source": [
    "df_submission_train.head()"
   ]
  },
  {
   "cell_type": "code",
   "execution_count": 36,
   "metadata": {},
   "outputs": [],
   "source": [
    "# Load sample_submission to get all customer_ids and drop sample predictions:\n",
    "df_sample_sub = pd.read_csv('../data/sample_submission.csv')\n",
    "df_sample_sub.drop(columns=['prediction'], inplace=True)\n",
    "df_sample_sub.shape"
   ]
  },
  {
   "cell_type": "code",
   "execution_count": 48,
   "metadata": {},
   "outputs": [],
   "source": [
    "# Generate full submission file with all customer_ids:\n",
    "df_submission_test = pd.merge(df_sample_sub, df_submission_train, how= 'left', on=\"customer_id\")\n"
   ]
  },
  {
   "cell_type": "code",
   "execution_count": 57,
   "metadata": {},
   "outputs": [],
   "source": [
    "# Fill up with baseline-model recommendations:\n",
    "\n",
    "df_submission_test_baseline = df_submission_test.copy()"
   ]
  },
  {
   "cell_type": "code",
   "execution_count": 68,
   "metadata": {},
   "outputs": [
    {
     "data": {
      "text/html": [
       "<div>\n",
       "<style scoped>\n",
       "    .dataframe tbody tr th:only-of-type {\n",
       "        vertical-align: middle;\n",
       "    }\n",
       "\n",
       "    .dataframe tbody tr th {\n",
       "        vertical-align: top;\n",
       "    }\n",
       "\n",
       "    .dataframe thead th {\n",
       "        text-align: right;\n",
       "    }\n",
       "</style>\n",
       "<table border=\"1\" class=\"dataframe\">\n",
       "  <thead>\n",
       "    <tr style=\"text-align: right;\">\n",
       "      <th></th>\n",
       "      <th>customer_id</th>\n",
       "      <th>prediction</th>\n",
       "    </tr>\n",
       "  </thead>\n",
       "  <tbody>\n",
       "    <tr>\n",
       "      <th>0</th>\n",
       "      <td>00000dbacae5abe5e23885899a1fa44253a17956c6d1c3...</td>\n",
       "      <td>0568597007 0706016001 0706016002 0372860001 06...</td>\n",
       "    </tr>\n",
       "    <tr>\n",
       "      <th>1</th>\n",
       "      <td>0000423b00ade91418cceaf3b26c6af3dd342b51fd051e...</td>\n",
       "      <td>0776237020 0688537005 0589599036 0838357002 04...</td>\n",
       "    </tr>\n",
       "    <tr>\n",
       "      <th>2</th>\n",
       "      <td>000058a12d5b43e67d225668fa1f8d618c13dc232df0ca...</td>\n",
       "      <td>0458543001 0458543009 0838055001 0823505002 07...</td>\n",
       "    </tr>\n",
       "    <tr>\n",
       "      <th>3</th>\n",
       "      <td>00005ca1c9ed5f5146b52ac8639a40ca9d57aeff4d1bd2...</td>\n",
       "      <td>0706016001 0706016002 0372860001 0610776002 0...</td>\n",
       "    </tr>\n",
       "    <tr>\n",
       "      <th>4</th>\n",
       "      <td>00006413d8573cd20ed7128e53b7b13819fe5cfc2d801f...</td>\n",
       "      <td>0692721005 0706016001 0706016002 0372860001 06...</td>\n",
       "    </tr>\n",
       "    <tr>\n",
       "      <th>...</th>\n",
       "      <td>...</td>\n",
       "      <td>...</td>\n",
       "    </tr>\n",
       "    <tr>\n",
       "      <th>1371975</th>\n",
       "      <td>ffffbbf78b6eaac697a8a5dfbfd2bfa8113ee5b403e474...</td>\n",
       "      <td>0706016001 0706016002 0372860001 0610776002 0...</td>\n",
       "    </tr>\n",
       "    <tr>\n",
       "      <th>1371976</th>\n",
       "      <td>ffffcd5046a6143d29a04fb8c424ce494a76e5cdf4fab5...</td>\n",
       "      <td>0854677001 0776237020 0838357002 0624486064 05...</td>\n",
       "    </tr>\n",
       "    <tr>\n",
       "      <th>1371977</th>\n",
       "      <td>ffffcf35913a0bee60e8741cb2b4e78b8a98ee5ff2e6a1...</td>\n",
       "      <td>0573716002 0573716050 0706016006 0706016006 07...</td>\n",
       "    </tr>\n",
       "    <tr>\n",
       "      <th>1371978</th>\n",
       "      <td>ffffd7744cebcf3aca44ae7049d2a94b87074c3d4ffe38...</td>\n",
       "      <td>0706016001 0706016002 0372860001 0610776002 0...</td>\n",
       "    </tr>\n",
       "    <tr>\n",
       "      <th>1371979</th>\n",
       "      <td>ffffd9ac14e89946416d80e791d064701994755c3ab686...</td>\n",
       "      <td>0706016001 0706016002 0372860001 0610776002 0...</td>\n",
       "    </tr>\n",
       "  </tbody>\n",
       "</table>\n",
       "<p>1371980 rows × 2 columns</p>\n",
       "</div>"
      ],
      "text/plain": [
       "                                               customer_id  \\\n",
       "0        00000dbacae5abe5e23885899a1fa44253a17956c6d1c3...   \n",
       "1        0000423b00ade91418cceaf3b26c6af3dd342b51fd051e...   \n",
       "2        000058a12d5b43e67d225668fa1f8d618c13dc232df0ca...   \n",
       "3        00005ca1c9ed5f5146b52ac8639a40ca9d57aeff4d1bd2...   \n",
       "4        00006413d8573cd20ed7128e53b7b13819fe5cfc2d801f...   \n",
       "...                                                    ...   \n",
       "1371975  ffffbbf78b6eaac697a8a5dfbfd2bfa8113ee5b403e474...   \n",
       "1371976  ffffcd5046a6143d29a04fb8c424ce494a76e5cdf4fab5...   \n",
       "1371977  ffffcf35913a0bee60e8741cb2b4e78b8a98ee5ff2e6a1...   \n",
       "1371978  ffffd7744cebcf3aca44ae7049d2a94b87074c3d4ffe38...   \n",
       "1371979  ffffd9ac14e89946416d80e791d064701994755c3ab686...   \n",
       "\n",
       "                                                prediction  \n",
       "0        0568597007 0706016001 0706016002 0372860001 06...  \n",
       "1        0776237020 0688537005 0589599036 0838357002 04...  \n",
       "2        0458543001 0458543009 0838055001 0823505002 07...  \n",
       "3         0706016001 0706016002 0372860001 0610776002 0...  \n",
       "4        0692721005 0706016001 0706016002 0372860001 06...  \n",
       "...                                                    ...  \n",
       "1371975   0706016001 0706016002 0372860001 0610776002 0...  \n",
       "1371976  0854677001 0776237020 0838357002 0624486064 05...  \n",
       "1371977  0573716002 0573716050 0706016006 0706016006 07...  \n",
       "1371978   0706016001 0706016002 0372860001 0610776002 0...  \n",
       "1371979   0706016001 0706016002 0372860001 0610776002 0...  \n",
       "\n",
       "[1371980 rows x 2 columns]"
      ]
     },
     "execution_count": 68,
     "metadata": {},
     "output_type": "execute_result"
    }
   ],
   "source": [
    "baseline = \" 0706016001 0706016002 0372860001 0610776002 0759871002 0464297007 0372860002 0610776001 0399223001 0706016003 0720125001 0156231001\"\n",
    "df_submission_test_baseline['prediction'] = df_submission_test_baseline['prediction'] + baseline\n",
    "df_submission_test_baseline"
   ]
  },
  {
   "cell_type": "code",
   "execution_count": 78,
   "metadata": {},
   "outputs": [],
   "source": [
    "df_submission_test_baseline['prediction'].fillna(value=baseline, inplace=True)"
   ]
  },
  {
   "cell_type": "code",
   "execution_count": 80,
   "metadata": {},
   "outputs": [
    {
     "name": "stdout",
     "output_type": "stream",
     "text": [
      "<class 'pandas.core.frame.DataFrame'>\n",
      "Int64Index: 1371980 entries, 0 to 1371979\n",
      "Data columns (total 2 columns):\n",
      " #   Column       Non-Null Count    Dtype \n",
      "---  ------       --------------    ----- \n",
      " 0   customer_id  1371980 non-null  object\n",
      " 1   prediction   1371980 non-null  object\n",
      "dtypes: object(2)\n",
      "memory usage: 31.4+ MB\n"
     ]
    }
   ],
   "source": [
    "df_submission_test_baseline.info()"
   ]
  },
  {
   "cell_type": "code",
   "execution_count": 81,
   "metadata": {},
   "outputs": [],
   "source": [
    "# Store submission file as csv:\n",
    "df_submission_test_baseline.to_csv('../data/MBA_Baseline_20220504_submission_wardrobesize_2-20.csv', index = False)"
   ]
  },
  {
   "cell_type": "code",
   "execution_count": null,
   "metadata": {},
   "outputs": [],
   "source": []
  }
 ],
 "metadata": {
  "interpreter": {
   "hash": "6dc839308f78902ab8919870d8b0efc1a24d6ce128a31abf7bd1f309bd1934dd"
  },
  "kernelspec": {
   "display_name": "Python 3.9.4 ('.venv': venv)",
   "language": "python",
   "name": "python3"
  },
  "language_info": {
   "codemirror_mode": {
    "name": "ipython",
    "version": 3
   },
   "file_extension": ".py",
   "mimetype": "text/x-python",
   "name": "python",
   "nbconvert_exporter": "python",
   "pygments_lexer": "ipython3",
   "version": "3.9.4"
  },
  "orig_nbformat": 4
 },
 "nbformat": 4,
 "nbformat_minor": 2
}
