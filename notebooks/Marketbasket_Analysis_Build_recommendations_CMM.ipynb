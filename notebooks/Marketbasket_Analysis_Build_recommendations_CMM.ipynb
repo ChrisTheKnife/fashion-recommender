{
 "cells": [
  {
   "cell_type": "code",
   "execution_count": 1,
   "metadata": {},
   "outputs": [],
   "source": [
    "import pandas as pd\n",
    "import numpy as np\n",
    "import seaborn as sns\n",
    "import matplotlib.pyplot as plt\n",
    "from tqdm import tqdm\n",
    "import warnings\n",
    "warnings.filterwarnings('ignore')"
   ]
  },
  {
   "cell_type": "code",
   "execution_count": 20,
   "metadata": {},
   "outputs": [],
   "source": [
    "# Load association results:\n",
    "\n",
    "association_results_df = pd.read_csv('../data/20220429_association_results_wardrobesize_2-20_wo_none.csv', \\\n",
    "    index_col=0,  dtype={'antecedants':'string', 'consequents':'string'})\n",
    "\n",
    "association_results_df.sort_values('lift', ascending=False, inplace=True)\n",
    "association_results_df"
   ]
  },
  {
   "cell_type": "code",
   "execution_count": 26,
   "metadata": {},
   "outputs": [],
   "source": [
    "# Generate wardrobe table:\n",
    "df_trans = pd.read_csv('../data/transactions_train.csv', dtype={'article_id':'string'})\n",
    "df_trans_red = df_trans.drop(columns=['t_dat', 'price', 'sales_channel_id']).copy()\n",
    "df_wardrobe = df_trans_red.groupby('customer_id')['article_id'].aggregate(lambda x: list(x)).reset_index()\n"
   ]
  },
  {
   "cell_type": "code",
   "execution_count": 38,
   "metadata": {},
   "outputs": [],
   "source": [
    "# Clear memory\n",
    "del [[df_trans,df_trans_red]]"
   ]
  },
  {
   "cell_type": "code",
   "execution_count": 39,
   "metadata": {},
   "outputs": [
    {
     "data": {
      "text/html": [
       "<div>\n",
       "<style scoped>\n",
       "    .dataframe tbody tr th:only-of-type {\n",
       "        vertical-align: middle;\n",
       "    }\n",
       "\n",
       "    .dataframe tbody tr th {\n",
       "        vertical-align: top;\n",
       "    }\n",
       "\n",
       "    .dataframe thead th {\n",
       "        text-align: right;\n",
       "    }\n",
       "</style>\n",
       "<table border=\"1\" class=\"dataframe\">\n",
       "  <thead>\n",
       "    <tr style=\"text-align: right;\">\n",
       "      <th></th>\n",
       "      <th>customer_id</th>\n",
       "      <th>article_id</th>\n",
       "    </tr>\n",
       "  </thead>\n",
       "  <tbody>\n",
       "    <tr>\n",
       "      <th>0</th>\n",
       "      <td>00000dbacae5abe5e23885899a1fa44253a17956c6d1c3...</td>\n",
       "      <td>[0625548001, 0176209023, 0627759010, 069713800...</td>\n",
       "    </tr>\n",
       "    <tr>\n",
       "      <th>1</th>\n",
       "      <td>0000423b00ade91418cceaf3b26c6af3dd342b51fd051e...</td>\n",
       "      <td>[0583558001, 0639677008, 0640244003, 052126900...</td>\n",
       "    </tr>\n",
       "    <tr>\n",
       "      <th>2</th>\n",
       "      <td>000058a12d5b43e67d225668fa1f8d618c13dc232df0ca...</td>\n",
       "      <td>[0663713001, 0541518023, 0663713001, 057802000...</td>\n",
       "    </tr>\n",
       "    <tr>\n",
       "      <th>3</th>\n",
       "      <td>00005ca1c9ed5f5146b52ac8639a40ca9d57aeff4d1bd2...</td>\n",
       "      <td>[0742079001, 0732413001]</td>\n",
       "    </tr>\n",
       "    <tr>\n",
       "      <th>4</th>\n",
       "      <td>00006413d8573cd20ed7128e53b7b13819fe5cfc2d801f...</td>\n",
       "      <td>[0634249005, 0677049001, 0698286003, 070770400...</td>\n",
       "    </tr>\n",
       "  </tbody>\n",
       "</table>\n",
       "</div>"
      ],
      "text/plain": [
       "                                         customer_id  \\\n",
       "0  00000dbacae5abe5e23885899a1fa44253a17956c6d1c3...   \n",
       "1  0000423b00ade91418cceaf3b26c6af3dd342b51fd051e...   \n",
       "2  000058a12d5b43e67d225668fa1f8d618c13dc232df0ca...   \n",
       "3  00005ca1c9ed5f5146b52ac8639a40ca9d57aeff4d1bd2...   \n",
       "4  00006413d8573cd20ed7128e53b7b13819fe5cfc2d801f...   \n",
       "\n",
       "                                          article_id  \n",
       "0  [0625548001, 0176209023, 0627759010, 069713800...  \n",
       "1  [0583558001, 0639677008, 0640244003, 052126900...  \n",
       "2  [0663713001, 0541518023, 0663713001, 057802000...  \n",
       "3                           [0742079001, 0732413001]  \n",
       "4  [0634249005, 0677049001, 0698286003, 070770400...  "
      ]
     },
     "execution_count": 39,
     "metadata": {},
     "output_type": "execute_result"
    }
   ],
   "source": [
    "df_wardrobe.head()\n"
   ]
  },
  {
   "cell_type": "code",
   "execution_count": 43,
   "metadata": {},
   "outputs": [],
   "source": [
    "# Add 'number of articles' column (needed to generate smaller dataset) and sort descending:\n",
    "\n",
    "df_wardrobe['no_articles'] = df_wardrobe.article_id.apply(lambda x: len(x))\n",
    "df_wardrobe.sort_values('no_articles', ascending=False, inplace=True)"
   ]
  },
  {
   "cell_type": "code",
   "execution_count": 144,
   "metadata": {},
   "outputs": [],
   "source": [
    "# Select a sample for testing code\n",
    "# df_sample = df_wardrobe.sample(n=1000000, random_state=42)\n",
    "# df_sample.sort_values('no_articles', ascending=False)\n",
    "\n",
    "df_sample = df_wardrobe"
   ]
  },
  {
   "cell_type": "code",
   "execution_count": 145,
   "metadata": {},
   "outputs": [],
   "source": [
    "# Generate empty column for recommendation\n",
    "df_sample['reco'] = df_sample.apply(lambda x: [], axis=1)"
   ]
  },
  {
   "cell_type": "code",
   "execution_count": 146,
   "metadata": {},
   "outputs": [],
   "source": [
    "# Append consequents as list\n",
    "\n",
    "for i in range(len(df_sample)):\n",
    "    for j in range(len(association_results_df)):\n",
    "        if association_results_df.antecedants.iloc[j] in df_sample.article_id.iloc[i]:\n",
    "            if association_results_df.consequents.iloc[j] not in df_sample.article_id.iloc[i]:\n",
    "                df_sample['reco'].iloc[i].append(association_results_df.consequents.iloc[j])\n",
    "            \n",
    "\n",
    "# sort consequents by lift-value"
   ]
  },
  {
   "cell_type": "code",
   "execution_count": 1,
   "metadata": {},
   "outputs": [
    {
     "ename": "NameError",
     "evalue": "name 'df_sample' is not defined",
     "output_type": "error",
     "traceback": [
      "\u001b[0;31m---------------------------------------------------------------------------\u001b[0m",
      "\u001b[0;31mNameError\u001b[0m                                 Traceback (most recent call last)",
      "\u001b[1;32m/Users/c_messerschmidt/Documents/neuefische/fashion-recommender/notebooks/Marketbasket_Analysis_Build_recommendations_CMM.ipynb Cell 10'\u001b[0m in \u001b[0;36m<cell line: 1>\u001b[0;34m()\u001b[0m\n\u001b[0;32m----> <a href='vscode-notebook-cell:/Users/c_messerschmidt/Documents/neuefische/fashion-recommender/notebooks/Marketbasket_Analysis_Build_recommendations_CMM.ipynb#ch0000009?line=0'>1</a>\u001b[0m df_sample[\u001b[39m'\u001b[39m\u001b[39mno_reco\u001b[39m\u001b[39m'\u001b[39m] \u001b[39m=\u001b[39m df_sample\u001b[39m.\u001b[39mreco\u001b[39m.\u001b[39mapply(\u001b[39mlambda\u001b[39;00m x: \u001b[39mlen\u001b[39m(x))\n\u001b[1;32m      <a href='vscode-notebook-cell:/Users/c_messerschmidt/Documents/neuefische/fashion-recommender/notebooks/Marketbasket_Analysis_Build_recommendations_CMM.ipynb#ch0000009?line=1'>2</a>\u001b[0m df_sample\u001b[39m.\u001b[39msort_values(\u001b[39m'\u001b[39m\u001b[39mno_reco\u001b[39m\u001b[39m'\u001b[39m, ascending\u001b[39m=\u001b[39m\u001b[39mFalse\u001b[39;00m)\u001b[39m.\u001b[39mhead()\n",
      "\u001b[0;31mNameError\u001b[0m: name 'df_sample' is not defined"
     ]
    }
   ],
   "source": [
    "df_sample['no_reco'] = df_sample.reco.apply(lambda x: len(x))\n",
    "df_sample.sort_values('no_reco', ascending=False).head()\n"
   ]
  },
  {
   "cell_type": "code",
   "execution_count": 151,
   "metadata": {},
   "outputs": [
    {
     "data": {
      "text/plain": [
       "324638"
      ]
     },
     "execution_count": 151,
     "metadata": {},
     "output_type": "execute_result"
    }
   ],
   "source": [
    "# Number of customer_ids with at least 1 recommendation:\n",
    "df_sample[df_sample['reco_len']>0].shape[0]"
   ]
  },
  {
   "cell_type": "code",
   "execution_count": 152,
   "metadata": {},
   "outputs": [],
   "source": [
    "# Store recommendations in csv:\n",
    "df_sample.to_csv('../data/20220429_all_cust_recommendations_wardrobesize_2-20.csv')"
   ]
  }
 ],
 "metadata": {
  "interpreter": {
   "hash": "6dc839308f78902ab8919870d8b0efc1a24d6ce128a31abf7bd1f309bd1934dd"
  },
  "kernelspec": {
   "display_name": "Python 3.9.4 ('.venv': venv)",
   "language": "python",
   "name": "python3"
  },
  "language_info": {
   "codemirror_mode": {
    "name": "ipython",
    "version": 3
   },
   "file_extension": ".py",
   "mimetype": "text/x-python",
   "name": "python",
   "nbconvert_exporter": "python",
   "pygments_lexer": "ipython3",
   "version": "3.9.4"
  },
  "orig_nbformat": 4
 },
 "nbformat": 4,
 "nbformat_minor": 2
}
