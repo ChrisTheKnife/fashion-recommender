{
 "cells": [
  {
   "cell_type": "code",
   "execution_count": 1,
   "metadata": {},
   "outputs": [
    {
     "name": "stderr",
     "output_type": "stream",
     "text": [
      "/Users/tirsin/Documents/neuefische/fashion_recommender/.venv/lib/python3.9/site-packages/tqdm/auto.py:22: TqdmWarning: IProgress not found. Please update jupyter and ipywidgets. See https://ipywidgets.readthedocs.io/en/stable/user_install.html\n",
      "  from .autonotebook import tqdm as notebook_tqdm\n"
     ]
    }
   ],
   "source": [
    "import pandas as pd\n",
    "import numpy as np\n",
    "from scipy.sparse import coo_matrix\n",
    "from sklearn.neighbors import NearestNeighbors\n",
    "from sklearn.metrics.pairwise import cosine_similarity, linear_kernel\n",
    "import matplotlib.pyplot as plt\n",
    "import matplotlib.image as mpimg\n",
    "import os\n",
    "from tqdm import tqdm\n",
    "import seaborn as sns\n",
    "from implicit.nearest_neighbours import bm25_weight\n",
    "from implicit.als import AlternatingLeastSquares\n",
    "from implicit.bpr import BayesianPersonalizedRanking\n",
    "from implicit.lmf import LogisticMatrixFactorization"
   ]
  },
  {
   "cell_type": "code",
   "execution_count": 2,
   "metadata": {},
   "outputs": [],
   "source": [
    "# import transactions, customer and article data\n",
    "df_trans = pd.read_csv('../data/h-and-m-personalized-fashion-recommendations/transactions_train.csv', parse_dates=[0], dtype={'article_id':'string'})\n",
    "df_art = pd.read_csv('../data/h-and-m-personalized-fashion-recommendations/articles.csv', dtype={'article_id':'string'})\n",
    "df_customers = pd.read_csv('../data/h-and-m-personalized-fashion-recommendations/customers.csv')"
   ]
  },
  {
   "cell_type": "code",
   "execution_count": 3,
   "metadata": {},
   "outputs": [],
   "source": [
    "# exclude parts of the data to reduce computational expense\n",
    "# test period\n",
    "#df = df_trans.query('t_dat <= \"2020-09-15\"').copy()\n",
    "#\n",
    "df = df_trans.query('(t_dat >= \"2018-09-01\" and t_dat < \"2018-10-01\") or (t_dat >= \"2019-09-01\" and t_dat < \"2019-10-01\")').copy()\n",
    "#df = df_trans.copy()\n",
    "\n",
    "# exclude users with less than 5 items in history\n",
    "#n_items_per_user = df.groupby('customer_id').count().article_id.rename('n_items')\n",
    "#df['n_items'] = df.customer_id.map(n_items_per_user)\n",
    "#df = df[df.loc[:, 'n_items'] > 4]\n",
    "\n",
    "# keep only users that have bought between 10 and 90 % of their items online\n",
    "#n_items_per_channel = df.groupby(['customer_id', 'sales_channel_id']).count().article_id\n",
    "#tmp1 = n_items_per_channel.reset_index().query('sales_channel_id == 1').set_index('customer_id').article_id.rename('offline_items')\n",
    "#tmp2 = n_items_per_channel.reset_index().query('sales_channel_id == 2').set_index('customer_id').article_id.rename('online_items')\n",
    "#online_fac = pd.concat([tmp1, tmp2], axis=1).fillna(0.0)\n",
    "#online_fac['online_fac'] = online_fac.online_items/(online_fac.online_items + online_fac.offline_items)\n",
    "#df['online_fac'] = df.customer_id.map(online_fac.online_fac).fillna(0.0)\n",
    "#df = df.query('online_fac > 0.1 and online_fac < 0.9').copy()"
   ]
  },
  {
   "cell_type": "code",
   "execution_count": 4,
   "metadata": {},
   "outputs": [
    {
     "data": {
      "text/plain": [
       "333333"
      ]
     },
     "execution_count": 4,
     "metadata": {},
     "output_type": "execute_result"
    }
   ],
   "source": [
    "df.customer_id.nunique()"
   ]
  },
  {
   "cell_type": "code",
   "execution_count": 5,
   "metadata": {},
   "outputs": [
    {
     "name": "stdout",
     "output_type": "stream",
     "text": [
      "<class 'pandas.core.frame.DataFrame'>\n",
      "Int64Index: 1821954 entries, 0 to 17345071\n",
      "Data columns (total 5 columns):\n",
      " #   Column            Dtype         \n",
      "---  ------            -----         \n",
      " 0   t_dat             datetime64[ns]\n",
      " 1   customer_id       object        \n",
      " 2   article_id        string        \n",
      " 3   price             float64       \n",
      " 4   sales_channel_id  int64         \n",
      "dtypes: datetime64[ns](1), float64(1), int64(1), object(1), string(1)\n",
      "memory usage: 83.4+ MB\n"
     ]
    }
   ],
   "source": [
    "df.info()"
   ]
  },
  {
   "cell_type": "code",
   "execution_count": 6,
   "metadata": {},
   "outputs": [
    {
     "data": {
      "text/html": [
       "<div>\n",
       "<style scoped>\n",
       "    .dataframe tbody tr th:only-of-type {\n",
       "        vertical-align: middle;\n",
       "    }\n",
       "\n",
       "    .dataframe tbody tr th {\n",
       "        vertical-align: top;\n",
       "    }\n",
       "\n",
       "    .dataframe thead th {\n",
       "        text-align: right;\n",
       "    }\n",
       "</style>\n",
       "<table border=\"1\" class=\"dataframe\">\n",
       "  <thead>\n",
       "    <tr style=\"text-align: right;\">\n",
       "      <th></th>\n",
       "      <th>customer_id</th>\n",
       "      <th>article_id</th>\n",
       "      <th>interactions</th>\n",
       "    </tr>\n",
       "  </thead>\n",
       "  <tbody>\n",
       "    <tr>\n",
       "      <th>0</th>\n",
       "      <td>00000dbacae5abe5e23885899a1fa44253a17956c6d1c3...</td>\n",
       "      <td>0656719005</td>\n",
       "      <td>1</td>\n",
       "    </tr>\n",
       "    <tr>\n",
       "      <th>1</th>\n",
       "      <td>00000dbacae5abe5e23885899a1fa44253a17956c6d1c3...</td>\n",
       "      <td>0797065001</td>\n",
       "      <td>2</td>\n",
       "    </tr>\n",
       "    <tr>\n",
       "      <th>2</th>\n",
       "      <td>0000423b00ade91418cceaf3b26c6af3dd342b51fd051e...</td>\n",
       "      <td>0521269001</td>\n",
       "      <td>1</td>\n",
       "    </tr>\n",
       "    <tr>\n",
       "      <th>3</th>\n",
       "      <td>0000423b00ade91418cceaf3b26c6af3dd342b51fd051e...</td>\n",
       "      <td>0583558001</td>\n",
       "      <td>2</td>\n",
       "    </tr>\n",
       "    <tr>\n",
       "      <th>4</th>\n",
       "      <td>0000423b00ade91418cceaf3b26c6af3dd342b51fd051e...</td>\n",
       "      <td>0639677008</td>\n",
       "      <td>1</td>\n",
       "    </tr>\n",
       "    <tr>\n",
       "      <th>...</th>\n",
       "      <td>...</td>\n",
       "      <td>...</td>\n",
       "      <td>...</td>\n",
       "    </tr>\n",
       "    <tr>\n",
       "      <th>1601835</th>\n",
       "      <td>ffffcd5046a6143d29a04fb8c424ce494a76e5cdf4fab5...</td>\n",
       "      <td>0671695001</td>\n",
       "      <td>1</td>\n",
       "    </tr>\n",
       "    <tr>\n",
       "      <th>1601836</th>\n",
       "      <td>ffffcf35913a0bee60e8741cb2b4e78b8a98ee5ff2e6a1...</td>\n",
       "      <td>0568597019</td>\n",
       "      <td>1</td>\n",
       "    </tr>\n",
       "    <tr>\n",
       "      <th>1601837</th>\n",
       "      <td>ffffcf35913a0bee60e8741cb2b4e78b8a98ee5ff2e6a1...</td>\n",
       "      <td>0573716012</td>\n",
       "      <td>1</td>\n",
       "    </tr>\n",
       "    <tr>\n",
       "      <th>1601838</th>\n",
       "      <td>ffffcf35913a0bee60e8741cb2b4e78b8a98ee5ff2e6a1...</td>\n",
       "      <td>0781613006</td>\n",
       "      <td>1</td>\n",
       "    </tr>\n",
       "    <tr>\n",
       "      <th>1601839</th>\n",
       "      <td>ffffcf35913a0bee60e8741cb2b4e78b8a98ee5ff2e6a1...</td>\n",
       "      <td>0792782001</td>\n",
       "      <td>1</td>\n",
       "    </tr>\n",
       "  </tbody>\n",
       "</table>\n",
       "<p>1601840 rows × 3 columns</p>\n",
       "</div>"
      ],
      "text/plain": [
       "                                               customer_id  article_id  \\\n",
       "0        00000dbacae5abe5e23885899a1fa44253a17956c6d1c3...  0656719005   \n",
       "1        00000dbacae5abe5e23885899a1fa44253a17956c6d1c3...  0797065001   \n",
       "2        0000423b00ade91418cceaf3b26c6af3dd342b51fd051e...  0521269001   \n",
       "3        0000423b00ade91418cceaf3b26c6af3dd342b51fd051e...  0583558001   \n",
       "4        0000423b00ade91418cceaf3b26c6af3dd342b51fd051e...  0639677008   \n",
       "...                                                    ...         ...   \n",
       "1601835  ffffcd5046a6143d29a04fb8c424ce494a76e5cdf4fab5...  0671695001   \n",
       "1601836  ffffcf35913a0bee60e8741cb2b4e78b8a98ee5ff2e6a1...  0568597019   \n",
       "1601837  ffffcf35913a0bee60e8741cb2b4e78b8a98ee5ff2e6a1...  0573716012   \n",
       "1601838  ffffcf35913a0bee60e8741cb2b4e78b8a98ee5ff2e6a1...  0781613006   \n",
       "1601839  ffffcf35913a0bee60e8741cb2b4e78b8a98ee5ff2e6a1...  0792782001   \n",
       "\n",
       "         interactions  \n",
       "0                   1  \n",
       "1                   2  \n",
       "2                   1  \n",
       "3                   2  \n",
       "4                   1  \n",
       "...               ...  \n",
       "1601835             1  \n",
       "1601836             1  \n",
       "1601837             1  \n",
       "1601838             1  \n",
       "1601839             1  \n",
       "\n",
       "[1601840 rows x 3 columns]"
      ]
     },
     "execution_count": 6,
     "metadata": {},
     "output_type": "execute_result"
    }
   ],
   "source": [
    "# compute user-item interactions\n",
    "df_int = df.groupby(['customer_id', 'article_id']).t_dat.count().reset_index()\n",
    "df_int.rename(columns={'t_dat':'interactions'}, inplace=True)\n",
    "df_int"
   ]
  },
  {
   "cell_type": "code",
   "execution_count": 7,
   "metadata": {},
   "outputs": [
    {
     "name": "stdout",
     "output_type": "stream",
     "text": [
      "Sample size: 333333 user and 49805 items in 1821954 transactions.\n",
      "Sum of interactions: 1821954\n"
     ]
    }
   ],
   "source": [
    "n_users = df_int.customer_id.nunique()\n",
    "n_items = df_int.article_id.nunique()\n",
    "n_records = len(df)\n",
    "print(f'Sample size: {n_users} user and {n_items} items in {n_records} transactions.')\n",
    "print(f'Sum of interactions: {df_int.interactions.sum()}')"
   ]
  },
  {
   "cell_type": "code",
   "execution_count": 8,
   "metadata": {},
   "outputs": [],
   "source": [
    "# create utility matrix Y\n",
    "# rows represent items, columns represent users\n",
    "# note: users with no transactions and items never sold are not included\n",
    "n_users = df_int.customer_id.nunique()\n",
    "n_items = df_int.article_id.nunique()\n",
    "user_ids = df_int.customer_id.unique()\n",
    "item_ids = df_int.article_id.unique()\n",
    "\n",
    "item_id_map = dict([(item_id, i) for i, item_id in enumerate(item_ids)])\n",
    "item_id_map_rev = dict([(i, item_id) for i, item_id in enumerate(item_ids)])\n",
    "user_id_map = dict([(user_id, j) for j, user_id in enumerate(user_ids)])\n",
    "user_id_map_rev = dict([(j, user_id) for j, user_id in enumerate(user_ids)])\n",
    "\n",
    "df_int['i'] = df_int.article_id.apply(lambda id: item_id_map[id])\n",
    "df_int['j'] = df_int.customer_id.apply(lambda id: user_id_map[id])\n",
    "\n",
    "# create sparse matrix\n",
    "Y = coo_matrix((df_int.interactions, (df_int['i'], df_int['j'])), shape=(n_items,n_users))\n",
    "Y = bm25_weight(Y, K1=100, B=0.8)\n",
    "Y_csr = Y.T.tocsr()\n"
   ]
  },
  {
   "cell_type": "code",
   "execution_count": 9,
   "metadata": {},
   "outputs": [
    {
     "name": "stdout",
     "output_type": "stream",
     "text": [
      "Matrix sparsity:  0.01\n"
     ]
    }
   ],
   "source": [
    "# check sparsity ratio\n",
    "n_total = Y.shape[0]*Y.shape[1]\n",
    "n_ratings = Y.nnz\n",
    "sparsity = n_ratings/n_total\n",
    "print('Matrix sparsity: ', round(sparsity*100, 2))"
   ]
  },
  {
   "cell_type": "code",
   "execution_count": 12,
   "metadata": {},
   "outputs": [
    {
     "name": "stderr",
     "output_type": "stream",
     "text": [
      "/Users/tirsin/Documents/neuefische/fashion_recommender/.venv/lib/python3.9/site-packages/implicit/utils.py:26: UserWarning: OpenBLAS detected. Its highly recommend to set the environment variable 'export OPENBLAS_NUM_THREADS=1' to disable its internal multithreading\n",
      "  warnings.warn(\n",
      "100%|██████████| 30/30 [53:02<00:00, 106.08s/it]\n"
     ]
    }
   ],
   "source": [
    "# best results so far: 1280 factors\n",
    "model_als = AlternatingLeastSquares(factors=640, regularization=0.05, num_threads=0, iterations=30)\n",
    "model_als.fit(2 * Y_csr)"
   ]
  },
  {
   "cell_type": "code",
   "execution_count": 11,
   "metadata": {},
   "outputs": [
    {
     "name": "stderr",
     "output_type": "stream",
     "text": [
      "100%|██████████| 30/30 [01:02<00:00,  2.10s/it, train_auc=97.08%, skipped=0.18%]\n"
     ]
    }
   ],
   "source": [
    "model_bayesian = BayesianPersonalizedRanking(factors=640, regularization=0.05, num_threads=0, iterations=30, learning_rate=0.5)\n",
    "model_bayesian.fit(Y_csr)"
   ]
  },
  {
   "cell_type": "code",
   "execution_count": 11,
   "metadata": {},
   "outputs": [
    {
     "name": "stderr",
     "output_type": "stream",
     "text": [
      "100%|██████████| 30/30 [02:49<00:00,  5.64s/it, train_auc=97.04%, skipped=0.18%]\n"
     ]
    }
   ],
   "source": [
    "model_bayesian_factor_1280 = BayesianPersonalizedRanking(factors=1280, regularization=0.05, num_threads=0, iterations=30, learning_rate=0.5)\n",
    "model_bayesian_factor_1280.fit(Y_csr)"
   ]
  },
  {
   "cell_type": "code",
   "execution_count": 20,
   "metadata": {},
   "outputs": [
    {
     "name": "stderr",
     "output_type": "stream",
     "text": [
      "100%|██████████| 50/50 [1:17:40<00:00, 93.21s/it] \n"
     ]
    }
   ],
   "source": [
    "model_logistic = LogisticMatrixFactorization(factors=640, regularization=0.05, num_threads=0, iterations=50, learning_rate=0.1)\n",
    "model_logistic.fit(Y_csr)"
   ]
  },
  {
   "cell_type": "code",
   "execution_count": 21,
   "metadata": {},
   "outputs": [],
   "source": [
    "# predict full batch of users\n",
    "user_idx = [user_id_map[id] for id in user_ids]\n",
    "ids, scores = model_logistic.recommend(user_idx, Y_csr[user_idx], N=12, filter_already_liked_items=False)"
   ]
  },
  {
   "cell_type": "code",
   "execution_count": 12,
   "metadata": {},
   "outputs": [],
   "source": [
    "# predict full batch of users\n",
    "user_idx = [user_id_map[id] for id in user_ids]\n",
    "ids, scores = model_bayesian_factor_1280.recommend(user_idx, Y_csr[user_idx], N=12, filter_already_liked_items=False)"
   ]
  },
  {
   "cell_type": "code",
   "execution_count": 22,
   "metadata": {},
   "outputs": [
    {
     "data": {
      "text/plain": [
       "333333"
      ]
     },
     "execution_count": 22,
     "metadata": {},
     "output_type": "execute_result"
    }
   ],
   "source": [
    "len(user_idx)"
   ]
  },
  {
   "cell_type": "code",
   "execution_count": 23,
   "metadata": {},
   "outputs": [],
   "source": [
    "# convert from matrix indices to item ids\n",
    "tmp = pd.DataFrame(ids, index=user_ids)\n",
    "tmp = tmp.apply(lambda s: ' '.join(s.apply(lambda id: item_id_map_rev[id])), axis=1)"
   ]
  },
  {
   "cell_type": "code",
   "execution_count": 24,
   "metadata": {},
   "outputs": [
    {
     "data": {
      "text/plain": [
       "00000dbacae5abe5e23885899a1fa44253a17956c6d1c3d25f88aa139fdfc657    0546807001 0449099043 0737710005 0560214003 05...\n",
       "0000423b00ade91418cceaf3b26c6af3dd342b51fd051eec9c12fb36984420fa    0798579002 0565379005 0657434007 0703389001 06...\n",
       "000058a12d5b43e67d225668fa1f8d618c13dc232df0cad8ffe7ad4a1091e318    0783388001 0426013023 0324502008 0800895001 06...\n",
       "00007d2de826758b65a93dd24ce629ed66842531df6699338c5570910a014cc2    0603145014 0717479002 0785327002 0718370001 07...\n",
       "00009d946eec3ea54add5ba56d5210ea898def4b46c68570cf0096d962cacc75    0665329002 0691177002 0750565002 0730687001 06...\n",
       "dtype: object"
      ]
     },
     "execution_count": 24,
     "metadata": {},
     "output_type": "execute_result"
    }
   ],
   "source": [
    "tmp.head()"
   ]
  },
  {
   "cell_type": "code",
   "execution_count": 25,
   "metadata": {},
   "outputs": [],
   "source": [
    "# make frame containing all available individualized recommendations and join with customer table\n",
    "submission = pd.DataFrame({'prediction':tmp}, index=user_ids)\n",
    "submission = df_customers.join(submission, on='customer_id', how='left').set_index('customer_id')\n",
    "# now fill empty predictions with baseline\n",
    "baseline_prediction = '0706016001 0706016002 0372860001 0610776002 0759871002 0464297007 0372860002 0610776001 0399223001 0706016003 0720125001 0156231001'\n",
    "submission.fillna(baseline_prediction, inplace=True)\n"
   ]
  },
  {
   "cell_type": "code",
   "execution_count": 26,
   "metadata": {},
   "outputs": [
    {
     "data": {
      "text/html": [
       "<div>\n",
       "<style scoped>\n",
       "    .dataframe tbody tr th:only-of-type {\n",
       "        vertical-align: middle;\n",
       "    }\n",
       "\n",
       "    .dataframe tbody tr th {\n",
       "        vertical-align: top;\n",
       "    }\n",
       "\n",
       "    .dataframe thead th {\n",
       "        text-align: right;\n",
       "    }\n",
       "</style>\n",
       "<table border=\"1\" class=\"dataframe\">\n",
       "  <thead>\n",
       "    <tr style=\"text-align: right;\">\n",
       "      <th></th>\n",
       "      <th>FN</th>\n",
       "      <th>Active</th>\n",
       "      <th>club_member_status</th>\n",
       "      <th>fashion_news_frequency</th>\n",
       "      <th>age</th>\n",
       "      <th>postal_code</th>\n",
       "      <th>prediction</th>\n",
       "    </tr>\n",
       "    <tr>\n",
       "      <th>customer_id</th>\n",
       "      <th></th>\n",
       "      <th></th>\n",
       "      <th></th>\n",
       "      <th></th>\n",
       "      <th></th>\n",
       "      <th></th>\n",
       "      <th></th>\n",
       "    </tr>\n",
       "  </thead>\n",
       "  <tbody>\n",
       "    <tr>\n",
       "      <th>00000dbacae5abe5e23885899a1fa44253a17956c6d1c3d25f88aa139fdfc657</th>\n",
       "      <td>0706016001 0706016002 0372860001 0610776002 07...</td>\n",
       "      <td>0706016001 0706016002 0372860001 0610776002 07...</td>\n",
       "      <td>ACTIVE</td>\n",
       "      <td>NONE</td>\n",
       "      <td>49.0</td>\n",
       "      <td>52043ee2162cf5aa7ee79974281641c6f11a68d276429a...</td>\n",
       "      <td>0546807001 0449099043 0737710005 0560214003 05...</td>\n",
       "    </tr>\n",
       "    <tr>\n",
       "      <th>0000423b00ade91418cceaf3b26c6af3dd342b51fd051eec9c12fb36984420fa</th>\n",
       "      <td>0706016001 0706016002 0372860001 0610776002 07...</td>\n",
       "      <td>0706016001 0706016002 0372860001 0610776002 07...</td>\n",
       "      <td>ACTIVE</td>\n",
       "      <td>NONE</td>\n",
       "      <td>25.0</td>\n",
       "      <td>2973abc54daa8a5f8ccfe9362140c63247c5eee03f1d93...</td>\n",
       "      <td>0798579002 0565379005 0657434007 0703389001 06...</td>\n",
       "    </tr>\n",
       "    <tr>\n",
       "      <th>000058a12d5b43e67d225668fa1f8d618c13dc232df0cad8ffe7ad4a1091e318</th>\n",
       "      <td>0706016001 0706016002 0372860001 0610776002 07...</td>\n",
       "      <td>0706016001 0706016002 0372860001 0610776002 07...</td>\n",
       "      <td>ACTIVE</td>\n",
       "      <td>NONE</td>\n",
       "      <td>24.0</td>\n",
       "      <td>64f17e6a330a85798e4998f62d0930d14db8db1c054af6...</td>\n",
       "      <td>0783388001 0426013023 0324502008 0800895001 06...</td>\n",
       "    </tr>\n",
       "    <tr>\n",
       "      <th>00005ca1c9ed5f5146b52ac8639a40ca9d57aeff4d1bd2c5feb1ca5dff07c43e</th>\n",
       "      <td>0706016001 0706016002 0372860001 0610776002 07...</td>\n",
       "      <td>0706016001 0706016002 0372860001 0610776002 07...</td>\n",
       "      <td>ACTIVE</td>\n",
       "      <td>NONE</td>\n",
       "      <td>54.0</td>\n",
       "      <td>5d36574f52495e81f019b680c843c443bd343d5ca5b1c2...</td>\n",
       "      <td>0706016001 0706016002 0372860001 0610776002 07...</td>\n",
       "    </tr>\n",
       "    <tr>\n",
       "      <th>00006413d8573cd20ed7128e53b7b13819fe5cfc2d801fe7fc0f26dd8d65a85a</th>\n",
       "      <td>1.0</td>\n",
       "      <td>1.0</td>\n",
       "      <td>ACTIVE</td>\n",
       "      <td>Regularly</td>\n",
       "      <td>52.0</td>\n",
       "      <td>25fa5ddee9aac01b35208d01736e57942317d756b32ddd...</td>\n",
       "      <td>0706016001 0706016002 0372860001 0610776002 07...</td>\n",
       "    </tr>\n",
       "  </tbody>\n",
       "</table>\n",
       "</div>"
      ],
      "text/plain": [
       "                                                                                                   FN  \\\n",
       "customer_id                                                                                             \n",
       "00000dbacae5abe5e23885899a1fa44253a17956c6d1c3d...  0706016001 0706016002 0372860001 0610776002 07...   \n",
       "0000423b00ade91418cceaf3b26c6af3dd342b51fd051ee...  0706016001 0706016002 0372860001 0610776002 07...   \n",
       "000058a12d5b43e67d225668fa1f8d618c13dc232df0cad...  0706016001 0706016002 0372860001 0610776002 07...   \n",
       "00005ca1c9ed5f5146b52ac8639a40ca9d57aeff4d1bd2c...  0706016001 0706016002 0372860001 0610776002 07...   \n",
       "00006413d8573cd20ed7128e53b7b13819fe5cfc2d801fe...                                                1.0   \n",
       "\n",
       "                                                                                               Active  \\\n",
       "customer_id                                                                                             \n",
       "00000dbacae5abe5e23885899a1fa44253a17956c6d1c3d...  0706016001 0706016002 0372860001 0610776002 07...   \n",
       "0000423b00ade91418cceaf3b26c6af3dd342b51fd051ee...  0706016001 0706016002 0372860001 0610776002 07...   \n",
       "000058a12d5b43e67d225668fa1f8d618c13dc232df0cad...  0706016001 0706016002 0372860001 0610776002 07...   \n",
       "00005ca1c9ed5f5146b52ac8639a40ca9d57aeff4d1bd2c...  0706016001 0706016002 0372860001 0610776002 07...   \n",
       "00006413d8573cd20ed7128e53b7b13819fe5cfc2d801fe...                                                1.0   \n",
       "\n",
       "                                                   club_member_status  \\\n",
       "customer_id                                                             \n",
       "00000dbacae5abe5e23885899a1fa44253a17956c6d1c3d...             ACTIVE   \n",
       "0000423b00ade91418cceaf3b26c6af3dd342b51fd051ee...             ACTIVE   \n",
       "000058a12d5b43e67d225668fa1f8d618c13dc232df0cad...             ACTIVE   \n",
       "00005ca1c9ed5f5146b52ac8639a40ca9d57aeff4d1bd2c...             ACTIVE   \n",
       "00006413d8573cd20ed7128e53b7b13819fe5cfc2d801fe...             ACTIVE   \n",
       "\n",
       "                                                   fashion_news_frequency  \\\n",
       "customer_id                                                                 \n",
       "00000dbacae5abe5e23885899a1fa44253a17956c6d1c3d...                   NONE   \n",
       "0000423b00ade91418cceaf3b26c6af3dd342b51fd051ee...                   NONE   \n",
       "000058a12d5b43e67d225668fa1f8d618c13dc232df0cad...                   NONE   \n",
       "00005ca1c9ed5f5146b52ac8639a40ca9d57aeff4d1bd2c...                   NONE   \n",
       "00006413d8573cd20ed7128e53b7b13819fe5cfc2d801fe...              Regularly   \n",
       "\n",
       "                                                     age  \\\n",
       "customer_id                                                \n",
       "00000dbacae5abe5e23885899a1fa44253a17956c6d1c3d...  49.0   \n",
       "0000423b00ade91418cceaf3b26c6af3dd342b51fd051ee...  25.0   \n",
       "000058a12d5b43e67d225668fa1f8d618c13dc232df0cad...  24.0   \n",
       "00005ca1c9ed5f5146b52ac8639a40ca9d57aeff4d1bd2c...  54.0   \n",
       "00006413d8573cd20ed7128e53b7b13819fe5cfc2d801fe...  52.0   \n",
       "\n",
       "                                                                                          postal_code  \\\n",
       "customer_id                                                                                             \n",
       "00000dbacae5abe5e23885899a1fa44253a17956c6d1c3d...  52043ee2162cf5aa7ee79974281641c6f11a68d276429a...   \n",
       "0000423b00ade91418cceaf3b26c6af3dd342b51fd051ee...  2973abc54daa8a5f8ccfe9362140c63247c5eee03f1d93...   \n",
       "000058a12d5b43e67d225668fa1f8d618c13dc232df0cad...  64f17e6a330a85798e4998f62d0930d14db8db1c054af6...   \n",
       "00005ca1c9ed5f5146b52ac8639a40ca9d57aeff4d1bd2c...  5d36574f52495e81f019b680c843c443bd343d5ca5b1c2...   \n",
       "00006413d8573cd20ed7128e53b7b13819fe5cfc2d801fe...  25fa5ddee9aac01b35208d01736e57942317d756b32ddd...   \n",
       "\n",
       "                                                                                           prediction  \n",
       "customer_id                                                                                            \n",
       "00000dbacae5abe5e23885899a1fa44253a17956c6d1c3d...  0546807001 0449099043 0737710005 0560214003 05...  \n",
       "0000423b00ade91418cceaf3b26c6af3dd342b51fd051ee...  0798579002 0565379005 0657434007 0703389001 06...  \n",
       "000058a12d5b43e67d225668fa1f8d618c13dc232df0cad...  0783388001 0426013023 0324502008 0800895001 06...  \n",
       "00005ca1c9ed5f5146b52ac8639a40ca9d57aeff4d1bd2c...  0706016001 0706016002 0372860001 0610776002 07...  \n",
       "00006413d8573cd20ed7128e53b7b13819fe5cfc2d801fe...  0706016001 0706016002 0372860001 0610776002 07...  "
      ]
     },
     "execution_count": 26,
     "metadata": {},
     "output_type": "execute_result"
    }
   ],
   "source": [
    "submission.head()"
   ]
  },
  {
   "cell_type": "code",
   "execution_count": 27,
   "metadata": {},
   "outputs": [
    {
     "data": {
      "text/plain": [
       "'0546807001 0449099043 0737710005 0560214003 0564358046 0780418001 0507910001 0733098014 0741087001 0782880005 0785948007 0702757002'"
      ]
     },
     "execution_count": 27,
     "metadata": {},
     "output_type": "execute_result"
    }
   ],
   "source": [
    "submission.prediction[0]"
   ]
  },
  {
   "cell_type": "code",
   "execution_count": 28,
   "metadata": {},
   "outputs": [],
   "source": [
    "submission.loc[:, 'prediction'].to_csv('../data/sinan_logistic.csv')"
   ]
  },
  {
   "cell_type": "code",
   "execution_count": 17,
   "metadata": {},
   "outputs": [
    {
     "name": "stdout",
     "output_type": "stream",
     "text": [
      "JESSY SKIRT\n"
     ]
    }
   ],
   "source": [
    "# pick any article\n",
    "article_id = item_ids[37000]\n",
    "article_name = df_art.query('article_id == @article_id').prod_name.values[0]\n",
    "print(article_name)"
   ]
  },
  {
   "cell_type": "code",
   "execution_count": 18,
   "metadata": {},
   "outputs": [
    {
     "ename": "NameError",
     "evalue": "name 'item_predictions' is not defined",
     "output_type": "error",
     "traceback": [
      "\u001b[0;31m---------------------------------------------------------------------------\u001b[0m",
      "\u001b[0;31mNameError\u001b[0m                                 Traceback (most recent call last)",
      "\u001b[1;32m/Users/tirsin/Documents/neuefische/fashion_recommender/notebooks/recommender_implicit.ipynb Cell 18'\u001b[0m in \u001b[0;36m<cell line: 1>\u001b[0;34m()\u001b[0m\n\u001b[0;32m----> <a href='vscode-notebook-cell:/Users/tirsin/Documents/neuefische/fashion_recommender/notebooks/recommender_implicit.ipynb#ch0000017?line=0'>1</a>\u001b[0m similar_items \u001b[39m=\u001b[39m item_predictions\u001b[39m.\u001b[39mloc[article_id]\u001b[39m.\u001b[39mprediction\u001b[39m.\u001b[39msplit(\u001b[39m'\u001b[39m\u001b[39m \u001b[39m\u001b[39m'\u001b[39m)\n",
      "\u001b[0;31mNameError\u001b[0m: name 'item_predictions' is not defined"
     ]
    }
   ],
   "source": [
    "similar_items = item_predictions.loc[article_id].prediction.split(' ') "
   ]
  },
  {
   "cell_type": "code",
   "execution_count": 22,
   "metadata": {},
   "outputs": [],
   "source": [
    "item_names = dict(zip(df_art.article_id, df_art.prod_name))"
   ]
  },
  {
   "cell_type": "code",
   "execution_count": 21,
   "metadata": {},
   "outputs": [
    {
     "ename": "NameError",
     "evalue": "name 'similar_items' is not defined",
     "output_type": "error",
     "traceback": [
      "\u001b[0;31m---------------------------------------------------------------------------\u001b[0m",
      "\u001b[0;31mNameError\u001b[0m                                 Traceback (most recent call last)",
      "\u001b[1;32m/Users/tirsin/Documents/neuefische/fashion_recommender/notebooks/recommender_implicit.ipynb Cell 20'\u001b[0m in \u001b[0;36m<cell line: 4>\u001b[0;34m()\u001b[0m\n\u001b[1;32m     <a href='vscode-notebook-cell:/Users/tirsin/Documents/neuefische/fashion_recommender/notebooks/recommender_implicit.ipynb#ch0000019?line=10'>11</a>\u001b[0m     full_path \u001b[39m=\u001b[39m os\u001b[39m.\u001b[39mpath\u001b[39m.\u001b[39mjoin(\u001b[39m'\u001b[39m\u001b[39m../data\u001b[39m\u001b[39m'\u001b[39m, \u001b[39m'\u001b[39m\u001b[39mimages\u001b[39m\u001b[39m'\u001b[39m, subdir, fname)\n\u001b[1;32m     <a href='vscode-notebook-cell:/Users/tirsin/Documents/neuefische/fashion_recommender/notebooks/recommender_implicit.ipynb#ch0000019?line=11'>12</a>\u001b[0m \u001b[39melse\u001b[39;00m:\n\u001b[0;32m---> <a href='vscode-notebook-cell:/Users/tirsin/Documents/neuefische/fashion_recommender/notebooks/recommender_implicit.ipynb#ch0000019?line=12'>13</a>\u001b[0m     fname \u001b[39m=\u001b[39m similar_items[c] \u001b[39m+\u001b[39m \u001b[39m'\u001b[39m\u001b[39m.jpg\u001b[39m\u001b[39m'\u001b[39m\n\u001b[1;32m     <a href='vscode-notebook-cell:/Users/tirsin/Documents/neuefische/fashion_recommender/notebooks/recommender_implicit.ipynb#ch0000019?line=13'>14</a>\u001b[0m     subdir \u001b[39m=\u001b[39m fname[\u001b[39m0\u001b[39m:\u001b[39m3\u001b[39m]\n\u001b[1;32m     <a href='vscode-notebook-cell:/Users/tirsin/Documents/neuefische/fashion_recommender/notebooks/recommender_implicit.ipynb#ch0000019?line=14'>15</a>\u001b[0m     full_path \u001b[39m=\u001b[39m os\u001b[39m.\u001b[39mpath\u001b[39m.\u001b[39mjoin(\u001b[39m'\u001b[39m\u001b[39m../data\u001b[39m\u001b[39m'\u001b[39m, \u001b[39m'\u001b[39m\u001b[39mimages\u001b[39m\u001b[39m'\u001b[39m, subdir, fname)\n",
      "\u001b[0;31mNameError\u001b[0m: name 'similar_items' is not defined"
     ]
    },
    {
     "data": {
      "image/png": "[encoded data removed]",
      "text/plain": [
       "<Figure size 1800x1440 with 16 Axes>"
      ]
     },
     "metadata": {
      "needs_background": "light"
     },
     "output_type": "display_data"
    }
   ],
   "source": [
    "# display results\n",
    "fig, axs = plt.subplots(4, 4, figsize=(25, 20))\n",
    "c = 0\n",
    "for i in range(4):\n",
    "    for j in range(4):\n",
    "        ax = axs[i][j]\n",
    "        if i == 0:\n",
    "            ax.set_title(article_name)\n",
    "            fname = article_id + '.jpg'\n",
    "            subdir = fname[0:3]\n",
    "            full_path = os.path.join('../data', 'images', subdir, fname)\n",
    "        else:\n",
    "            fname = similar_items[c] + '.jpg'\n",
    "            subdir = fname[0:3]\n",
    "            full_path = os.path.join('../data', 'images', subdir, fname)\n",
    "            ax.set_title(item_names[similar_items[c]])\n",
    "            c += 1\n",
    "         \n",
    "        if os.path.exists(full_path):\n",
    "            img = mpimg.imread(full_path)\n",
    "            ax.imshow(img)"
   ]
  },
  {
   "cell_type": "code",
   "execution_count": 65,
   "metadata": {},
   "outputs": [],
   "source": [
    "sub1 = pd.read_csv('../data/cf-item-item-1000-users_submission.csv', index_col=0)"
   ]
  },
  {
   "cell_type": "code",
   "execution_count": 67,
   "metadata": {},
   "outputs": [
    {
     "data": {
      "text/html": [
       "<div>\n",
       "<style scoped>\n",
       "    .dataframe tbody tr th:only-of-type {\n",
       "        vertical-align: middle;\n",
       "    }\n",
       "\n",
       "    .dataframe tbody tr th {\n",
       "        vertical-align: top;\n",
       "    }\n",
       "\n",
       "    .dataframe thead th {\n",
       "        text-align: right;\n",
       "    }\n",
       "</style>\n",
       "<table border=\"1\" class=\"dataframe\">\n",
       "  <thead>\n",
       "    <tr style=\"text-align: right;\">\n",
       "      <th></th>\n",
       "      <th>prediction</th>\n",
       "    </tr>\n",
       "    <tr>\n",
       "      <th>customer_id</th>\n",
       "      <th></th>\n",
       "    </tr>\n",
       "  </thead>\n",
       "  <tbody>\n",
       "  </tbody>\n",
       "</table>\n",
       "</div>"
      ],
      "text/plain": [
       "Empty DataFrame\n",
       "Columns: [prediction]\n",
       "Index: []"
      ]
     },
     "execution_count": 67,
     "metadata": {},
     "output_type": "execute_result"
    }
   ],
   "source": [
    "sub1.query('prediction == \"\"').head()"
   ]
  },
  {
   "cell_type": "code",
   "execution_count": null,
   "metadata": {},
   "outputs": [],
   "source": []
  }
 ],
 "metadata": {
  "interpreter": {
   "hash": "b6f2773fc6b5cc5caaeb493fad510cddd60463bfb6b6e05ea60d03f3b1d34650"
  },
  "kernelspec": {
   "display_name": "Python 3.9.4 ('.venv': venv)",
   "language": "python",
   "name": "python3"
  },
  "language_info": {
   "codemirror_mode": {
    "name": "ipython",
    "version": 3
   },
   "file_extension": ".py",
   "mimetype": "text/x-python",
   "name": "python",
   "nbconvert_exporter": "python",
   "pygments_lexer": "ipython3",
   "version": "3.9.4"
  },
  "orig_nbformat": 4
 },
 "nbformat": 4,
 "nbformat_minor": 2
}
