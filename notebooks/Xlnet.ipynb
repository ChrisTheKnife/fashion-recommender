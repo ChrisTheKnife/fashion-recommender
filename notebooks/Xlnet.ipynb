{
 "cells": [
  {
   "cell_type": "code",
   "execution_count": 2,
   "metadata": {},
   "outputs": [
    {
     "name": "stderr",
     "output_type": "stream",
     "text": [
      "distributed.diskutils - INFO - Found stale lock file and directory '/Users/kaergell/Desktop/Neue Fische/Bootcamp/Capestone/fashion-recommender/notebooks/dask-worker-space/worker-mu29yqlt', purging\n",
      "distributed.diskutils - INFO - Found stale lock file and directory '/Users/kaergell/Desktop/Neue Fische/Bootcamp/Capestone/fashion-recommender/notebooks/dask-worker-space/worker-bisam48d', purging\n",
      "distributed.diskutils - INFO - Found stale lock file and directory '/Users/kaergell/Desktop/Neue Fische/Bootcamp/Capestone/fashion-recommender/notebooks/dask-worker-space/worker-o_mcqj6f', purging\n",
      "distributed.diskutils - INFO - Found stale lock file and directory '/Users/kaergell/Desktop/Neue Fische/Bootcamp/Capestone/fashion-recommender/notebooks/dask-worker-space/worker-_ud2xhte', purging\n",
      "distributed.diskutils - INFO - Found stale lock file and directory '/Users/kaergell/Desktop/Neue Fische/Bootcamp/Capestone/fashion-recommender/notebooks/dask-worker-space/worker-3yb44t4p', purging\n",
      "distributed.diskutils - INFO - Found stale lock file and directory '/Users/kaergell/Desktop/Neue Fische/Bootcamp/Capestone/fashion-recommender/notebooks/dask-worker-space/worker-f08etp02', purging\n",
      "distributed.diskutils - INFO - Found stale lock file and directory '/Users/kaergell/Desktop/Neue Fische/Bootcamp/Capestone/fashion-recommender/notebooks/dask-worker-space/worker-647hoony', purging\n",
      "distributed.diskutils - INFO - Found stale lock file and directory '/Users/kaergell/Desktop/Neue Fische/Bootcamp/Capestone/fashion-recommender/notebooks/dask-worker-space/worker-5woe8btx', purging\n"
     ]
    }
   ],
   "source": [
    "import os\n",
    "import glob\n",
    "\n",
    "import numpy as np\n",
    "import pandas as pd\n",
    "\n",
    "#import cudf\n",
    "#import cupy as cp\n",
    "import nvtabular as nvt\n",
    "\n",
    "from google.cloud import bigquery\n",
    "\n",
    "import dask.dataframe as dd\n",
    "from dask.distributed import Client\n",
    "from dask.diagnostics import ProgressBar\n",
    "client = Client(n_workers=4, threads_per_worker=4, memory_limit=\"1GB\")\n",
    "client\n",
    "\n",
    "import os\n",
    "os.environ[\"GOOGLE_APPLICATION_CREDENTIALS\"]=\"./key/key.json\""
   ]
  },
  {
   "cell_type": "code",
   "execution_count": 2,
   "metadata": {},
   "outputs": [],
   "source": [
    "df_2=pd.read_parquet(\"../parquet/transform_example_100.parquet\")"
   ]
  },
  {
   "cell_type": "code",
   "execution_count": 12,
   "metadata": {},
   "outputs": [
    {
     "data": {
      "text/plain": [
       "article_count    0\n",
       "article_id       0\n",
       "Avg_price        0\n",
       "description      0\n",
       "detal_desc       0\n",
       "dtype: int64"
      ]
     },
     "execution_count": 12,
     "metadata": {},
     "output_type": "execute_result"
    }
   ],
   "source": [
    "df_2.isnull().sum()"
   ]
  },
  {
   "cell_type": "markdown",
   "metadata": {},
   "source": [
    "## Transformer"
   ]
  },
  {
   "cell_type": "code",
   "execution_count": 3,
   "metadata": {},
   "outputs": [
    {
     "name": "stderr",
     "output_type": "stream",
     "text": [
      "/Users/kaergell/Desktop/Neue Fische/Bootcamp/Capestone/fashion-recommender/.capestone/lib/python3.9/site-packages/tqdm/auto.py:22: TqdmWarning: IProgress not found. Please update jupyter and ipywidgets. See https://ipywidgets.readthedocs.io/en/stable/user_install.html\n",
      "  from .autonotebook import tqdm as notebook_tqdm\n",
      "Your CPU supports instructions that this binary was not compiled to use: AVX2\n",
      "For maximum performance, you can install NMSLIB from sources \n",
      "pip install --no-binary :all: nmslib\n"
     ]
    }
   ],
   "source": [
    "import texthero as hero\n",
    "from texthero import preprocessing\n",
    "from sentence_transformers import SentenceTransformer, util\n",
    "import nmslib \n",
    "import time\n",
    "import datetime"
   ]
  },
  {
   "cell_type": "markdown",
   "metadata": {},
   "source": [
    "[SOurce](https://blog.berkgokden.com/is-it-possible-to-build-a-generic-recommender-system-with-deep-learning-and-nlp-ad9b2ed9560c)"
   ]
  },
  {
   "cell_type": "code",
   "execution_count": 2,
   "metadata": {},
   "outputs": [
    {
     "name": "stderr",
     "output_type": "stream",
     "text": [
      "/Users/kaergell/Desktop/Neue Fische/Bootcamp/Capestone/fashion-recommender/.capestone/lib/python3.9/site-packages/tqdm/auto.py:22: TqdmWarning: IProgress not found. Please update jupyter and ipywidgets. See https://ipywidgets.readthedocs.io/en/stable/user_install.html\n",
      "  from .autonotebook import tqdm as notebook_tqdm\n"
     ]
    }
   ],
   "source": [
    "from transformers import XLNetTokenizer, XLNetLMHeadModel\n",
    "\n",
    "import torch\n",
    "\n",
    "tokenizer = XLNetTokenizer.from_pretrained(\"xlnet-large-cased\")\n",
    "\n",
    "model = XLNetLMHeadModel.from_pretrained(\"xlnet-large-cased\")\n"
   ]
  },
  {
   "cell_type": "code",
   "execution_count": 4,
   "metadata": {},
   "outputs": [
    {
     "name": "stdout",
     "output_type": "stream",
     "text": [
      "CUDA is not available.  Training on CPU ...\n"
     ]
    }
   ],
   "source": [
    "train_on_gpu = torch.cuda.is_available()\n",
    "\n",
    "if not train_on_gpu:\n",
    "    print('CUDA is not available.  Training on CPU ...')\n",
    "else:\n",
    "    print('CUDA is available!  Training on GPU ...')"
   ]
  },
  {
   "cell_type": "code",
   "execution_count": 7,
   "metadata": {},
   "outputs": [],
   "source": [
    "input_ids = torch.tensor(tokenizer.encode(df_2[\"description\"]))"
   ]
  },
  {
   "cell_type": "code",
   "execution_count": 12,
   "metadata": {},
   "outputs": [],
   "source": [
    "# adds empty string to string array s if lenght is less than n\n",
    "def pad_list(s, n):\n",
    "    s = [string for string in s if string != \"\"]\n",
    "    return [''] * (n - len(s)) + s \n",
    "\n",
    "# creates permutations of string array s with length n\n",
    "def find_subsets(s, n):\n",
    "    m = min(len(s), n)\n",
    "    return list(itertools.permutations(s, m))\n",
    "\n",
    "    # get a subsemple of permuations\n",
    "def random_find_subsets(s, n, m):\n",
    "    l = find_subsets(s, n)\n",
    "    return sample(l, m)\n",
    "\n",
    "# split a multivariate sequence into samples\n",
    "def split_sequences(sequences, n_steps_in, n_steps_out):\n",
    "    X, y = list(), list()\n",
    "    for seq in sequences:\n",
    "        if len(seq) >= 3 and len(seq) <= 6:\n",
    "            for inner_seq in random_find_subsets(seq, n_steps_in+n_steps_out, 3):\n",
    "                padddes_seq = pad_list(inner_seq, n_steps_in+n_steps_out)\n",
    "                seq_x, seq_y = padddes_seq[:n_steps_in], padddes_seq[-n_steps_out:]\n",
    "                X.append(embed(seq_x))\n",
    "                y.append(embed(seq_y))\n",
    "    return array(X), array(y)"
   ]
  },
  {
   "cell_type": "code",
   "execution_count": 14,
   "metadata": {},
   "outputs": [
    {
     "ename": "DatasetHandlerError",
     "evalue": "A Hub dataset does not exist at the given path (https://tfhub.dev/google/universal-sentence-encoder-multilingual-large/3). Check the path provided or in case you want to create a new dataset, use hub.empty().",
     "output_type": "error",
     "traceback": [
      "\u001b[0;31m---------------------------------------------------------------------------\u001b[0m",
      "\u001b[0;31mDatasetHandlerError\u001b[0m                       Traceback (most recent call last)",
      "\u001b[1;32m/Users/kaergell/Desktop/Neue Fische/Bootcamp/Capestone/fashion-recommender/notebooks/Xlnet.ipynb Cell 10'\u001b[0m in \u001b[0;36m<cell line: 3>\u001b[0;34m()\u001b[0m\n\u001b[1;32m      <a href='vscode-notebook-cell:/Users/kaergell/Desktop/Neue%20Fische/Bootcamp/Capestone/fashion-recommender/notebooks/Xlnet.ipynb#ch0000015?line=0'>1</a>\u001b[0m \u001b[39mimport\u001b[39;00m \u001b[39mhub\u001b[39;00m\n\u001b[0;32m----> <a href='vscode-notebook-cell:/Users/kaergell/Desktop/Neue%20Fische/Bootcamp/Capestone/fashion-recommender/notebooks/Xlnet.ipynb#ch0000015?line=2'>3</a>\u001b[0m embed \u001b[39m=\u001b[39m hub\u001b[39m.\u001b[39;49mload(\u001b[39m\"\u001b[39;49m\u001b[39mhttps://tfhub.dev/google/universal-sentence-encoder-multilingual-large/3\u001b[39;49m\u001b[39m\"\u001b[39;49m)\n\u001b[1;32m      <a href='vscode-notebook-cell:/Users/kaergell/Desktop/Neue%20Fische/Bootcamp/Capestone/fashion-recommender/notebooks/Xlnet.ipynb#ch0000015?line=4'>5</a>\u001b[0m \u001b[39m# load data and clean\u001b[39;00m\n\u001b[1;32m      <a href='vscode-notebook-cell:/Users/kaergell/Desktop/Neue%20Fische/Bootcamp/Capestone/fashion-recommender/notebooks/Xlnet.ipynb#ch0000015?line=5'>6</a>\u001b[0m df \u001b[39m=\u001b[39m pd\u001b[39m.\u001b[39mread_csv(\u001b[39m\"\u001b[39m\u001b[39mdata/data.csv\u001b[39m\u001b[39m\"\u001b[39m, encoding\u001b[39m=\u001b[39m \u001b[39m'\u001b[39m\u001b[39municode_escape\u001b[39m\u001b[39m'\u001b[39m)\n",
      "File \u001b[0;32m~/Desktop/Neue Fische/Bootcamp/Capestone/fashion-recommender/.capestone/lib/python3.9/site-packages/hub/api/dataset.py:265\u001b[0m, in \u001b[0;36mdataset.load\u001b[0;34m(path, read_only, memory_cache_size, local_cache_size, creds, token, verbose)\u001b[0m\n\u001b[1;32m    <a href='file:///Users/kaergell/Desktop/Neue%20Fische/Bootcamp/Capestone/fashion-recommender/.capestone/lib/python3.9/site-packages/hub/api/dataset.py?line=254'>255</a>\u001b[0m storage, cache_chain \u001b[39m=\u001b[39m get_storage_and_cache_chain(\n\u001b[1;32m    <a href='file:///Users/kaergell/Desktop/Neue%20Fische/Bootcamp/Capestone/fashion-recommender/.capestone/lib/python3.9/site-packages/hub/api/dataset.py?line=255'>256</a>\u001b[0m     path\u001b[39m=\u001b[39mpath,\n\u001b[1;32m    <a href='file:///Users/kaergell/Desktop/Neue%20Fische/Bootcamp/Capestone/fashion-recommender/.capestone/lib/python3.9/site-packages/hub/api/dataset.py?line=256'>257</a>\u001b[0m     read_only\u001b[39m=\u001b[39mread_only,\n\u001b[0;32m   (...)\u001b[0m\n\u001b[1;32m    <a href='file:///Users/kaergell/Desktop/Neue%20Fische/Bootcamp/Capestone/fashion-recommender/.capestone/lib/python3.9/site-packages/hub/api/dataset.py?line=260'>261</a>\u001b[0m     local_cache_size\u001b[39m=\u001b[39mlocal_cache_size,\n\u001b[1;32m    <a href='file:///Users/kaergell/Desktop/Neue%20Fische/Bootcamp/Capestone/fashion-recommender/.capestone/lib/python3.9/site-packages/hub/api/dataset.py?line=261'>262</a>\u001b[0m )\n\u001b[1;32m    <a href='file:///Users/kaergell/Desktop/Neue%20Fische/Bootcamp/Capestone/fashion-recommender/.capestone/lib/python3.9/site-packages/hub/api/dataset.py?line=263'>264</a>\u001b[0m \u001b[39mif\u001b[39;00m \u001b[39mnot\u001b[39;00m dataset_exists(cache_chain):\n\u001b[0;32m--> <a href='file:///Users/kaergell/Desktop/Neue%20Fische/Bootcamp/Capestone/fashion-recommender/.capestone/lib/python3.9/site-packages/hub/api/dataset.py?line=264'>265</a>\u001b[0m     \u001b[39mraise\u001b[39;00m DatasetHandlerError(\n\u001b[1;32m    <a href='file:///Users/kaergell/Desktop/Neue%20Fische/Bootcamp/Capestone/fashion-recommender/.capestone/lib/python3.9/site-packages/hub/api/dataset.py?line=265'>266</a>\u001b[0m         \u001b[39mf\u001b[39m\u001b[39m\"\u001b[39m\u001b[39mA Hub dataset does not exist at the given path (\u001b[39m\u001b[39m{\u001b[39;00mpath\u001b[39m}\u001b[39;00m\u001b[39m). Check the path provided or in case you want to create a new dataset, use hub.empty().\u001b[39m\u001b[39m\"\u001b[39m\n\u001b[1;32m    <a href='file:///Users/kaergell/Desktop/Neue%20Fische/Bootcamp/Capestone/fashion-recommender/.capestone/lib/python3.9/site-packages/hub/api/dataset.py?line=266'>267</a>\u001b[0m     )\n\u001b[1;32m    <a href='file:///Users/kaergell/Desktop/Neue%20Fische/Bootcamp/Capestone/fashion-recommender/.capestone/lib/python3.9/site-packages/hub/api/dataset.py?line=268'>269</a>\u001b[0m \u001b[39mtry\u001b[39;00m:\n\u001b[1;32m    <a href='file:///Users/kaergell/Desktop/Neue%20Fische/Bootcamp/Capestone/fashion-recommender/.capestone/lib/python3.9/site-packages/hub/api/dataset.py?line=269'>270</a>\u001b[0m     read_only \u001b[39m=\u001b[39m storage\u001b[39m.\u001b[39mread_only\n",
      "\u001b[0;31mDatasetHandlerError\u001b[0m: A Hub dataset does not exist at the given path (https://tfhub.dev/google/universal-sentence-encoder-multilingual-large/3). Check the path provided or in case you want to create a new dataset, use hub.empty()."
     ]
    }
   ],
   "source": [
    "import hub\n",
    "\n",
    "embed = hub.load(\"https://tfhub.dev/google/universal-sentence-encoder-multilingual-large/3\")\n",
    "\n",
    "# load data and clean\n",
    "df = pd.read_csv(\"data/data.csv\", encoding= 'unicode_escape')\n",
    "df = df.dropna()\n",
    "df_descriptions = df[['Description']].dropna().drop_duplicates()\n",
    "df_descriptions = df_descriptions[df_descriptions['Description'].str.len().gt(3)]\n",
    "\n",
    "# these will be used for nearest neighboor search\n",
    "descriptions = df_descriptions['Description'].tolist()\n",
    "values = embed(descriptions)\n",
    "np.save('data/descriptions.data', descriptions)\n",
    "np.save('data/values.data', values)\n",
    "\n",
    "# group transaction Descriptions by InvoiceNo\n",
    "df_transactions = df[df['Description'].str.len().gt(3)].dropna().groupby('InvoiceNo')['Description'].agg({'size': len, 'set': lambda x: list(set(x))})\n",
    "dataset = df_transactions['set'].tolist()\n",
    "\n",
    "# split into 3 input steps and 2 output steps\n",
    "n_steps_in, n_steps_out = 3, 2\n",
    "# covert into input/output\n",
    "X, y = split_sequences(dataset, n_steps_in, n_steps_out)\n",
    "\n",
    "np.save('data/X.data', X)\n",
    "np.save('data/y.data', y)"
   ]
  },
  {
   "cell_type": "code",
   "execution_count": null,
   "metadata": {},
   "outputs": [],
   "source": []
  },
  {
   "cell_type": "code",
   "execution_count": 9,
   "metadata": {},
   "outputs": [],
   "source": [
    "configuration = model.config"
   ]
  },
  {
   "cell_type": "code",
   "execution_count": 4,
   "metadata": {},
   "outputs": [
    {
     "ename": "NameError",
     "evalue": "name 'XlnetEmbeddings' is not defined",
     "output_type": "error",
     "traceback": [
      "\u001b[0;31m---------------------------------------------------------------------------\u001b[0m",
      "\u001b[0;31mNameError\u001b[0m                                 Traceback (most recent call last)",
      "\u001b[1;32m/Users/kaergell/Desktop/Neue Fische/Bootcamp/Capestone/fashion-recommender/notebooks/Xlnet.ipynb Cell 13'\u001b[0m in \u001b[0;36m<cell line: 1>\u001b[0;34m()\u001b[0m\n\u001b[0;32m----> <a href='vscode-notebook-cell:/Users/kaergell/Desktop/Neue%20Fische/Bootcamp/Capestone/fashion-recommender/notebooks/Xlnet.ipynb#ch0000012?line=0'>1</a>\u001b[0m embeddings \u001b[39m=\u001b[39m XlnetEmbeddings\u001b[39m.\u001b[39mpretrained(\u001b[39m\"\u001b[39m\u001b[39mxlnet_large_cased\u001b[39m\u001b[39m\"\u001b[39m, \u001b[39m\"\u001b[39m\u001b[39men\u001b[39m\u001b[39m\"\u001b[39m) \\\n\u001b[1;32m      <a href='vscode-notebook-cell:/Users/kaergell/Desktop/Neue%20Fische/Bootcamp/Capestone/fashion-recommender/notebooks/Xlnet.ipynb#ch0000012?line=1'>2</a>\u001b[0m       \u001b[39m.\u001b[39msetInputCols(\u001b[39m\"\u001b[39m\u001b[39msentence\u001b[39m\u001b[39m\"\u001b[39m, \u001b[39m\"\u001b[39m\u001b[39mtoken\u001b[39m\u001b[39m\"\u001b[39m) \\\n\u001b[1;32m      <a href='vscode-notebook-cell:/Users/kaergell/Desktop/Neue%20Fische/Bootcamp/Capestone/fashion-recommender/notebooks/Xlnet.ipynb#ch0000012?line=2'>3</a>\u001b[0m       \u001b[39m.\u001b[39msetOutputCol(\u001b[39m\"\u001b[39m\u001b[39membeddings\u001b[39m\u001b[39m\"\u001b[39m)\n",
      "\u001b[0;31mNameError\u001b[0m: name 'XlnetEmbeddings' is not defined"
     ]
    }
   ],
   "source": [
    "embeddings = XlnetEmbeddings.pretrained(\"xlnet_large_cased\", \"en\") \\\n",
    "      .setInputCols(\"sentence\", \"token\") \\\n",
    "      .setOutputCol(\"embeddings\")"
   ]
  },
  {
   "cell_type": "code",
   "execution_count": 14,
   "metadata": {},
   "outputs": [
    {
     "data": {
      "text/html": [
       "<div>\n",
       "<style scoped>\n",
       "    .dataframe tbody tr th:only-of-type {\n",
       "        vertical-align: middle;\n",
       "    }\n",
       "\n",
       "    .dataframe tbody tr th {\n",
       "        vertical-align: top;\n",
       "    }\n",
       "\n",
       "    .dataframe thead th {\n",
       "        text-align: right;\n",
       "    }\n",
       "</style>\n",
       "<table border=\"1\" class=\"dataframe\">\n",
       "  <thead>\n",
       "    <tr style=\"text-align: right;\">\n",
       "      <th></th>\n",
       "      <th>count</th>\n",
       "      <th>mean</th>\n",
       "      <th>std</th>\n",
       "      <th>min</th>\n",
       "      <th>25%</th>\n",
       "      <th>50%</th>\n",
       "      <th>75%</th>\n",
       "      <th>max</th>\n",
       "    </tr>\n",
       "  </thead>\n",
       "  <tbody>\n",
       "    <tr>\n",
       "      <th>article_count</th>\n",
       "      <td>100.0</td>\n",
       "      <td>10281.920000</td>\n",
       "      <td>5039.550478</td>\n",
       "      <td>6599.000000</td>\n",
       "      <td>7369.750000</td>\n",
       "      <td>8500.000000</td>\n",
       "      <td>11462.000000</td>\n",
       "      <td>42544.000000</td>\n",
       "    </tr>\n",
       "    <tr>\n",
       "      <th>Avg_price</th>\n",
       "      <td>100.0</td>\n",
       "      <td>0.022243</td>\n",
       "      <td>0.009564</td>\n",
       "      <td>0.005712</td>\n",
       "      <td>0.015939</td>\n",
       "      <td>0.023392</td>\n",
       "      <td>0.029616</td>\n",
       "      <td>0.048733</td>\n",
       "    </tr>\n",
       "  </tbody>\n",
       "</table>\n",
       "</div>"
      ],
      "text/plain": [
       "               count          mean          std          min          25%  \\\n",
       "article_count  100.0  10281.920000  5039.550478  6599.000000  7369.750000   \n",
       "Avg_price      100.0      0.022243     0.009564     0.005712     0.015939   \n",
       "\n",
       "                       50%           75%           max  \n",
       "article_count  8500.000000  11462.000000  42544.000000  \n",
       "Avg_price         0.023392      0.029616      0.048733  "
      ]
     },
     "execution_count": 14,
     "metadata": {},
     "output_type": "execute_result"
    }
   ],
   "source": [
    "df_2.describe().T"
   ]
  },
  {
   "cell_type": "code",
   "execution_count": null,
   "metadata": {},
   "outputs": [],
   "source": [
    "embeddings = xlnet.encode(df_2['description'])\n",
    "#embeddings2 =  xlnet.encode(df_2['detal_desc'])"
   ]
  },
  {
   "cell_type": "code",
   "execution_count": 10,
   "metadata": {},
   "outputs": [],
   "source": [
    "df=pd.read_parquet(\"../parquet/transform_example_100.parquet\")"
   ]
  },
  {
   "cell_type": "code",
   "execution_count": 6,
   "metadata": {},
   "outputs": [
    {
     "name": "stderr",
     "output_type": "stream",
     "text": [
      "Some weights of the model checkpoint at xlnet-large-cased were not used when initializing XLNetModel: ['lm_loss.weight', 'lm_loss.bias']\n",
      "- This IS expected if you are initializing XLNetModel from the checkpoint of a model trained on another task or with another architecture (e.g. initializing a BertForSequenceClassification model from a BertForPreTraining model).\n",
      "- This IS NOT expected if you are initializing XLNetModel from the checkpoint of a model that you expect to be exactly identical (initializing a BertForSequenceClassification model from a BertForSequenceClassification model).\n"
     ]
    }
   ],
   "source": [
    "from transformers import XLNetTokenizer, XLNetModel\n",
    "\n",
    "tokenizer = XLNetTokenizer.from_pretrained('xlnet-large-cased')\n",
    "model = XLNetModel.from_pretrained('xlnet-large-cased')\n"
   ]
  },
  {
   "cell_type": "code",
   "execution_count": 28,
   "metadata": {},
   "outputs": [
    {
     "name": "stderr",
     "output_type": "stream",
     "text": [
      "  0%|          | 0/3 [10:03<?, ?it/s]\n",
      "  0%|          | 0/3 [09:08<?, ?it/s]\n",
      "  0%|          | 0/3 [09:25<?, ?it/s]\n"
     ]
    }
   ],
   "source": [
    "from tqdm import tqdm\n",
    "from progress.bar import Bar\n",
    "\n",
    "from pytorch_lightning.callbacks import TQDMProgressBar"
   ]
  },
  {
   "cell_type": "code",
   "execution_count": 110,
   "metadata": {},
   "outputs": [
    {
     "name": "stderr",
     "output_type": "stream",
     "text": [
      "100it [02:38,  1.58s/it]\n"
     ]
    }
   ],
   "source": [
    "\n",
    "collect = {}\n",
    "\n",
    "for i, j in  tqdm(zip(df[\"article_id\"],df[\"description\"])):\n",
    "    inputs = tokenizer([j],  return_tensors=\"pt\")\n",
    "    outputs = model(**inputs)\n",
    "    last_hidden_states = outputs.last_hidden_state\n",
    "    collect[i]= last_hidden_states.detach().numpy()\n"
   ]
  },
  {
   "cell_type": "code",
   "execution_count": 26,
   "metadata": {},
   "outputs": [],
   "source": [
    "df2 = df=pd.read_parquet(\"../parquet/transform_example_100.parquet\")"
   ]
  },
  {
   "cell_type": "code",
   "execution_count": 24,
   "metadata": {},
   "outputs": [],
   "source": [
    "def transform(j):\n",
    "    inputs = tokenizer([j],  return_tensors=\"pt\")\n",
    "    outputs = model(**inputs)\n",
    "    last_hidden_states = outputs.last_hidden_state\n",
    "    \n",
    "    return(last_hidden_states.detach().numpy())\n",
    "\n",
    "  "
   ]
  },
  {
   "cell_type": "code",
   "execution_count": 25,
   "metadata": {},
   "outputs": [
    {
     "name": "stderr",
     "output_type": "stream",
     "text": [
      "  0%|          | 0/1 [04:05<?, ?it/s]\n",
      "  0%|          | 0/1 [04:04<?, ?it/s]\n",
      "  0%|          | 0/1 [04:03<?, ?it/s]\n",
      "  0%|          | 0/1 [04:02<?, ?it/s]\n",
      "  0%|          | 0/1 [04:02<?, ?it/s]\n",
      "  0%|          | 0/1 [04:01<?, ?it/s]\n",
      "  0%|          | 0/1 [04:00<?, ?it/s]\n",
      "  0%|          | 0/1 [04:00<?, ?it/s]\n",
      "  0%|          | 0/1 [03:59<?, ?it/s]\n",
      "  0%|          | 0/1 [03:58<?, ?it/s]\n",
      "  0%|          | 0/1 [03:57<?, ?it/s]\n",
      "  0%|          | 0/1 [03:57<?, ?it/s]\n",
      "  0%|          | 0/1 [03:56<?, ?it/s]\n",
      "  0%|          | 0/1 [03:55<?, ?it/s]\n",
      "  0%|          | 0/1 [03:54<?, ?it/s]\n",
      "  0%|          | 0/1 [03:54<?, ?it/s]\n",
      "  0%|          | 0/1 [03:53<?, ?it/s]\n",
      "  0%|          | 0/1 [03:52<?, ?it/s]\n",
      "  0%|          | 0/1 [03:51<?, ?it/s]\n",
      "  0%|          | 0/1 [03:51<?, ?it/s]\n",
      "  0%|          | 0/1 [03:50<?, ?it/s]\n",
      "  0%|          | 0/1 [03:49<?, ?it/s]\n",
      "  0%|          | 0/1 [03:48<?, ?it/s]\n",
      "  0%|          | 0/1 [03:48<?, ?it/s]\n",
      "  0%|          | 0/1 [03:47<?, ?it/s]\n",
      "  0%|          | 0/1 [03:47<?, ?it/s]\n",
      "  0%|          | 0/1 [03:46<?, ?it/s]\n",
      "  0%|          | 0/1 [03:45<?, ?it/s]\n",
      "  0%|          | 0/1 [03:44<?, ?it/s]\n",
      "  0%|          | 0/1 [03:43<?, ?it/s]\n",
      "  0%|          | 0/1 [03:43<?, ?it/s]\n",
      "  0%|          | 0/1 [03:42<?, ?it/s]\n",
      "  0%|          | 0/1 [03:41<?, ?it/s]\n",
      "  0%|          | 0/1 [03:40<?, ?it/s]\n",
      "  0%|          | 0/1 [03:40<?, ?it/s]\n",
      "  0%|          | 0/1 [03:39<?, ?it/s]\n",
      "  0%|          | 0/1 [03:38<?, ?it/s]\n",
      "  0%|          | 0/1 [03:37<?, ?it/s]\n",
      "  0%|          | 0/1 [03:37<?, ?it/s]\n",
      "  0%|          | 0/1 [03:36<?, ?it/s]\n",
      "  0%|          | 0/1 [03:35<?, ?it/s]\n",
      "  0%|          | 0/1 [03:35<?, ?it/s]\n",
      "  0%|          | 0/1 [03:34<?, ?it/s]\n",
      "  0%|          | 0/1 [03:33<?, ?it/s]\n",
      "  0%|          | 0/1 [03:32<?, ?it/s]\n",
      "  0%|          | 0/1 [03:32<?, ?it/s]\n",
      "  0%|          | 0/1 [03:31<?, ?it/s]\n",
      "  0%|          | 0/1 [03:30<?, ?it/s]\n",
      "  0%|          | 0/1 [03:29<?, ?it/s]\n",
      "  0%|          | 0/1 [03:29<?, ?it/s]\n",
      "  0%|          | 0/1 [03:28<?, ?it/s]\n",
      "  0%|          | 0/1 [03:27<?, ?it/s]\n",
      "  0%|          | 0/1 [03:26<?, ?it/s]\n",
      "  0%|          | 0/1 [03:26<?, ?it/s]\n",
      "  0%|          | 0/1 [03:25<?, ?it/s]\n",
      "  0%|          | 0/1 [03:24<?, ?it/s]\n",
      "  0%|          | 0/1 [03:24<?, ?it/s]\n",
      "  0%|          | 0/1 [03:23<?, ?it/s]\n",
      "  0%|          | 0/1 [03:22<?, ?it/s]\n",
      "  0%|          | 0/1 [03:22<?, ?it/s]\n",
      "  0%|          | 0/1 [03:21<?, ?it/s]\n",
      "  0%|          | 0/1 [03:20<?, ?it/s]\n",
      "  0%|          | 0/1 [03:20<?, ?it/s]\n",
      "  0%|          | 0/1 [03:19<?, ?it/s]\n",
      "  0%|          | 0/1 [03:18<?, ?it/s]\n",
      "  0%|          | 0/1 [03:18<?, ?it/s]\n",
      "  0%|          | 0/1 [03:17<?, ?it/s]\n",
      "  0%|          | 0/1 [03:16<?, ?it/s]\n",
      "  0%|          | 0/1 [03:16<?, ?it/s]\n",
      "  0%|          | 0/1 [03:15<?, ?it/s]\n",
      "  0%|          | 0/1 [03:15<?, ?it/s]\n",
      "  0%|          | 0/1 [03:14<?, ?it/s]\n",
      "  0%|          | 0/1 [03:13<?, ?it/s]\n",
      "  0%|          | 0/1 [03:12<?, ?it/s]\n",
      "  0%|          | 0/1 [03:12<?, ?it/s]\n",
      "  0%|          | 0/1 [03:11<?, ?it/s]\n",
      "  0%|          | 0/1 [03:11<?, ?it/s]\n",
      "  0%|          | 0/1 [03:10<?, ?it/s]\n",
      "  0%|          | 0/1 [03:09<?, ?it/s]\n",
      "  0%|          | 0/1 [03:09<?, ?it/s]\n",
      "  0%|          | 0/1 [03:08<?, ?it/s]\n",
      "  0%|          | 0/1 [03:07<?, ?it/s]\n",
      "  0%|          | 0/1 [03:07<?, ?it/s]\n",
      "  0%|          | 0/1 [03:06<?, ?it/s]\n",
      "  0%|          | 0/1 [03:05<?, ?it/s]\n",
      "  0%|          | 0/1 [03:05<?, ?it/s]\n",
      "  0%|          | 0/1 [03:04<?, ?it/s]\n",
      "  0%|          | 0/1 [03:03<?, ?it/s]\n",
      "  0%|          | 0/1 [03:03<?, ?it/s]\n",
      "  0%|          | 0/1 [03:02<?, ?it/s]\n",
      "  0%|          | 0/1 [03:01<?, ?it/s]\n",
      "  0%|          | 0/1 [03:01<?, ?it/s]\n",
      "  0%|          | 0/1 [03:00<?, ?it/s]\n",
      "  0%|          | 0/1 [02:59<?, ?it/s]\n",
      "  0%|          | 0/1 [02:59<?, ?it/s]\n"
     ]
    }
   ],
   "source": [
    "  df[\"Xlnet\"] = df[\"description\"].apply(transform)"
   ]
  },
  {
   "cell_type": "code",
   "execution_count": 1,
   "metadata": {},
   "outputs": [
    {
     "ename": "NameError",
     "evalue": "name 'df' is not defined",
     "output_type": "error",
     "traceback": [
      "\u001b[0;31m---------------------------------------------------------------------------\u001b[0m",
      "\u001b[0;31mNameError\u001b[0m                                 Traceback (most recent call last)",
      "\u001b[1;32m/Users/kaergell/Desktop/Neue Fische/Bootcamp/Capestone/fashion-recommender/notebooks/Xlnet.ipynb Cell 23'\u001b[0m in \u001b[0;36m<cell line: 1>\u001b[0;34m()\u001b[0m\n\u001b[0;32m----> <a href='vscode-notebook-cell:/Users/kaergell/Desktop/Neue%20Fische/Bootcamp/Capestone/fashion-recommender/notebooks/Xlnet.ipynb#ch0000022?line=0'>1</a>\u001b[0m df\u001b[39m.\u001b[39mhead()\n",
      "\u001b[0;31mNameError\u001b[0m: name 'df' is not defined"
     ]
    }
   ],
   "source": [
    "df.head()"
   ]
  },
  {
   "cell_type": "code",
   "execution_count": null,
   "metadata": {},
   "outputs": [],
   "source": [
    "def search_cloth2(dataframe, userQuery):\n",
    "    \n",
    "    if dataframe is not None and userQuery is not None:\n",
    "        df = dataframe.copy()\n",
    "        query =tokenizer([userQuery],  return_tensors=\"pt\")\n",
    "        ids, distances = distilbert_index2.knnQuery(query, k=12)\n",
    "    \n",
    "\n",
    "    outputs = model(**inputs)\n",
    "    last_hidden_states = outputs.last_hidden_state\n",
    "\n",
    "    matches = []    \n",
    "    \n",
    "    for i, j in zip(ids, distances):          \n",
    "            matches.append({'article_id':df.article_id.values[i]\n",
    "                        ,\"article_count\":df.article_count.values[i]\n",
    "                        ,\"price\":df.Avg_price.values[i]\n",
    "                        , 'description':df.description.values[i]\n",
    "                        , 'detal_desc' : df.detal_desc.values[i]\n",
    "                        , 'distance': j\n",
    "                       })     \n",
    "    return pd.DataFrame(matches)"
   ]
  },
  {
   "cell_type": "code",
   "execution_count": 34,
   "metadata": {},
   "outputs": [],
   "source": [
    "df_3 = pd.read_csv(\"../data/XLnet_10000_all.csv\").reset_index(drop=True)"
   ]
  },
  {
   "cell_type": "code",
   "execution_count": 38,
   "metadata": {},
   "outputs": [
    {
     "data": {
      "text/plain": [
       "Index(['Unnamed: 0', 'article_count', 'article_id', 'Avg_price', 'description',\n",
       "       'detail_desc', 'comb_desc', 'Xlnet', 'Xlnet_detail', 'Xlnet_comb'],\n",
       "      dtype='object')"
      ]
     },
     "execution_count": 38,
     "metadata": {},
     "output_type": "execute_result"
    }
   ],
   "source": [
    "df_3.columns"
   ]
  },
  {
   "cell_type": "code",
   "execution_count": 44,
   "metadata": {},
   "outputs": [
    {
     "data": {
      "text/html": [
       "<div>\n",
       "<style scoped>\n",
       "    .dataframe tbody tr th:only-of-type {\n",
       "        vertical-align: middle;\n",
       "    }\n",
       "\n",
       "    .dataframe tbody tr th {\n",
       "        vertical-align: top;\n",
       "    }\n",
       "\n",
       "    .dataframe thead th {\n",
       "        text-align: right;\n",
       "    }\n",
       "</style>\n",
       "<table border=\"1\" class=\"dataframe\">\n",
       "  <thead>\n",
       "    <tr style=\"text-align: right;\">\n",
       "      <th></th>\n",
       "      <th>article_count</th>\n",
       "      <th>article_id</th>\n",
       "      <th>Avg_price</th>\n",
       "      <th>description</th>\n",
       "      <th>detail_desc</th>\n",
       "      <th>comb_desc</th>\n",
       "      <th>Xlnet</th>\n",
       "      <th>Xlnet_detail</th>\n",
       "      <th>Xlnet_comb</th>\n",
       "    </tr>\n",
       "  </thead>\n",
       "  <tbody>\n",
       "    <tr>\n",
       "      <th>0</th>\n",
       "      <td>42544</td>\n",
       "      <td>706016001</td>\n",
       "      <td>0.032499</td>\n",
       "      <td>Jade HW Skinny Denim TRS ,Solid ,Black ,Dark ,...</td>\n",
       "      <td>High-waisted jeans in washed superstretch deni...</td>\n",
       "      <td>Jade HW Skinny Denim TRS ,Solid ,Black ,Dark ,...</td>\n",
       "      <td>[[[-0.3804164  -0.8812267  -0.06792659 ...  2....</td>\n",
       "      <td>[[[-0.24108036  0.51591814 -0.5857612  ...  0....</td>\n",
       "      <td>[[[-0.04332412 -0.05329403 -1.1044266  ...  1....</td>\n",
       "    </tr>\n",
       "    <tr>\n",
       "      <th>1</th>\n",
       "      <td>29292</td>\n",
       "      <td>706016002</td>\n",
       "      <td>0.032449</td>\n",
       "      <td>Jade HW Skinny Denim TRS ,Solid ,Light Blue ,L...</td>\n",
       "      <td>High-waisted jeans in washed superstretch deni...</td>\n",
       "      <td>Jade HW Skinny Denim TRS ,Solid ,Light Blue ,L...</td>\n",
       "      <td>[[[-1.2474186  -0.10260493 -0.05328637 ...  1....</td>\n",
       "      <td>[[[-0.24108036  0.51591814 -0.5857612  ...  0....</td>\n",
       "      <td>[[[ 0.09275541  0.16334116 -0.9670675  ...  1....</td>\n",
       "    </tr>\n",
       "    <tr>\n",
       "      <th>2</th>\n",
       "      <td>21950</td>\n",
       "      <td>610776002</td>\n",
       "      <td>0.008091</td>\n",
       "      <td>Tilly (1) ,Solid ,Black ,Dark ,Jersey Basic ,L...</td>\n",
       "      <td>T-shirt in lightweight jersey with a rounded h...</td>\n",
       "      <td>Tilly (1) ,Solid ,Black ,Dark ,Jersey Basic ,L...</td>\n",
       "      <td>[[[-0.29206443 -0.16364731 -1.3326098  ... -0....</td>\n",
       "      <td>[[[-0.47710276  2.1128855  -0.08665454 ...  1....</td>\n",
       "      <td>[[[-1.1898086   0.95437133 -1.5630703  ...  0....</td>\n",
       "    </tr>\n",
       "    <tr>\n",
       "      <th>3</th>\n",
       "      <td>19881</td>\n",
       "      <td>706016003</td>\n",
       "      <td>0.032700</td>\n",
       "      <td>Jade HW Skinny Denim TRS ,Solid ,Dark Blue ,Me...</td>\n",
       "      <td>High-waisted jeans in washed superstretch deni...</td>\n",
       "      <td>Jade HW Skinny Denim TRS ,Solid ,Dark Blue ,Me...</td>\n",
       "      <td>[[[-0.10801899 -1.1233265   0.34570506 ...  3....</td>\n",
       "      <td>[[[-0.24108036  0.51591814 -0.5857612  ...  0....</td>\n",
       "      <td>[[[ 0.8103858   0.12666857 -0.27916637 ...  1....</td>\n",
       "    </tr>\n",
       "    <tr>\n",
       "      <th>4</th>\n",
       "      <td>19462</td>\n",
       "      <td>562245001</td>\n",
       "      <td>0.026159</td>\n",
       "      <td>Luna skinny RW ,Solid ,Black ,Dark ,Trousers ,...</td>\n",
       "      <td>5-pocket jeans in washed, superstretch denim w...</td>\n",
       "      <td>Luna skinny RW ,Solid ,Black ,Dark ,Trousers ,...</td>\n",
       "      <td>[[[-0.34007233  1.0228316   0.7145391  ...  0....</td>\n",
       "      <td>[[[-1.0142457   0.5663144  -0.3363339  ...  1....</td>\n",
       "      <td>[[[-0.12372264  0.6623686  -1.223984   ...  0....</td>\n",
       "    </tr>\n",
       "    <tr>\n",
       "      <th>...</th>\n",
       "      <td>...</td>\n",
       "      <td>...</td>\n",
       "      <td>...</td>\n",
       "      <td>...</td>\n",
       "      <td>...</td>\n",
       "      <td>...</td>\n",
       "      <td>...</td>\n",
       "      <td>...</td>\n",
       "      <td>...</td>\n",
       "    </tr>\n",
       "    <tr>\n",
       "      <th>9995</th>\n",
       "      <td>577</td>\n",
       "      <td>705974001</td>\n",
       "      <td>0.098150</td>\n",
       "      <td>Mary dress ,Solid ,Dark Blue ,Dark ,Knitwear ,...</td>\n",
       "      <td>Knee-length dress in a sturdy, fine knit with ...</td>\n",
       "      <td>Mary dress ,Solid ,Dark Blue ,Dark ,Knitwear ,...</td>\n",
       "      <td>[[[ 1.1512377   1.0341833   1.0489019  ... -1....</td>\n",
       "      <td>[[[-1.2030926   0.89276254 -1.4924575  ...  0....</td>\n",
       "      <td>[[[ 1.0887921   1.7108539  -0.24746773 ...  0....</td>\n",
       "    </tr>\n",
       "    <tr>\n",
       "      <th>9996</th>\n",
       "      <td>577</td>\n",
       "      <td>853474005</td>\n",
       "      <td>0.035128</td>\n",
       "      <td>Missy ,All over pattern ,Off White ,Dusty Ligh...</td>\n",
       "      <td>Voluminous, calf-length, off-the-shoulder dres...</td>\n",
       "      <td>Missy ,All over pattern ,Off White ,Dusty Ligh...</td>\n",
       "      <td>[[[ 1.2788656   0.5139149  -0.2915875  ... -3....</td>\n",
       "      <td>[[[-1.5335064   0.5242558  -1.2646139  ...  0....</td>\n",
       "      <td>[[[ 0.03329617  0.1860987  -0.52820575 ...  0....</td>\n",
       "    </tr>\n",
       "    <tr>\n",
       "      <th>9997</th>\n",
       "      <td>577</td>\n",
       "      <td>754758001</td>\n",
       "      <td>0.015908</td>\n",
       "      <td>Annie Glove Touch ,Solid ,Black ,Dark ,Accesso...</td>\n",
       "      <td>Gloves in a soft, fine knit with a decorative ...</td>\n",
       "      <td>Annie Glove Touch ,Solid ,Black ,Dark ,Accesso...</td>\n",
       "      <td>[[[ 0.20464347 -1.7581607   0.22940135 ...  1....</td>\n",
       "      <td>[[[-2.1542487   1.7855182  -1.3432826  ... -0....</td>\n",
       "      <td>[[[ 0.12333435 -0.20989144 -1.470628   ... -0....</td>\n",
       "    </tr>\n",
       "    <tr>\n",
       "      <th>9998</th>\n",
       "      <td>577</td>\n",
       "      <td>732372002</td>\n",
       "      <td>0.021272</td>\n",
       "      <td>NELLIE loose tee ,Solid ,Light Pink ,Dusty Lig...</td>\n",
       "      <td>Sports top in fast-drying functional fabric wi...</td>\n",
       "      <td>NELLIE loose tee ,Solid ,Light Pink ,Dusty Lig...</td>\n",
       "      <td>[[[ 0.33143514 -0.62951034  0.0047082  ... -0....</td>\n",
       "      <td>[[[-0.1304922  -0.88622946  1.0710832  ...  2....</td>\n",
       "      <td>[[[-0.28871846 -0.22906666  0.47158793 ... -0....</td>\n",
       "    </tr>\n",
       "    <tr>\n",
       "      <th>9999</th>\n",
       "      <td>577</td>\n",
       "      <td>841185002</td>\n",
       "      <td>0.012859</td>\n",
       "      <td>Venice bikini ,Solid ,Light Red ,Medium Dusty ...</td>\n",
       "      <td>Bikini briefs in lace with a low waist, lined ...</td>\n",
       "      <td>Venice bikini ,Solid ,Light Red ,Medium Dusty ...</td>\n",
       "      <td>[[[-0.46490347 -1.6318688   2.1303604  ...  1....</td>\n",
       "      <td>[[[-1.1975436   1.026635   -1.4004579  ...  0....</td>\n",
       "      <td>[[[-0.45045173 -0.35683972  1.298019   ...  1....</td>\n",
       "    </tr>\n",
       "  </tbody>\n",
       "</table>\n",
       "<p>10000 rows × 9 columns</p>\n",
       "</div>"
      ],
      "text/plain": [
       "      article_count  article_id  Avg_price  \\\n",
       "0             42544   706016001   0.032499   \n",
       "1             29292   706016002   0.032449   \n",
       "2             21950   610776002   0.008091   \n",
       "3             19881   706016003   0.032700   \n",
       "4             19462   562245001   0.026159   \n",
       "...             ...         ...        ...   \n",
       "9995            577   705974001   0.098150   \n",
       "9996            577   853474005   0.035128   \n",
       "9997            577   754758001   0.015908   \n",
       "9998            577   732372002   0.021272   \n",
       "9999            577   841185002   0.012859   \n",
       "\n",
       "                                            description  \\\n",
       "0     Jade HW Skinny Denim TRS ,Solid ,Black ,Dark ,...   \n",
       "1     Jade HW Skinny Denim TRS ,Solid ,Light Blue ,L...   \n",
       "2     Tilly (1) ,Solid ,Black ,Dark ,Jersey Basic ,L...   \n",
       "3     Jade HW Skinny Denim TRS ,Solid ,Dark Blue ,Me...   \n",
       "4     Luna skinny RW ,Solid ,Black ,Dark ,Trousers ,...   \n",
       "...                                                 ...   \n",
       "9995  Mary dress ,Solid ,Dark Blue ,Dark ,Knitwear ,...   \n",
       "9996  Missy ,All over pattern ,Off White ,Dusty Ligh...   \n",
       "9997  Annie Glove Touch ,Solid ,Black ,Dark ,Accesso...   \n",
       "9998  NELLIE loose tee ,Solid ,Light Pink ,Dusty Lig...   \n",
       "9999  Venice bikini ,Solid ,Light Red ,Medium Dusty ...   \n",
       "\n",
       "                                            detail_desc  \\\n",
       "0     High-waisted jeans in washed superstretch deni...   \n",
       "1     High-waisted jeans in washed superstretch deni...   \n",
       "2     T-shirt in lightweight jersey with a rounded h...   \n",
       "3     High-waisted jeans in washed superstretch deni...   \n",
       "4     5-pocket jeans in washed, superstretch denim w...   \n",
       "...                                                 ...   \n",
       "9995  Knee-length dress in a sturdy, fine knit with ...   \n",
       "9996  Voluminous, calf-length, off-the-shoulder dres...   \n",
       "9997  Gloves in a soft, fine knit with a decorative ...   \n",
       "9998  Sports top in fast-drying functional fabric wi...   \n",
       "9999  Bikini briefs in lace with a low waist, lined ...   \n",
       "\n",
       "                                              comb_desc  \\\n",
       "0     Jade HW Skinny Denim TRS ,Solid ,Black ,Dark ,...   \n",
       "1     Jade HW Skinny Denim TRS ,Solid ,Light Blue ,L...   \n",
       "2     Tilly (1) ,Solid ,Black ,Dark ,Jersey Basic ,L...   \n",
       "3     Jade HW Skinny Denim TRS ,Solid ,Dark Blue ,Me...   \n",
       "4     Luna skinny RW ,Solid ,Black ,Dark ,Trousers ,...   \n",
       "...                                                 ...   \n",
       "9995  Mary dress ,Solid ,Dark Blue ,Dark ,Knitwear ,...   \n",
       "9996  Missy ,All over pattern ,Off White ,Dusty Ligh...   \n",
       "9997  Annie Glove Touch ,Solid ,Black ,Dark ,Accesso...   \n",
       "9998  NELLIE loose tee ,Solid ,Light Pink ,Dusty Lig...   \n",
       "9999  Venice bikini ,Solid ,Light Red ,Medium Dusty ...   \n",
       "\n",
       "                                                  Xlnet  \\\n",
       "0     [[[-0.3804164  -0.8812267  -0.06792659 ...  2....   \n",
       "1     [[[-1.2474186  -0.10260493 -0.05328637 ...  1....   \n",
       "2     [[[-0.29206443 -0.16364731 -1.3326098  ... -0....   \n",
       "3     [[[-0.10801899 -1.1233265   0.34570506 ...  3....   \n",
       "4     [[[-0.34007233  1.0228316   0.7145391  ...  0....   \n",
       "...                                                 ...   \n",
       "9995  [[[ 1.1512377   1.0341833   1.0489019  ... -1....   \n",
       "9996  [[[ 1.2788656   0.5139149  -0.2915875  ... -3....   \n",
       "9997  [[[ 0.20464347 -1.7581607   0.22940135 ...  1....   \n",
       "9998  [[[ 0.33143514 -0.62951034  0.0047082  ... -0....   \n",
       "9999  [[[-0.46490347 -1.6318688   2.1303604  ...  1....   \n",
       "\n",
       "                                           Xlnet_detail  \\\n",
       "0     [[[-0.24108036  0.51591814 -0.5857612  ...  0....   \n",
       "1     [[[-0.24108036  0.51591814 -0.5857612  ...  0....   \n",
       "2     [[[-0.47710276  2.1128855  -0.08665454 ...  1....   \n",
       "3     [[[-0.24108036  0.51591814 -0.5857612  ...  0....   \n",
       "4     [[[-1.0142457   0.5663144  -0.3363339  ...  1....   \n",
       "...                                                 ...   \n",
       "9995  [[[-1.2030926   0.89276254 -1.4924575  ...  0....   \n",
       "9996  [[[-1.5335064   0.5242558  -1.2646139  ...  0....   \n",
       "9997  [[[-2.1542487   1.7855182  -1.3432826  ... -0....   \n",
       "9998  [[[-0.1304922  -0.88622946  1.0710832  ...  2....   \n",
       "9999  [[[-1.1975436   1.026635   -1.4004579  ...  0....   \n",
       "\n",
       "                                             Xlnet_comb  \n",
       "0     [[[-0.04332412 -0.05329403 -1.1044266  ...  1....  \n",
       "1     [[[ 0.09275541  0.16334116 -0.9670675  ...  1....  \n",
       "2     [[[-1.1898086   0.95437133 -1.5630703  ...  0....  \n",
       "3     [[[ 0.8103858   0.12666857 -0.27916637 ...  1....  \n",
       "4     [[[-0.12372264  0.6623686  -1.223984   ...  0....  \n",
       "...                                                 ...  \n",
       "9995  [[[ 1.0887921   1.7108539  -0.24746773 ...  0....  \n",
       "9996  [[[ 0.03329617  0.1860987  -0.52820575 ...  0....  \n",
       "9997  [[[ 0.12333435 -0.20989144 -1.470628   ... -0....  \n",
       "9998  [[[-0.28871846 -0.22906666  0.47158793 ... -0....  \n",
       "9999  [[[-0.45045173 -0.35683972  1.298019   ...  1....  \n",
       "\n",
       "[10000 rows x 9 columns]"
      ]
     },
     "execution_count": 44,
     "metadata": {},
     "output_type": "execute_result"
    }
   ],
   "source": [
    "df_3.drop(columns='Unnamed: 0', axis=1)"
   ]
  },
  {
   "cell_type": "code",
   "execution_count": 29,
   "metadata": {},
   "outputs": [
    {
     "name": "stdout",
     "output_type": "stream",
     "text": [
      "/Users/kaergell/Desktop/Neue Fische/Bootcamp/Capestone/fashion-recommender/notebooks\n"
     ]
    }
   ],
   "source": [
    "!pwd"
   ]
  },
  {
   "cell_type": "code",
   "execution_count": 56,
   "metadata": {},
   "outputs": [
    {
     "ename": "KeyError",
     "evalue": "'XLNET'",
     "output_type": "error",
     "traceback": [
      "\u001b[0;31m---------------------------------------------------------------------------\u001b[0m",
      "\u001b[0;31mKeyError\u001b[0m                                  Traceback (most recent call last)",
      "File \u001b[0;32m~/Desktop/Neue Fische/Bootcamp/Capestone/fashion-recommender/.capestone/lib/python3.9/site-packages/pandas/core/indexes/base.py:3361\u001b[0m, in \u001b[0;36mIndex.get_loc\u001b[0;34m(self, key, method, tolerance)\u001b[0m\n\u001b[1;32m   <a href='file:///Users/kaergell/Desktop/Neue%20Fische/Bootcamp/Capestone/fashion-recommender/.capestone/lib/python3.9/site-packages/pandas/core/indexes/base.py?line=3359'>3360</a>\u001b[0m \u001b[39mtry\u001b[39;00m:\n\u001b[0;32m-> <a href='file:///Users/kaergell/Desktop/Neue%20Fische/Bootcamp/Capestone/fashion-recommender/.capestone/lib/python3.9/site-packages/pandas/core/indexes/base.py?line=3360'>3361</a>\u001b[0m     \u001b[39mreturn\u001b[39;00m \u001b[39mself\u001b[39;49m\u001b[39m.\u001b[39;49m_engine\u001b[39m.\u001b[39;49mget_loc(casted_key)\n\u001b[1;32m   <a href='file:///Users/kaergell/Desktop/Neue%20Fische/Bootcamp/Capestone/fashion-recommender/.capestone/lib/python3.9/site-packages/pandas/core/indexes/base.py?line=3361'>3362</a>\u001b[0m \u001b[39mexcept\u001b[39;00m \u001b[39mKeyError\u001b[39;00m \u001b[39mas\u001b[39;00m err:\n",
      "File \u001b[0;32m~/Desktop/Neue Fische/Bootcamp/Capestone/fashion-recommender/.capestone/lib/python3.9/site-packages/pandas/_libs/index.pyx:76\u001b[0m, in \u001b[0;36mpandas._libs.index.IndexEngine.get_loc\u001b[0;34m()\u001b[0m\n",
      "File \u001b[0;32m~/Desktop/Neue Fische/Bootcamp/Capestone/fashion-recommender/.capestone/lib/python3.9/site-packages/pandas/_libs/index.pyx:108\u001b[0m, in \u001b[0;36mpandas._libs.index.IndexEngine.get_loc\u001b[0;34m()\u001b[0m\n",
      "File \u001b[0;32mpandas/_libs/hashtable_class_helper.pxi:5198\u001b[0m, in \u001b[0;36mpandas._libs.hashtable.PyObjectHashTable.get_item\u001b[0;34m()\u001b[0m\n",
      "File \u001b[0;32mpandas/_libs/hashtable_class_helper.pxi:5206\u001b[0m, in \u001b[0;36mpandas._libs.hashtable.PyObjectHashTable.get_item\u001b[0;34m()\u001b[0m\n",
      "\u001b[0;31mKeyError\u001b[0m: 'XLNET'",
      "\nThe above exception was the direct cause of the following exception:\n",
      "\u001b[0;31mKeyError\u001b[0m                                  Traceback (most recent call last)",
      "\u001b[1;32m/Users/kaergell/Desktop/Neue Fische/Bootcamp/Capestone/fashion-recommender/notebooks/Xlnet.ipynb Cell 29'\u001b[0m in \u001b[0;36m<cell line: 1>\u001b[0;34m()\u001b[0m\n\u001b[0;32m----> <a href='vscode-notebook-cell:/Users/kaergell/Desktop/Neue%20Fische/Bootcamp/Capestone/fashion-recommender/notebooks/Xlnet.ipynb#ch0000040?line=0'>1</a>\u001b[0m df[\u001b[39m\"\u001b[39;49m\u001b[39mXLNET\u001b[39;49m\u001b[39m\"\u001b[39;49m]\u001b[39m.\u001b[39mastype(\u001b[39mstr\u001b[39m)\n",
      "File \u001b[0;32m~/Desktop/Neue Fische/Bootcamp/Capestone/fashion-recommender/.capestone/lib/python3.9/site-packages/pandas/core/frame.py:3458\u001b[0m, in \u001b[0;36mDataFrame.__getitem__\u001b[0;34m(self, key)\u001b[0m\n\u001b[1;32m   <a href='file:///Users/kaergell/Desktop/Neue%20Fische/Bootcamp/Capestone/fashion-recommender/.capestone/lib/python3.9/site-packages/pandas/core/frame.py?line=3455'>3456</a>\u001b[0m \u001b[39mif\u001b[39;00m \u001b[39mself\u001b[39m\u001b[39m.\u001b[39mcolumns\u001b[39m.\u001b[39mnlevels \u001b[39m>\u001b[39m \u001b[39m1\u001b[39m:\n\u001b[1;32m   <a href='file:///Users/kaergell/Desktop/Neue%20Fische/Bootcamp/Capestone/fashion-recommender/.capestone/lib/python3.9/site-packages/pandas/core/frame.py?line=3456'>3457</a>\u001b[0m     \u001b[39mreturn\u001b[39;00m \u001b[39mself\u001b[39m\u001b[39m.\u001b[39m_getitem_multilevel(key)\n\u001b[0;32m-> <a href='file:///Users/kaergell/Desktop/Neue%20Fische/Bootcamp/Capestone/fashion-recommender/.capestone/lib/python3.9/site-packages/pandas/core/frame.py?line=3457'>3458</a>\u001b[0m indexer \u001b[39m=\u001b[39m \u001b[39mself\u001b[39;49m\u001b[39m.\u001b[39;49mcolumns\u001b[39m.\u001b[39;49mget_loc(key)\n\u001b[1;32m   <a href='file:///Users/kaergell/Desktop/Neue%20Fische/Bootcamp/Capestone/fashion-recommender/.capestone/lib/python3.9/site-packages/pandas/core/frame.py?line=3458'>3459</a>\u001b[0m \u001b[39mif\u001b[39;00m is_integer(indexer):\n\u001b[1;32m   <a href='file:///Users/kaergell/Desktop/Neue%20Fische/Bootcamp/Capestone/fashion-recommender/.capestone/lib/python3.9/site-packages/pandas/core/frame.py?line=3459'>3460</a>\u001b[0m     indexer \u001b[39m=\u001b[39m [indexer]\n",
      "File \u001b[0;32m~/Desktop/Neue Fische/Bootcamp/Capestone/fashion-recommender/.capestone/lib/python3.9/site-packages/pandas/core/indexes/base.py:3363\u001b[0m, in \u001b[0;36mIndex.get_loc\u001b[0;34m(self, key, method, tolerance)\u001b[0m\n\u001b[1;32m   <a href='file:///Users/kaergell/Desktop/Neue%20Fische/Bootcamp/Capestone/fashion-recommender/.capestone/lib/python3.9/site-packages/pandas/core/indexes/base.py?line=3360'>3361</a>\u001b[0m         \u001b[39mreturn\u001b[39;00m \u001b[39mself\u001b[39m\u001b[39m.\u001b[39m_engine\u001b[39m.\u001b[39mget_loc(casted_key)\n\u001b[1;32m   <a href='file:///Users/kaergell/Desktop/Neue%20Fische/Bootcamp/Capestone/fashion-recommender/.capestone/lib/python3.9/site-packages/pandas/core/indexes/base.py?line=3361'>3362</a>\u001b[0m     \u001b[39mexcept\u001b[39;00m \u001b[39mKeyError\u001b[39;00m \u001b[39mas\u001b[39;00m err:\n\u001b[0;32m-> <a href='file:///Users/kaergell/Desktop/Neue%20Fische/Bootcamp/Capestone/fashion-recommender/.capestone/lib/python3.9/site-packages/pandas/core/indexes/base.py?line=3362'>3363</a>\u001b[0m         \u001b[39mraise\u001b[39;00m \u001b[39mKeyError\u001b[39;00m(key) \u001b[39mfrom\u001b[39;00m \u001b[39merr\u001b[39;00m\n\u001b[1;32m   <a href='file:///Users/kaergell/Desktop/Neue%20Fische/Bootcamp/Capestone/fashion-recommender/.capestone/lib/python3.9/site-packages/pandas/core/indexes/base.py?line=3364'>3365</a>\u001b[0m \u001b[39mif\u001b[39;00m is_scalar(key) \u001b[39mand\u001b[39;00m isna(key) \u001b[39mand\u001b[39;00m \u001b[39mnot\u001b[39;00m \u001b[39mself\u001b[39m\u001b[39m.\u001b[39mhasnans:\n\u001b[1;32m   <a href='file:///Users/kaergell/Desktop/Neue%20Fische/Bootcamp/Capestone/fashion-recommender/.capestone/lib/python3.9/site-packages/pandas/core/indexes/base.py?line=3365'>3366</a>\u001b[0m     \u001b[39mraise\u001b[39;00m \u001b[39mKeyError\u001b[39;00m(key)\n",
      "\u001b[0;31mKeyError\u001b[0m: 'XLNET'"
     ]
    }
   ],
   "source": [
    "df[\"Xlnet\"]."
   ]
  },
  {
   "cell_type": "code",
   "execution_count": 57,
   "metadata": {},
   "outputs": [
    {
     "ename": "ValueError",
     "evalue": "could not convert string to float: '[[[-0.3804164  -0.8812267  -0.06792659 ...  2.3544111   0.4217048\\n   -0.83486056]\\n  [-0.31548518 -0.6912453  -0.45594075 ...  0.40584755 -0.0318665\\n   -0.41349667]\\n  [ 0.93621325  1.2570273   1.0034207  ...  2.0986671  -0.36189178\\n   -1.9071089 ]\\n  ...\\n  [-1.5822608   1.4358767   1.5577245  ... -0.45630652 -0.6305022\\n   -1.4402131 ]\\n  [-1.5198551   1.8699065   0.3210218  ...  0.6321731  -1.4170187\\n    0.07583806]\\n  [-0.7321689   1.6952832   0.78677684 ...  0.59085864 -1.4562796\\n    0.1934985 ]]]'",
     "output_type": "error",
     "traceback": [
      "\u001b[0;31m---------------------------------------------------------------------------\u001b[0m",
      "\u001b[0;31mValueError\u001b[0m                                Traceback (most recent call last)",
      "\u001b[1;32m/Users/kaergell/Desktop/Neue Fische/Bootcamp/Capestone/fashion-recommender/notebooks/Xlnet.ipynb Cell 30'\u001b[0m in \u001b[0;36m<cell line: 2>\u001b[0;34m()\u001b[0m\n\u001b[1;32m      <a href='vscode-notebook-cell:/Users/kaergell/Desktop/Neue%20Fische/Bootcamp/Capestone/fashion-recommender/notebooks/Xlnet.ipynb#ch0000035?line=0'>1</a>\u001b[0m XLNET_index \u001b[39m=\u001b[39m nmslib\u001b[39m.\u001b[39minit(method\u001b[39m=\u001b[39m\u001b[39m'\u001b[39m\u001b[39mhnsw\u001b[39m\u001b[39m'\u001b[39m, space\u001b[39m=\u001b[39m\u001b[39m'\u001b[39m\u001b[39mcosinesimil\u001b[39m\u001b[39m'\u001b[39m)\n\u001b[0;32m----> <a href='vscode-notebook-cell:/Users/kaergell/Desktop/Neue%20Fische/Bootcamp/Capestone/fashion-recommender/notebooks/Xlnet.ipynb#ch0000035?line=1'>2</a>\u001b[0m XLNET_index\u001b[39m.\u001b[39;49maddDataPointBatch(df_3[\u001b[39m\"\u001b[39;49m\u001b[39mXlnet\u001b[39;49m\u001b[39m\"\u001b[39;49m]\u001b[39m.\u001b[39;49mastype(\u001b[39mstr\u001b[39;49m))\n\u001b[1;32m      <a href='vscode-notebook-cell:/Users/kaergell/Desktop/Neue%20Fische/Bootcamp/Capestone/fashion-recommender/notebooks/Xlnet.ipynb#ch0000035?line=2'>3</a>\u001b[0m XLNET_index\u001b[39m.\u001b[39mcreateIndex({\u001b[39m'\u001b[39m\u001b[39mpost\u001b[39m\u001b[39m'\u001b[39m: \u001b[39m2\u001b[39m}, print_progress\u001b[39m=\u001b[39m\u001b[39mTrue\u001b[39;00m)\n",
      "File \u001b[0;32m~/Desktop/Neue Fische/Bootcamp/Capestone/fashion-recommender/.capestone/lib/python3.9/site-packages/pandas/core/series.py:857\u001b[0m, in \u001b[0;36mSeries.__array__\u001b[0;34m(self, dtype)\u001b[0m\n\u001b[1;32m    <a href='file:///Users/kaergell/Desktop/Neue%20Fische/Bootcamp/Capestone/fashion-recommender/.capestone/lib/python3.9/site-packages/pandas/core/series.py?line=809'>810</a>\u001b[0m \u001b[39mdef\u001b[39;00m \u001b[39m__array__\u001b[39m(\u001b[39mself\u001b[39m, dtype: NpDtype \u001b[39m|\u001b[39m \u001b[39mNone\u001b[39;00m \u001b[39m=\u001b[39m \u001b[39mNone\u001b[39;00m) \u001b[39m-\u001b[39m\u001b[39m>\u001b[39m np\u001b[39m.\u001b[39mndarray:\n\u001b[1;32m    <a href='file:///Users/kaergell/Desktop/Neue%20Fische/Bootcamp/Capestone/fashion-recommender/.capestone/lib/python3.9/site-packages/pandas/core/series.py?line=810'>811</a>\u001b[0m     \u001b[39m\"\"\"\u001b[39;00m\n\u001b[1;32m    <a href='file:///Users/kaergell/Desktop/Neue%20Fische/Bootcamp/Capestone/fashion-recommender/.capestone/lib/python3.9/site-packages/pandas/core/series.py?line=811'>812</a>\u001b[0m \u001b[39m    Return the values as a NumPy array.\u001b[39;00m\n\u001b[1;32m    <a href='file:///Users/kaergell/Desktop/Neue%20Fische/Bootcamp/Capestone/fashion-recommender/.capestone/lib/python3.9/site-packages/pandas/core/series.py?line=812'>813</a>\u001b[0m \n\u001b[0;32m   (...)\u001b[0m\n\u001b[1;32m    <a href='file:///Users/kaergell/Desktop/Neue%20Fische/Bootcamp/Capestone/fashion-recommender/.capestone/lib/python3.9/site-packages/pandas/core/series.py?line=854'>855</a>\u001b[0m \u001b[39m          dtype='datetime64[ns]')\u001b[39;00m\n\u001b[1;32m    <a href='file:///Users/kaergell/Desktop/Neue%20Fische/Bootcamp/Capestone/fashion-recommender/.capestone/lib/python3.9/site-packages/pandas/core/series.py?line=855'>856</a>\u001b[0m \u001b[39m    \"\"\"\u001b[39;00m\n\u001b[0;32m--> <a href='file:///Users/kaergell/Desktop/Neue%20Fische/Bootcamp/Capestone/fashion-recommender/.capestone/lib/python3.9/site-packages/pandas/core/series.py?line=856'>857</a>\u001b[0m     \u001b[39mreturn\u001b[39;00m np\u001b[39m.\u001b[39;49masarray(\u001b[39mself\u001b[39;49m\u001b[39m.\u001b[39;49m_values, dtype)\n",
      "\u001b[0;31mValueError\u001b[0m: could not convert string to float: '[[[-0.3804164  -0.8812267  -0.06792659 ...  2.3544111   0.4217048\\n   -0.83486056]\\n  [-0.31548518 -0.6912453  -0.45594075 ...  0.40584755 -0.0318665\\n   -0.41349667]\\n  [ 0.93621325  1.2570273   1.0034207  ...  2.0986671  -0.36189178\\n   -1.9071089 ]\\n  ...\\n  [-1.5822608   1.4358767   1.5577245  ... -0.45630652 -0.6305022\\n   -1.4402131 ]\\n  [-1.5198551   1.8699065   0.3210218  ...  0.6321731  -1.4170187\\n    0.07583806]\\n  [-0.7321689   1.6952832   0.78677684 ...  0.59085864 -1.4562796\\n    0.1934985 ]]]'"
     ]
    }
   ],
   "source": [
    "XLNET_index = nmslib.init(method='hnsw', space='cosinesimil')\n",
    "XLNET_index.addDataPointBatch(df_3[\"Xlnet\"].astype(str))\n",
    "XLNET_index.createIndex({'post': 2}, print_progress=True)"
   ]
  },
  {
   "cell_type": "code",
   "execution_count": null,
   "metadata": {},
   "outputs": [],
   "source": []
  }
 ],
 "metadata": {
  "interpreter": {
   "hash": "328734dbe9e3c184795c63509ffa33498755909f8a78b9e437854070cb5b22ec"
  },
  "kernelspec": {
   "display_name": "Python 3.9.4 ('.capestone': venv)",
   "language": "python",
   "name": "python3"
  },
  "language_info": {
   "codemirror_mode": {
    "name": "ipython",
    "version": 3
   },
   "file_extension": ".py",
   "mimetype": "text/x-python",
   "name": "python",
   "nbconvert_exporter": "python",
   "pygments_lexer": "ipython3",
   "version": "3.9.4"
  },
  "orig_nbformat": 4
 },
 "nbformat": 4,
 "nbformat_minor": 2
}
