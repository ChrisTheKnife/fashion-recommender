{
 "cells": [
  {
   "cell_type": "code",
   "execution_count": 1,
   "metadata": {},
   "outputs": [],
   "source": [
    "import pandas as pd\n",
    "import numpy as np\n",
    "import seaborn as sns\n",
    "import matplotlib.pyplot as plt\n",
    "from tqdm import tqdm\n",
    "import warnings\n",
    "warnings.filterwarnings('ignore')\n",
    "\n",
    "# from mlxtend.frequent_patterns import apriori\n",
    "# from mlxtend.frequent_patterns import association_rules\n",
    "\n",
    "# Display numbers not in scientific notation:\n",
    "pd.options.display.float_format = '{:.2f}'.format"
   ]
  },
  {
   "cell_type": "markdown",
   "metadata": {},
   "source": [
    "# Load data"
   ]
  },
  {
   "cell_type": "code",
   "execution_count": 2,
   "metadata": {},
   "outputs": [],
   "source": [
    "df_trans = pd.read_csv('../data/transactions_train.csv', dtype={'article_id':'string'})\n"
   ]
  },
  {
   "cell_type": "markdown",
   "metadata": {},
   "source": [
    "# 1.0 Model on baskets\n",
    "https://pbpython.com/market-basket-analysis.html\n",
    "\n",
    "Create association rules based on baskets (not on wardrobes). \n",
    "\n",
    "Use mlxtend library."
   ]
  },
  {
   "cell_type": "code",
   "execution_count": null,
   "metadata": {},
   "outputs": [],
   "source": [
    "# Create 'invoice_no'-column:\n",
    "\n",
    "df_trans['invoice_no'] = df_trans['t_dat'] + df_trans['customer_id']\n",
    "# df_trans['quantity'] = 1\n",
    "df_trans.head()"
   ]
  },
  {
   "cell_type": "code",
   "execution_count": null,
   "metadata": {},
   "outputs": [],
   "source": [
    "# Create sample to speed up process \n",
    " \n",
    "df_trans_sample = df_trans.sample(n=100000, random_state=42)\n",
    "\n",
    "df_trans_sample.drop(columns=['t_dat', 'customer_id', 'price', 'sales_channel_id'], inplace=True)"
   ]
  },
  {
   "cell_type": "code",
   "execution_count": null,
   "metadata": {},
   "outputs": [],
   "source": [
    "basket = df_trans_sample.pivot_table(index='invoice_no', columns='article_id', aggfunc=len, fill_value=0)\n",
    "onehot = onehot>0"
   ]
  },
  {
   "cell_type": "code",
   "execution_count": null,
   "metadata": {},
   "outputs": [],
   "source": [
    "# basket = (df_trans_sample\n",
    "#           .groupby(['invoice_no', 'article_id'])['quantity']\n",
    "#           .sum().unstack().reset_index().fillna(0)\n",
    "#           .set_index('invoice_no'))\n",
    "\n",
    "basket = (df_trans_sample\n",
    "          .groupby(['invoice_no', 'article_id'])['article_id']\n",
    "          .count().unstack().reset_index().fillna(0)\n",
    "          .set_index('invoice_no'))"
   ]
  },
  {
   "cell_type": "code",
   "execution_count": null,
   "metadata": {},
   "outputs": [],
   "source": [
    "basket.head()"
   ]
  },
  {
   "cell_type": "code",
   "execution_count": null,
   "metadata": {},
   "outputs": [],
   "source": [
    "basket.sum()"
   ]
  },
  {
   "cell_type": "code",
   "execution_count": null,
   "metadata": {},
   "outputs": [],
   "source": [
    "frequent_itemsets = apriori(basket, min_support=0.0007, use_colnames=True)"
   ]
  },
  {
   "cell_type": "code",
   "execution_count": null,
   "metadata": {},
   "outputs": [],
   "source": [
    "frequent_itemsets"
   ]
  },
  {
   "cell_type": "code",
   "execution_count": null,
   "metadata": {},
   "outputs": [],
   "source": [
    "rules = association_rules(frequent_itemsets, metric=\"lift\", min_threshold=1)\n",
    "rules.head()"
   ]
  }
 ],
 "metadata": {
  "interpreter": {
   "hash": "6dc839308f78902ab8919870d8b0efc1a24d6ce128a31abf7bd1f309bd1934dd"
  },
  "kernelspec": {
   "display_name": "Python 3.9.4 ('.venv': venv)",
   "language": "python",
   "name": "python3"
  },
  "language_info": {
   "codemirror_mode": {
    "name": "ipython",
    "version": 3
   },
   "file_extension": ".py",
   "mimetype": "text/x-python",
   "name": "python",
   "nbconvert_exporter": "python",
   "pygments_lexer": "ipython3",
   "version": "3.9.4"
  },
  "orig_nbformat": 4
 },
 "nbformat": 4,
 "nbformat_minor": 2
}
