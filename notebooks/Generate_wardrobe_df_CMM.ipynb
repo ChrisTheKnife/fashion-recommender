{
 "cells": [
  {
   "cell_type": "code",
   "execution_count": 1,
   "metadata": {},
   "outputs": [],
   "source": [
    "import pandas as pd\n",
    "import numpy as np\n",
    "import seaborn as sns\n",
    "import matplotlib.pyplot as plt\n",
    "from tqdm import tqdm\n",
    "import warnings\n",
    "warnings.filterwarnings('ignore')\n",
    "\n",
    "# Display numbers not in scientific notation:\n",
    "pd.options.display.float_format = '{:.2f}'.format\n",
    "\n",
    "import Functions_EDA_CMM as fe"
   ]
  },
  {
   "cell_type": "markdown",
   "metadata": {},
   "source": [
    "# 1.0 Load and prepare data"
   ]
  },
  {
   "cell_type": "code",
   "execution_count": 5,
   "metadata": {},
   "outputs": [],
   "source": [
    "# Read in the transaction data csv and print head:\n",
    "\n",
    "df_trans = pd.read_csv('../data/transactions_train.csv', dtype={'article_id':'string'})\n",
    "\n",
    "df_trans.head()"
   ]
  },
  {
   "cell_type": "code",
   "execution_count": 7,
   "metadata": {},
   "outputs": [
    {
     "name": "stdout",
     "output_type": "stream",
     "text": [
      "<class 'pandas.core.frame.DataFrame'>\n",
      "RangeIndex: 31788324 entries, 0 to 31788323\n",
      "Data columns (total 5 columns):\n",
      " #   Column            Dtype  \n",
      "---  ------            -----  \n",
      " 0   t_dat             object \n",
      " 1   customer_id       object \n",
      " 2   article_id        string \n",
      " 3   price             float64\n",
      " 4   sales_channel_id  int64  \n",
      "dtypes: float64(1), int64(1), object(2), string(1)\n",
      "memory usage: 1.2+ GB\n"
     ]
    }
   ],
   "source": [
    "# Check if \"article_id\" is string:\n",
    "\n",
    "df_trans.info()"
   ]
  },
  {
   "cell_type": "markdown",
   "metadata": {},
   "source": [
    "# 2.0 Create wardrobe dataframe"
   ]
  },
  {
   "cell_type": "markdown",
   "metadata": {},
   "source": [
    "## 2.1 Version 20220425"
   ]
  },
  {
   "cell_type": "code",
   "execution_count": 8,
   "metadata": {},
   "outputs": [],
   "source": [
    "# Drop all not necessary columns from transaction df:\n",
    "\n",
    "df_trans_red = df_trans.drop(columns=['t_dat', 'price', 'sales_channel_id']).copy()"
   ]
  },
  {
   "cell_type": "code",
   "execution_count": 9,
   "metadata": {},
   "outputs": [
    {
     "data": {
      "text/html": [
       "<div>\n",
       "<style scoped>\n",
       "    .dataframe tbody tr th:only-of-type {\n",
       "        vertical-align: middle;\n",
       "    }\n",
       "\n",
       "    .dataframe tbody tr th {\n",
       "        vertical-align: top;\n",
       "    }\n",
       "\n",
       "    .dataframe thead th {\n",
       "        text-align: right;\n",
       "    }\n",
       "</style>\n",
       "<table border=\"1\" class=\"dataframe\">\n",
       "  <thead>\n",
       "    <tr style=\"text-align: right;\">\n",
       "      <th></th>\n",
       "      <th>customer_id</th>\n",
       "      <th>article_id</th>\n",
       "    </tr>\n",
       "  </thead>\n",
       "  <tbody>\n",
       "    <tr>\n",
       "      <th>0</th>\n",
       "      <td>000058a12d5b43e67d225668fa1f8d618c13dc232df0ca...</td>\n",
       "      <td>0663713001</td>\n",
       "    </tr>\n",
       "    <tr>\n",
       "      <th>1</th>\n",
       "      <td>000058a12d5b43e67d225668fa1f8d618c13dc232df0ca...</td>\n",
       "      <td>0541518023</td>\n",
       "    </tr>\n",
       "    <tr>\n",
       "      <th>2</th>\n",
       "      <td>00007d2de826758b65a93dd24ce629ed66842531df6699...</td>\n",
       "      <td>0505221004</td>\n",
       "    </tr>\n",
       "    <tr>\n",
       "      <th>3</th>\n",
       "      <td>00007d2de826758b65a93dd24ce629ed66842531df6699...</td>\n",
       "      <td>0685687003</td>\n",
       "    </tr>\n",
       "    <tr>\n",
       "      <th>4</th>\n",
       "      <td>00007d2de826758b65a93dd24ce629ed66842531df6699...</td>\n",
       "      <td>0685687004</td>\n",
       "    </tr>\n",
       "  </tbody>\n",
       "</table>\n",
       "</div>"
      ],
      "text/plain": [
       "                                         customer_id  article_id\n",
       "0  000058a12d5b43e67d225668fa1f8d618c13dc232df0ca...  0663713001\n",
       "1  000058a12d5b43e67d225668fa1f8d618c13dc232df0ca...  0541518023\n",
       "2  00007d2de826758b65a93dd24ce629ed66842531df6699...  0505221004\n",
       "3  00007d2de826758b65a93dd24ce629ed66842531df6699...  0685687003\n",
       "4  00007d2de826758b65a93dd24ce629ed66842531df6699...  0685687004"
      ]
     },
     "execution_count": 9,
     "metadata": {},
     "output_type": "execute_result"
    }
   ],
   "source": [
    "df_trans_red.head()"
   ]
  },
  {
   "cell_type": "code",
   "execution_count": 10,
   "metadata": {},
   "outputs": [],
   "source": [
    "# ACTUALLY MOST IMPORTANT PART: Generate wardrobe dataframe:\n",
    "\n",
    "wardrobe_df = df_trans_red.groupby('customer_id')['article_id'].aggregate(lambda x: list(x)).reset_index()\n"
   ]
  },
  {
   "cell_type": "code",
   "execution_count": 11,
   "metadata": {},
   "outputs": [
    {
     "data": {
      "text/html": [
       "<div>\n",
       "<style scoped>\n",
       "    .dataframe tbody tr th:only-of-type {\n",
       "        vertical-align: middle;\n",
       "    }\n",
       "\n",
       "    .dataframe tbody tr th {\n",
       "        vertical-align: top;\n",
       "    }\n",
       "\n",
       "    .dataframe thead th {\n",
       "        text-align: right;\n",
       "    }\n",
       "</style>\n",
       "<table border=\"1\" class=\"dataframe\">\n",
       "  <thead>\n",
       "    <tr style=\"text-align: right;\">\n",
       "      <th></th>\n",
       "      <th>customer_id</th>\n",
       "      <th>article_id</th>\n",
       "    </tr>\n",
       "  </thead>\n",
       "  <tbody>\n",
       "    <tr>\n",
       "      <th>0</th>\n",
       "      <td>00000dbacae5abe5e23885899a1fa44253a17956c6d1c3...</td>\n",
       "      <td>[0625548001, 0176209023, 0627759010, 069713800...</td>\n",
       "    </tr>\n",
       "    <tr>\n",
       "      <th>1</th>\n",
       "      <td>0000423b00ade91418cceaf3b26c6af3dd342b51fd051e...</td>\n",
       "      <td>[0583558001, 0639677008, 0640244003, 052126900...</td>\n",
       "    </tr>\n",
       "    <tr>\n",
       "      <th>2</th>\n",
       "      <td>000058a12d5b43e67d225668fa1f8d618c13dc232df0ca...</td>\n",
       "      <td>[0663713001, 0541518023, 0663713001, 057802000...</td>\n",
       "    </tr>\n",
       "    <tr>\n",
       "      <th>3</th>\n",
       "      <td>00005ca1c9ed5f5146b52ac8639a40ca9d57aeff4d1bd2...</td>\n",
       "      <td>[0742079001, 0732413001]</td>\n",
       "    </tr>\n",
       "    <tr>\n",
       "      <th>4</th>\n",
       "      <td>00006413d8573cd20ed7128e53b7b13819fe5cfc2d801f...</td>\n",
       "      <td>[0634249005, 0677049001, 0698286003, 070770400...</td>\n",
       "    </tr>\n",
       "    <tr>\n",
       "      <th>...</th>\n",
       "      <td>...</td>\n",
       "      <td>...</td>\n",
       "    </tr>\n",
       "    <tr>\n",
       "      <th>1362276</th>\n",
       "      <td>ffffbbf78b6eaac697a8a5dfbfd2bfa8113ee5b403e474...</td>\n",
       "      <td>[0698276003, 0699075005, 0694182002, 072243600...</td>\n",
       "    </tr>\n",
       "    <tr>\n",
       "      <th>1362277</th>\n",
       "      <td>ffffcd5046a6143d29a04fb8c424ce494a76e5cdf4fab5...</td>\n",
       "      <td>[0671695001, 0562245015, 0562245018, 056224500...</td>\n",
       "    </tr>\n",
       "    <tr>\n",
       "      <th>1362278</th>\n",
       "      <td>ffffcf35913a0bee60e8741cb2b4e78b8a98ee5ff2e6a1...</td>\n",
       "      <td>[0568597019, 0484398001, 0484398001, 070108300...</td>\n",
       "    </tr>\n",
       "    <tr>\n",
       "      <th>1362279</th>\n",
       "      <td>ffffd7744cebcf3aca44ae7049d2a94b87074c3d4ffe38...</td>\n",
       "      <td>[0821395003, 0806241002, 0714790020, 086675500...</td>\n",
       "    </tr>\n",
       "    <tr>\n",
       "      <th>1362280</th>\n",
       "      <td>ffffd9ac14e89946416d80e791d064701994755c3ab686...</td>\n",
       "      <td>[0806050001]</td>\n",
       "    </tr>\n",
       "  </tbody>\n",
       "</table>\n",
       "<p>1362281 rows × 2 columns</p>\n",
       "</div>"
      ],
      "text/plain": [
       "                                               customer_id  \\\n",
       "0        00000dbacae5abe5e23885899a1fa44253a17956c6d1c3...   \n",
       "1        0000423b00ade91418cceaf3b26c6af3dd342b51fd051e...   \n",
       "2        000058a12d5b43e67d225668fa1f8d618c13dc232df0ca...   \n",
       "3        00005ca1c9ed5f5146b52ac8639a40ca9d57aeff4d1bd2...   \n",
       "4        00006413d8573cd20ed7128e53b7b13819fe5cfc2d801f...   \n",
       "...                                                    ...   \n",
       "1362276  ffffbbf78b6eaac697a8a5dfbfd2bfa8113ee5b403e474...   \n",
       "1362277  ffffcd5046a6143d29a04fb8c424ce494a76e5cdf4fab5...   \n",
       "1362278  ffffcf35913a0bee60e8741cb2b4e78b8a98ee5ff2e6a1...   \n",
       "1362279  ffffd7744cebcf3aca44ae7049d2a94b87074c3d4ffe38...   \n",
       "1362280  ffffd9ac14e89946416d80e791d064701994755c3ab686...   \n",
       "\n",
       "                                                article_id  \n",
       "0        [0625548001, 0176209023, 0627759010, 069713800...  \n",
       "1        [0583558001, 0639677008, 0640244003, 052126900...  \n",
       "2        [0663713001, 0541518023, 0663713001, 057802000...  \n",
       "3                                 [0742079001, 0732413001]  \n",
       "4        [0634249005, 0677049001, 0698286003, 070770400...  \n",
       "...                                                    ...  \n",
       "1362276  [0698276003, 0699075005, 0694182002, 072243600...  \n",
       "1362277  [0671695001, 0562245015, 0562245018, 056224500...  \n",
       "1362278  [0568597019, 0484398001, 0484398001, 070108300...  \n",
       "1362279  [0821395003, 0806241002, 0714790020, 086675500...  \n",
       "1362280                                       [0806050001]  \n",
       "\n",
       "[1362281 rows x 2 columns]"
      ]
     },
     "execution_count": 11,
     "metadata": {},
     "output_type": "execute_result"
    }
   ],
   "source": [
    "wardrobe_df"
   ]
  },
  {
   "cell_type": "code",
   "execution_count": 12,
   "metadata": {},
   "outputs": [],
   "source": [
    "# Store wardrobe as csv:\n",
    "wardrobe_df.to_csv('../data/wardrobe_all.csv')"
   ]
  },
  {
   "cell_type": "markdown",
   "metadata": {},
   "source": [
    "### Test if same results:"
   ]
  },
  {
   "cell_type": "code",
   "execution_count": 13,
   "metadata": {},
   "outputs": [
    {
     "data": {
      "text/plain": [
       "45722    92\n",
       "Name: article_id, dtype: int64"
      ]
     },
     "execution_count": 13,
     "metadata": {},
     "output_type": "execute_result"
    }
   ],
   "source": [
    "wardrobe_df.loc[wardrobe_df['customer_id'] == '089cb17f70586ad3dacb6e0ced2352c5464ab575b49d0680a463f9218efdd566'].article_id.str.len()"
   ]
  },
  {
   "cell_type": "code",
   "execution_count": 14,
   "metadata": {},
   "outputs": [
    {
     "data": {
      "text/plain": [
       "array([list(['0688873002', '0661162001', '0399136004', '0584992003', '0584992003', '0580301001', '0580301001', '0673677004', '0706108001', '0640735007', '0737735002', '0685689001', '0685689001', '0685689001', '0685689001', '0654100005', '0682848004', '0693584002', '0673396002', '0693956001', '0697686002', '0708588001', '0514937001', '0587229001', '0720346005', '0713200003', '0636902001', '0600886011', '0648769001', '0648769001', '0399136027', '0399201005', '0788178001', '0705955002', '0726228001', '0705955004', '0705955004', '0705955004', '0399201022', '0788178001', '0705955002', '0705955002', '0705955002', '0669360001', '0740215005', '0797988002', '0736963001', '0714032005', '0797710001', '0756318002', '0819139001', '0836258001', '0790635001', '0834412001', '0809961002', '0834412001', '0802974003', '0802974003', '0862970001', '0862970001', '0805000004', '0573390001', '0833548001', '0795777001', '0819547002', '0716670007', '0842952003', '0796137001', '0716670007', '0796137001', '0814766001', '0795440001', '0796137001', '0831211002', '0716670007', '0801512004', '0822186001', '0720125041', '0881497001', '0881497001', '0881497001', '0883021003', '0909080002', '0909080002', '0862970002', '0864339003', '0864339003', '0836699001', '0843373001', '0843373001', '0836699001', '0843373001'])],\n",
       "      dtype=object)"
      ]
     },
     "execution_count": 14,
     "metadata": {},
     "output_type": "execute_result"
    }
   ],
   "source": [
    "test_1 = wardrobe_df.loc[wardrobe_df['customer_id'] == '089cb17f70586ad3dacb6e0ced2352c5464ab575b49d0680a463f9218efdd566']\n",
    "test_1.article_id.values"
   ]
  },
  {
   "cell_type": "code",
   "execution_count": 15,
   "metadata": {},
   "outputs": [],
   "source": [
    "test_wardrobe = pd.read_csv('../data/wardrobe_10000.csv', index_col=0)"
   ]
  },
  {
   "cell_type": "code",
   "execution_count": 16,
   "metadata": {},
   "outputs": [
    {
     "data": {
      "text/plain": [
       "array(['[688873002, 661162001, 399136004, 584992003, 584992003, 580301001, 580301001, 673677004, 706108001, 640735007, 737735002, 685689001, 685689001, 685689001, 685689001, 654100005, 682848004, 693584002, 673396002, 693956001, 697686002, 708588001, 514937001, 587229001, 720346005, 713200003, 636902001, 600886011, 648769001, 648769001, 399136027, 399201005, 788178001, 705955002, 726228001, 705955004, 705955004, 705955004, 399201022, 788178001, 705955002, 705955002, 705955002, 669360001, 740215005, 797988002, 736963001, 714032005, 797710001, 756318002, 819139001, 836258001, 790635001, 834412001, 809961002, 834412001, 802974003, 802974003, 862970001, 862970001, 805000004, 573390001, 833548001, 795777001, 819547002, 716670007, 842952003, 796137001, 716670007, 796137001, 814766001, 795440001, 796137001, 831211002, 716670007, 801512004, 822186001, 720125041, 881497001, 881497001, 881497001, 883021003, 909080002, 909080002, 862970002, 864339003, 864339003, 836699001, 843373001, 843373001, 836699001, 843373001]'],\n",
       "      dtype=object)"
      ]
     },
     "execution_count": 16,
     "metadata": {},
     "output_type": "execute_result"
    }
   ],
   "source": [
    "test_2 = test_wardrobe.loc[test_wardrobe['customer_id'] == '089cb17f70586ad3dacb6e0ced2352c5464ab575b49d0680a463f9218efdd566']\n",
    "test_2.articles.values"
   ]
  },
  {
   "cell_type": "markdown",
   "metadata": {},
   "source": [
    "RESULT: Both variants in dataframe-creation deliver the same number of articles for the selected customer_id. This means, that the oneliner if Version 20220425 is working correctly and can be applied."
   ]
  },
  {
   "cell_type": "markdown",
   "metadata": {},
   "source": [
    "## 2.2 Transformation of transaction dataframe for older wardrobe-generation versions"
   ]
  },
  {
   "cell_type": "code",
   "execution_count": null,
   "metadata": {},
   "outputs": [],
   "source": [
    "# NOT NEEDED FOR VERSION 20220425\n",
    "# Execute function to calculate number of orders for each customer (Assumption: one order is the sum of all purchases of a customer on one day)\n",
    "number_orders = fe.calc_orders_cust(df_trans)\n",
    "\n",
    "number_orders.head(100)"
   ]
  },
  {
   "cell_type": "code",
   "execution_count": null,
   "metadata": {},
   "outputs": [],
   "source": [
    "# NOT NEEDED FOR VERSION 20220425\n",
    "\n",
    "# Add number of orders to every row in transaction file:\n",
    "df_trans_orders = pd.merge(df_trans, number_orders, on=\"customer_id\")\n",
    "\n",
    "# Sort by customer id and number of orders to start wardrobe generation with customer ids who purchased a lot:\n",
    "df_trans_sort = df_trans_orders.sort_values(['number_orders', 'customer_id'], ascending=[False, False])"
   ]
  },
  {
   "cell_type": "code",
   "execution_count": null,
   "metadata": {},
   "outputs": [],
   "source": [
    "df_trans_sort.head()"
   ]
  },
  {
   "cell_type": "code",
   "execution_count": null,
   "metadata": {},
   "outputs": [],
   "source": [
    "# NOT NEEDED FOR VERSION 20220425\n",
    "\n",
    "# Store all customer ids in a list for using it in a for loop:\n",
    "# cust_list_all = list(df_trans_sort.customer_id.unique())\n",
    "\n",
    "cust_list_all = list(number_orders.customer_id)"
   ]
  },
  {
   "cell_type": "markdown",
   "metadata": {},
   "source": [
    "## 2.3 Version 20220424 (OLD)"
   ]
  },
  {
   "cell_type": "markdown",
   "metadata": {},
   "source": [
    "Can be deleted later."
   ]
  },
  {
   "cell_type": "code",
   "execution_count": null,
   "metadata": {},
   "outputs": [],
   "source": [
    "from tqdm import tqdm"
   ]
  },
  {
   "cell_type": "code",
   "execution_count": null,
   "metadata": {},
   "outputs": [],
   "source": [
    "# Drop all not necessary columns from transaction df:\n",
    "\n",
    "df_trans_sort.drop(columns=['t_dat', 'price', 'sales_channel_id', 'datetime', 'number_orders'], inplace=True)"
   ]
  },
  {
   "cell_type": "code",
   "execution_count": null,
   "metadata": {},
   "outputs": [],
   "source": [
    "df_trans_sort"
   ]
  },
  {
   "cell_type": "code",
   "execution_count": null,
   "metadata": {},
   "outputs": [],
   "source": [
    "wardrobe_list = []\n",
    "wardrobe_dict = {}\n",
    "\n",
    "# Initialize counter, if dataframe should not be executed completely (exit-option)\n",
    "i=0\n",
    "# Loop through transaction dataframe for each customer\n",
    "for cust in tqdm(cust_list_all):\n",
    "    # print(f\"customer id: {cust} and i: {i}\")\n",
    "    # Count one up (exit-option)\n",
    "    i += 1\n",
    "    # Query transaction dataframe for row with the current customer id and store purchased article_ids in a dict\n",
    "    query = df_trans_sort.query(f'customer_id == \"{cust}\"')\n",
    "    wardrobe_dict[cust] = query['article_id'].tolist()\n",
    "    if i == 10000:\n",
    "        # Exit-option: Break for loop after 10000 customer ids\n",
    "        break\n",
    "\n",
    "# Transfrom dict into dataframe\n",
    "df_wardrobe3 = pd.DataFrame(list(wardrobe_dict.items()), columns=['customer_id', 'articles'])\n",
    "\n",
    "df_wardrobe3.head()"
   ]
  },
  {
   "cell_type": "code",
   "execution_count": null,
   "metadata": {},
   "outputs": [],
   "source": [
    "# Save wardrobe as csv\n",
    "df_wardrobe3.to_csv('../data/wardrobe_10000.csv')\n"
   ]
  },
  {
   "cell_type": "code",
   "execution_count": 1,
   "metadata": {},
   "outputs": [
    {
     "ename": "NameError",
     "evalue": "name 'df_wardrobe3' is not defined",
     "output_type": "error",
     "traceback": [
      "\u001b[0;31m---------------------------------------------------------------------------\u001b[0m",
      "\u001b[0;31mNameError\u001b[0m                                 Traceback (most recent call last)",
      "\u001b[1;32m/Users/c_messerschmidt/Documents/neuefische/fashion-recommender/notebooks/Generate_wardrobe_df_CMM.ipynb Cell 30'\u001b[0m in \u001b[0;36m<cell line: 1>\u001b[0;34m()\u001b[0m\n\u001b[0;32m----> <a href='vscode-notebook-cell:/Users/c_messerschmidt/Documents/neuefische/fashion-recommender/notebooks/Generate_wardrobe_df_CMM.ipynb#ch0000029?line=0'>1</a>\u001b[0m df_wardrobe3\u001b[39m.\u001b[39mdescribe()\n",
      "\u001b[0;31mNameError\u001b[0m: name 'df_wardrobe3' is not defined"
     ]
    }
   ],
   "source": [
    "df_wardrobe3.describe()"
   ]
  },
  {
   "cell_type": "markdown",
   "metadata": {},
   "source": [
    "## 2.4 Version 20220421 (OLD - uses samples of transaction dataset)"
   ]
  },
  {
   "cell_type": "markdown",
   "metadata": {},
   "source": [
    "Can bee deleted later."
   ]
  },
  {
   "cell_type": "code",
   "execution_count": null,
   "metadata": {},
   "outputs": [],
   "source": [
    "# df_trans_sample = df_trans.sample(n=60000, random_state=42)"
   ]
  },
  {
   "cell_type": "code",
   "execution_count": null,
   "metadata": {},
   "outputs": [],
   "source": [
    "# cust_list = list(df_trans_sample.customer_id.unique())"
   ]
  },
  {
   "cell_type": "code",
   "execution_count": null,
   "metadata": {},
   "outputs": [],
   "source": [
    "# wardrobe_list = []\n",
    "# wardrobe_dict = {}\n",
    "# # cust_list = list(df_trans.customer_id.unique())\n",
    "\n",
    "# for cust in cust_list:\n",
    "#     query = df_trans_sample.query(f'customer_id == \"{cust}\"')\n",
    "   \n",
    "#     wardrobe_dict[cust] = query['article_id'].tolist()\n",
    "#     # wardrobe_list = []\n",
    "\n",
    "# df_wardrobe = pd.DataFrame(list(wardrobe_dict.items()), columns=['customer_id', 'articles'])\n",
    "# # df_wardrobe = pd.DataFrame.from_dict(wardrobe_dict, orient='index', columns=['customer_id', 'articles']).reset_index()\n",
    "# # df_wardrobe = pd.DataFrame.from_dict(wardrobe_dict)\n",
    "\n",
    "# # df_wardrobe.rename(columns={'index': 'customer_id', 'customer_id': 'articles', 'articles': 'ho'}, inplace=True)\n",
    "# # df_wardrobe.drop(columns='ho', inplace=True)\n",
    "\n",
    "\n",
    "# print(df_wardrobe.head())"
   ]
  },
  {
   "cell_type": "code",
   "execution_count": null,
   "metadata": {},
   "outputs": [],
   "source": []
  }
 ],
 "metadata": {
  "interpreter": {
   "hash": "6dc839308f78902ab8919870d8b0efc1a24d6ce128a31abf7bd1f309bd1934dd"
  },
  "kernelspec": {
   "display_name": "Python 3.9.4 ('.venv': venv)",
   "language": "python",
   "name": "python3"
  },
  "language_info": {
   "codemirror_mode": {
    "name": "ipython",
    "version": 3
   },
   "file_extension": ".py",
   "mimetype": "text/x-python",
   "name": "python",
   "nbconvert_exporter": "python",
   "pygments_lexer": "ipython3",
   "version": "3.9.4"
  },
  "orig_nbformat": 4
 },
 "nbformat": 4,
 "nbformat_minor": 2
}
