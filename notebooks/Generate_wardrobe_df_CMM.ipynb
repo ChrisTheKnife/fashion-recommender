{
 "cells": [
  {
   "cell_type": "code",
   "execution_count": 1,
   "metadata": {},
   "outputs": [],
   "source": [
    "import pandas as pd\n",
    "import numpy as np\n",
    "import seaborn as sns\n",
    "import matplotlib.pyplot as plt\n",
    "from tqdm import tqdm\n",
    "import warnings\n",
    "warnings.filterwarnings('ignore')\n",
    "\n",
    "# Display numbers not in scientific notation:\n",
    "pd.options.display.float_format = '{:.2f}'.format\n",
    "\n",
    "import Functions_EDA_CMM as fe"
   ]
  },
  {
   "cell_type": "markdown",
   "metadata": {},
   "source": [
    "# 1.0 Load and prepare data"
   ]
  },
  {
   "cell_type": "code",
   "execution_count": 2,
   "metadata": {},
   "outputs": [],
   "source": [
    "# Read in the transaction data csv:\n",
    "\n",
    "df_trans = pd.read_csv('../data/transactions_train.csv')"
   ]
  },
  {
   "cell_type": "code",
   "execution_count": 3,
   "metadata": {},
   "outputs": [],
   "source": [
    "# Execute function to calculate number of orders for each customer (Assumption: one order is the sum of all purchases of a customer on one day)\n",
    "number_orders = fe.calc_orders_cust(df_trans)"
   ]
  },
  {
   "cell_type": "code",
   "execution_count": 5,
   "metadata": {},
   "outputs": [
    {
     "data": {
      "text/html": [
       "<div>\n",
       "<style scoped>\n",
       "    .dataframe tbody tr th:only-of-type {\n",
       "        vertical-align: middle;\n",
       "    }\n",
       "\n",
       "    .dataframe tbody tr th {\n",
       "        vertical-align: top;\n",
       "    }\n",
       "\n",
       "    .dataframe thead th {\n",
       "        text-align: right;\n",
       "    }\n",
       "</style>\n",
       "<table border=\"1\" class=\"dataframe\">\n",
       "  <thead>\n",
       "    <tr style=\"text-align: right;\">\n",
       "      <th></th>\n",
       "      <th>customer_id</th>\n",
       "      <th>number_orders</th>\n",
       "    </tr>\n",
       "  </thead>\n",
       "  <tbody>\n",
       "    <tr>\n",
       "      <th>0</th>\n",
       "      <td>a65f77281a528bf5c1e9f270141d601d116e1df33bf9df...</td>\n",
       "      <td>427</td>\n",
       "    </tr>\n",
       "    <tr>\n",
       "      <th>1</th>\n",
       "      <td>f137c16fd175271922dad4006565503952f24750a57388...</td>\n",
       "      <td>391</td>\n",
       "    </tr>\n",
       "    <tr>\n",
       "      <th>2</th>\n",
       "      <td>8df45859ccd71ef1e48e2ee9d1c65d5728c31c46ae957d...</td>\n",
       "      <td>390</td>\n",
       "    </tr>\n",
       "    <tr>\n",
       "      <th>3</th>\n",
       "      <td>788785852eddb5874f924603105f315d69571b3e5180f3...</td>\n",
       "      <td>322</td>\n",
       "    </tr>\n",
       "    <tr>\n",
       "      <th>4</th>\n",
       "      <td>e34f8aa5e7c8c258523ea3e5f5f13168b6c21a9e8bffcc...</td>\n",
       "      <td>318</td>\n",
       "    </tr>\n",
       "  </tbody>\n",
       "</table>\n",
       "</div>"
      ],
      "text/plain": [
       "                                         customer_id  number_orders\n",
       "0  a65f77281a528bf5c1e9f270141d601d116e1df33bf9df...            427\n",
       "1  f137c16fd175271922dad4006565503952f24750a57388...            391\n",
       "2  8df45859ccd71ef1e48e2ee9d1c65d5728c31c46ae957d...            390\n",
       "3  788785852eddb5874f924603105f315d69571b3e5180f3...            322\n",
       "4  e34f8aa5e7c8c258523ea3e5f5f13168b6c21a9e8bffcc...            318"
      ]
     },
     "execution_count": 5,
     "metadata": {},
     "output_type": "execute_result"
    }
   ],
   "source": [
    "number_orders.head()"
   ]
  },
  {
   "cell_type": "code",
   "execution_count": 6,
   "metadata": {},
   "outputs": [],
   "source": [
    "# Add number of orders to every row in transaction file:\n",
    "df_trans_orders = pd.merge(df_trans, number_orders, on=\"customer_id\")\n",
    "\n",
    "# Sort by customer id and number of orders to start wardrobe generation with customer ids who purchased a lot:\n",
    "df_trans_sort = df_trans_orders.sort_values(['number_orders', 'customer_id'], ascending=[False, False])"
   ]
  },
  {
   "cell_type": "code",
   "execution_count": 10,
   "metadata": {},
   "outputs": [
    {
     "data": {
      "text/html": [
       "<div>\n",
       "<style scoped>\n",
       "    .dataframe tbody tr th:only-of-type {\n",
       "        vertical-align: middle;\n",
       "    }\n",
       "\n",
       "    .dataframe tbody tr th {\n",
       "        vertical-align: top;\n",
       "    }\n",
       "\n",
       "    .dataframe thead th {\n",
       "        text-align: right;\n",
       "    }\n",
       "</style>\n",
       "<table border=\"1\" class=\"dataframe\">\n",
       "  <thead>\n",
       "    <tr style=\"text-align: right;\">\n",
       "      <th></th>\n",
       "      <th>t_dat</th>\n",
       "      <th>customer_id</th>\n",
       "      <th>article_id</th>\n",
       "      <th>price</th>\n",
       "      <th>sales_channel_id</th>\n",
       "      <th>datetime</th>\n",
       "      <th>number_orders</th>\n",
       "    </tr>\n",
       "  </thead>\n",
       "  <tbody>\n",
       "    <tr>\n",
       "      <th>3386028</th>\n",
       "      <td>2018-09-24</td>\n",
       "      <td>a65f77281a528bf5c1e9f270141d601d116e1df33bf9df...</td>\n",
       "      <td>543729003</td>\n",
       "      <td>0.05</td>\n",
       "      <td>2</td>\n",
       "      <td>2018-09-24</td>\n",
       "      <td>427</td>\n",
       "    </tr>\n",
       "    <tr>\n",
       "      <th>3386029</th>\n",
       "      <td>2018-09-24</td>\n",
       "      <td>a65f77281a528bf5c1e9f270141d601d116e1df33bf9df...</td>\n",
       "      <td>610016001</td>\n",
       "      <td>0.04</td>\n",
       "      <td>2</td>\n",
       "      <td>2018-09-24</td>\n",
       "      <td>427</td>\n",
       "    </tr>\n",
       "    <tr>\n",
       "      <th>3386030</th>\n",
       "      <td>2018-09-24</td>\n",
       "      <td>a65f77281a528bf5c1e9f270141d601d116e1df33bf9df...</td>\n",
       "      <td>639199001</td>\n",
       "      <td>0.08</td>\n",
       "      <td>2</td>\n",
       "      <td>2018-09-24</td>\n",
       "      <td>427</td>\n",
       "    </tr>\n",
       "    <tr>\n",
       "      <th>3386031</th>\n",
       "      <td>2018-09-24</td>\n",
       "      <td>a65f77281a528bf5c1e9f270141d601d116e1df33bf9df...</td>\n",
       "      <td>573650001</td>\n",
       "      <td>0.02</td>\n",
       "      <td>2</td>\n",
       "      <td>2018-09-24</td>\n",
       "      <td>427</td>\n",
       "    </tr>\n",
       "    <tr>\n",
       "      <th>3386032</th>\n",
       "      <td>2018-09-26</td>\n",
       "      <td>a65f77281a528bf5c1e9f270141d601d116e1df33bf9df...</td>\n",
       "      <td>607712001</td>\n",
       "      <td>0.03</td>\n",
       "      <td>2</td>\n",
       "      <td>2018-09-26</td>\n",
       "      <td>427</td>\n",
       "    </tr>\n",
       "  </tbody>\n",
       "</table>\n",
       "</div>"
      ],
      "text/plain": [
       "              t_dat                                        customer_id  \\\n",
       "3386028  2018-09-24  a65f77281a528bf5c1e9f270141d601d116e1df33bf9df...   \n",
       "3386029  2018-09-24  a65f77281a528bf5c1e9f270141d601d116e1df33bf9df...   \n",
       "3386030  2018-09-24  a65f77281a528bf5c1e9f270141d601d116e1df33bf9df...   \n",
       "3386031  2018-09-24  a65f77281a528bf5c1e9f270141d601d116e1df33bf9df...   \n",
       "3386032  2018-09-26  a65f77281a528bf5c1e9f270141d601d116e1df33bf9df...   \n",
       "\n",
       "         article_id  price  sales_channel_id   datetime  number_orders  \n",
       "3386028   543729003   0.05                 2 2018-09-24            427  \n",
       "3386029   610016001   0.04                 2 2018-09-24            427  \n",
       "3386030   639199001   0.08                 2 2018-09-24            427  \n",
       "3386031   573650001   0.02                 2 2018-09-24            427  \n",
       "3386032   607712001   0.03                 2 2018-09-26            427  "
      ]
     },
     "execution_count": 10,
     "metadata": {},
     "output_type": "execute_result"
    }
   ],
   "source": [
    "df_trans_sort.head()"
   ]
  },
  {
   "cell_type": "code",
   "execution_count": 7,
   "metadata": {},
   "outputs": [],
   "source": [
    "# Store all customer ids in a list for using it in a for loop:\n",
    "cust_list_all = list(df_trans_sort.customer_id.unique())"
   ]
  },
  {
   "cell_type": "markdown",
   "metadata": {},
   "source": [
    "# 2.0 Create wardrobe dataframe"
   ]
  },
  {
   "cell_type": "markdown",
   "metadata": {},
   "source": [
    "#### New version"
   ]
  },
  {
   "cell_type": "code",
   "execution_count": 16,
   "metadata": {},
   "outputs": [],
   "source": [
    "from tqdm import tqdm"
   ]
  },
  {
   "cell_type": "code",
   "execution_count": 18,
   "metadata": {},
   "outputs": [
    {
     "name": "stderr",
     "output_type": "stream",
     "text": [
      "  1%|          | 9999/1362281 [4:21:34<589:35:20,  1.57s/it]  \n"
     ]
    },
    {
     "data": {
      "text/html": [
       "<div>\n",
       "<style scoped>\n",
       "    .dataframe tbody tr th:only-of-type {\n",
       "        vertical-align: middle;\n",
       "    }\n",
       "\n",
       "    .dataframe tbody tr th {\n",
       "        vertical-align: top;\n",
       "    }\n",
       "\n",
       "    .dataframe thead th {\n",
       "        text-align: right;\n",
       "    }\n",
       "</style>\n",
       "<table border=\"1\" class=\"dataframe\">\n",
       "  <thead>\n",
       "    <tr style=\"text-align: right;\">\n",
       "      <th></th>\n",
       "      <th>customer_id</th>\n",
       "      <th>articles</th>\n",
       "    </tr>\n",
       "  </thead>\n",
       "  <tbody>\n",
       "    <tr>\n",
       "      <th>0</th>\n",
       "      <td>a65f77281a528bf5c1e9f270141d601d116e1df33bf9df...</td>\n",
       "      <td>[543729003, 610016001, 639199001, 573650001, 6...</td>\n",
       "    </tr>\n",
       "    <tr>\n",
       "      <th>1</th>\n",
       "      <td>f137c16fd175271922dad4006565503952f24750a57388...</td>\n",
       "      <td>[671505001, 675319001, 575141004, 673643001, 6...</td>\n",
       "    </tr>\n",
       "    <tr>\n",
       "      <th>2</th>\n",
       "      <td>8df45859ccd71ef1e48e2ee9d1c65d5728c31c46ae957d...</td>\n",
       "      <td>[660830005, 665535003, 675281002, 675281002, 6...</td>\n",
       "    </tr>\n",
       "    <tr>\n",
       "      <th>3</th>\n",
       "      <td>788785852eddb5874f924603105f315d69571b3e5180f3...</td>\n",
       "      <td>[189616006, 554598012, 554598028, 637005002, 6...</td>\n",
       "    </tr>\n",
       "    <tr>\n",
       "      <th>4</th>\n",
       "      <td>e34f8aa5e7c8c258523ea3e5f5f13168b6c21a9e8bffcc...</td>\n",
       "      <td>[478751007, 572517002, 572517002, 626366004, 5...</td>\n",
       "    </tr>\n",
       "  </tbody>\n",
       "</table>\n",
       "</div>"
      ],
      "text/plain": [
       "                                         customer_id  \\\n",
       "0  a65f77281a528bf5c1e9f270141d601d116e1df33bf9df...   \n",
       "1  f137c16fd175271922dad4006565503952f24750a57388...   \n",
       "2  8df45859ccd71ef1e48e2ee9d1c65d5728c31c46ae957d...   \n",
       "3  788785852eddb5874f924603105f315d69571b3e5180f3...   \n",
       "4  e34f8aa5e7c8c258523ea3e5f5f13168b6c21a9e8bffcc...   \n",
       "\n",
       "                                            articles  \n",
       "0  [543729003, 610016001, 639199001, 573650001, 6...  \n",
       "1  [671505001, 675319001, 575141004, 673643001, 6...  \n",
       "2  [660830005, 665535003, 675281002, 675281002, 6...  \n",
       "3  [189616006, 554598012, 554598028, 637005002, 6...  \n",
       "4  [478751007, 572517002, 572517002, 626366004, 5...  "
      ]
     },
     "execution_count": 18,
     "metadata": {},
     "output_type": "execute_result"
    }
   ],
   "source": [
    "wardrobe_list = []\n",
    "wardrobe_dict = {}\n",
    "\n",
    "# Initialize counter, if dataframe should not be executed completely (exit-option)\n",
    "i=0\n",
    "# Loop through transaction dataframe for each customer\n",
    "for cust in tqdm(cust_list_all):\n",
    "    # print(f\"customer id: {cust} and i: {i}\")\n",
    "    # Count one up (exit-option)\n",
    "    i += 1\n",
    "    # Query transaction dataframe for row with the current customer id and store purchased article_ids in a dict\n",
    "    query = df_trans_sort.query(f'customer_id == \"{cust}\"')\n",
    "    wardrobe_dict[cust] = query['article_id'].tolist()\n",
    "    if i == 10000:\n",
    "        # Exit-option: Break for loop after 1000 customer ids\n",
    "        break\n",
    "\n",
    "# Transfrom dict into dataframe\n",
    "df_wardrobe3 = pd.DataFrame(list(wardrobe_dict.items()), columns=['customer_id', 'articles'])\n",
    "\n",
    "df_wardrobe3.head()"
   ]
  },
  {
   "cell_type": "code",
   "execution_count": 19,
   "metadata": {},
   "outputs": [],
   "source": [
    "# Save wardrobe as csv\n",
    "df_wardrobe3.to_csv('../data/wardrobe_10000.csv')\n"
   ]
  },
  {
   "cell_type": "code",
   "execution_count": 21,
   "metadata": {},
   "outputs": [
    {
     "data": {
      "text/html": [
       "<div>\n",
       "<style scoped>\n",
       "    .dataframe tbody tr th:only-of-type {\n",
       "        vertical-align: middle;\n",
       "    }\n",
       "\n",
       "    .dataframe tbody tr th {\n",
       "        vertical-align: top;\n",
       "    }\n",
       "\n",
       "    .dataframe thead th {\n",
       "        text-align: right;\n",
       "    }\n",
       "</style>\n",
       "<table border=\"1\" class=\"dataframe\">\n",
       "  <thead>\n",
       "    <tr style=\"text-align: right;\">\n",
       "      <th></th>\n",
       "      <th>customer_id</th>\n",
       "      <th>articles</th>\n",
       "    </tr>\n",
       "  </thead>\n",
       "  <tbody>\n",
       "    <tr>\n",
       "      <th>count</th>\n",
       "      <td>10000</td>\n",
       "      <td>10000</td>\n",
       "    </tr>\n",
       "    <tr>\n",
       "      <th>unique</th>\n",
       "      <td>10000</td>\n",
       "      <td>10000</td>\n",
       "    </tr>\n",
       "    <tr>\n",
       "      <th>top</th>\n",
       "      <td>a65f77281a528bf5c1e9f270141d601d116e1df33bf9df...</td>\n",
       "      <td>[543729003, 610016001, 639199001, 573650001, 6...</td>\n",
       "    </tr>\n",
       "    <tr>\n",
       "      <th>freq</th>\n",
       "      <td>1</td>\n",
       "      <td>1</td>\n",
       "    </tr>\n",
       "  </tbody>\n",
       "</table>\n",
       "</div>"
      ],
      "text/plain": [
       "                                              customer_id  \\\n",
       "count                                               10000   \n",
       "unique                                              10000   \n",
       "top     a65f77281a528bf5c1e9f270141d601d116e1df33bf9df...   \n",
       "freq                                                    1   \n",
       "\n",
       "                                                 articles  \n",
       "count                                               10000  \n",
       "unique                                              10000  \n",
       "top     [543729003, 610016001, 639199001, 573650001, 6...  \n",
       "freq                                                    1  "
      ]
     },
     "execution_count": 21,
     "metadata": {},
     "output_type": "execute_result"
    }
   ],
   "source": [
    "df_wardrobe3.describe()"
   ]
  },
  {
   "cell_type": "markdown",
   "metadata": {},
   "source": [
    "#### Old Version (uses samples of transaction dataset)"
   ]
  },
  {
   "cell_type": "code",
   "execution_count": 153,
   "metadata": {},
   "outputs": [],
   "source": [
    "# df_trans_sample = df_trans.sample(n=60000, random_state=42)"
   ]
  },
  {
   "cell_type": "code",
   "execution_count": 154,
   "metadata": {},
   "outputs": [],
   "source": [
    "# cust_list = list(df_trans_sample.customer_id.unique())"
   ]
  },
  {
   "cell_type": "code",
   "execution_count": 155,
   "metadata": {},
   "outputs": [
    {
     "name": "stdout",
     "output_type": "stream",
     "text": [
      "                                         customer_id     articles\n",
      "0  215895f90002eb3d1a04bd603513c8e85e6002ef08f136...  [786586001]\n",
      "1  7b183268e3a4623b80d5325ec4a20a0af0edff7bcb1748...  [658911001]\n",
      "2  2eb7412239a90c0570cd3d1bf0492856ae5b59058b1ea6...  [759326005]\n",
      "3  74f162e5a170fd57207aa2a7d5c58479ee9de903b2a277...  [737137004]\n",
      "4  aab9306ee28c4db494003955f80355e540b01480ab35cf...  [785931001]\n"
     ]
    }
   ],
   "source": [
    "# wardrobe_list = []\n",
    "# wardrobe_dict = {}\n",
    "# # cust_list = list(df_trans.customer_id.unique())\n",
    "\n",
    "# for cust in cust_list:\n",
    "#     query = df_trans_sample.query(f'customer_id == \"{cust}\"')\n",
    "   \n",
    "#     wardrobe_dict[cust] = query['article_id'].tolist()\n",
    "#     # wardrobe_list = []\n",
    "\n",
    "# df_wardrobe = pd.DataFrame(list(wardrobe_dict.items()), columns=['customer_id', 'articles'])\n",
    "# # df_wardrobe = pd.DataFrame.from_dict(wardrobe_dict, orient='index', columns=['customer_id', 'articles']).reset_index()\n",
    "# # df_wardrobe = pd.DataFrame.from_dict(wardrobe_dict)\n",
    "\n",
    "# # df_wardrobe.rename(columns={'index': 'customer_id', 'customer_id': 'articles', 'articles': 'ho'}, inplace=True)\n",
    "# # df_wardrobe.drop(columns='ho', inplace=True)\n",
    "\n",
    "\n",
    "# print(df_wardrobe.head())"
   ]
  },
  {
   "cell_type": "code",
   "execution_count": null,
   "metadata": {},
   "outputs": [],
   "source": []
  }
 ],
 "metadata": {
  "interpreter": {
   "hash": "6dc839308f78902ab8919870d8b0efc1a24d6ce128a31abf7bd1f309bd1934dd"
  },
  "kernelspec": {
   "display_name": "Python 3.9.4 ('.venv': venv)",
   "language": "python",
   "name": "python3"
  },
  "language_info": {
   "codemirror_mode": {
    "name": "ipython",
    "version": 3
   },
   "file_extension": ".py",
   "mimetype": "text/x-python",
   "name": "python",
   "nbconvert_exporter": "python",
   "pygments_lexer": "ipython3",
   "version": "3.9.4"
  },
  "orig_nbformat": 4
 },
 "nbformat": 4,
 "nbformat_minor": 2
}
