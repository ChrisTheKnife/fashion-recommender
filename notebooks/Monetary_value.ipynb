{
 "cells": [
  {
   "cell_type": "code",
   "execution_count": 56,
   "metadata": {},
   "outputs": [],
   "source": [
    "import pandas as pd\n",
    "import numpy as np\n",
    "import seaborn as sns\n",
    "import matplotlib.pyplot as plt\n",
    "from tqdm import tqdm\n",
    "import gc\n",
    "import warnings\n",
    "warnings.filterwarnings('ignore')"
   ]
  },
  {
   "cell_type": "markdown",
   "metadata": {},
   "source": [
    "# 1.0 Load submission data and real purchases in test period"
   ]
  },
  {
   "cell_type": "code",
   "execution_count": 57,
   "metadata": {},
   "outputs": [],
   "source": [
    "# Load submission file:\n",
    "df_submission = pd.read_csv('../data/baseline_submission.csv')\n",
    "\n",
    "# Set modelname:\n",
    "model_name = 'baseline_top12'"
   ]
  },
  {
   "cell_type": "code",
   "execution_count": 58,
   "metadata": {},
   "outputs": [
    {
     "data": {
      "text/html": [
       "<div>\n",
       "<style scoped>\n",
       "    .dataframe tbody tr th:only-of-type {\n",
       "        vertical-align: middle;\n",
       "    }\n",
       "\n",
       "    .dataframe tbody tr th {\n",
       "        vertical-align: top;\n",
       "    }\n",
       "\n",
       "    .dataframe thead th {\n",
       "        text-align: right;\n",
       "    }\n",
       "</style>\n",
       "<table border=\"1\" class=\"dataframe\">\n",
       "  <thead>\n",
       "    <tr style=\"text-align: right;\">\n",
       "      <th></th>\n",
       "      <th>t_dat</th>\n",
       "      <th>customer_id</th>\n",
       "      <th>article_id</th>\n",
       "      <th>price</th>\n",
       "      <th>sales_channel_id</th>\n",
       "    </tr>\n",
       "  </thead>\n",
       "  <tbody>\n",
       "    <tr>\n",
       "      <th>0</th>\n",
       "      <td>2018-09-20</td>\n",
       "      <td>000058a12d5b43e67d225668fa1f8d618c13dc232df0ca...</td>\n",
       "      <td>0663713001</td>\n",
       "      <td>0.050831</td>\n",
       "      <td>2</td>\n",
       "    </tr>\n",
       "    <tr>\n",
       "      <th>1</th>\n",
       "      <td>2018-09-20</td>\n",
       "      <td>000058a12d5b43e67d225668fa1f8d618c13dc232df0ca...</td>\n",
       "      <td>0541518023</td>\n",
       "      <td>0.030492</td>\n",
       "      <td>2</td>\n",
       "    </tr>\n",
       "    <tr>\n",
       "      <th>2</th>\n",
       "      <td>2018-09-20</td>\n",
       "      <td>00007d2de826758b65a93dd24ce629ed66842531df6699...</td>\n",
       "      <td>0505221004</td>\n",
       "      <td>0.015237</td>\n",
       "      <td>2</td>\n",
       "    </tr>\n",
       "    <tr>\n",
       "      <th>3</th>\n",
       "      <td>2018-09-20</td>\n",
       "      <td>00007d2de826758b65a93dd24ce629ed66842531df6699...</td>\n",
       "      <td>0685687003</td>\n",
       "      <td>0.016932</td>\n",
       "      <td>2</td>\n",
       "    </tr>\n",
       "    <tr>\n",
       "      <th>4</th>\n",
       "      <td>2018-09-20</td>\n",
       "      <td>00007d2de826758b65a93dd24ce629ed66842531df6699...</td>\n",
       "      <td>0685687004</td>\n",
       "      <td>0.016932</td>\n",
       "      <td>2</td>\n",
       "    </tr>\n",
       "  </tbody>\n",
       "</table>\n",
       "</div>"
      ],
      "text/plain": [
       "       t_dat                                        customer_id  article_id  \\\n",
       "0 2018-09-20  000058a12d5b43e67d225668fa1f8d618c13dc232df0ca...  0663713001   \n",
       "1 2018-09-20  000058a12d5b43e67d225668fa1f8d618c13dc232df0ca...  0541518023   \n",
       "2 2018-09-20  00007d2de826758b65a93dd24ce629ed66842531df6699...  0505221004   \n",
       "3 2018-09-20  00007d2de826758b65a93dd24ce629ed66842531df6699...  0685687003   \n",
       "4 2018-09-20  00007d2de826758b65a93dd24ce629ed66842531df6699...  0685687004   \n",
       "\n",
       "      price  sales_channel_id  \n",
       "0  0.050831                 2  \n",
       "1  0.030492                 2  \n",
       "2  0.015237                 2  \n",
       "3  0.016932                 2  \n",
       "4  0.016932                 2  "
      ]
     },
     "execution_count": 58,
     "metadata": {},
     "output_type": "execute_result"
    }
   ],
   "source": [
    "# Load transactions:\n",
    "df_trans = pd.read_csv('../data/transactions_train.csv', parse_dates=[0], dtype={'article_id':'string'})\n",
    "df_trans.head()"
   ]
  },
  {
   "cell_type": "code",
   "execution_count": 59,
   "metadata": {},
   "outputs": [
    {
     "name": "stdout",
     "output_type": "stream",
     "text": [
      "Number of purchases in test-week are: 255241\n"
     ]
    },
    {
     "data": {
      "text/html": [
       "<div>\n",
       "<style scoped>\n",
       "    .dataframe tbody tr th:only-of-type {\n",
       "        vertical-align: middle;\n",
       "    }\n",
       "\n",
       "    .dataframe tbody tr th {\n",
       "        vertical-align: top;\n",
       "    }\n",
       "\n",
       "    .dataframe thead th {\n",
       "        text-align: right;\n",
       "    }\n",
       "</style>\n",
       "<table border=\"1\" class=\"dataframe\">\n",
       "  <thead>\n",
       "    <tr style=\"text-align: right;\">\n",
       "      <th></th>\n",
       "      <th>customer_id</th>\n",
       "      <th>article_id</th>\n",
       "      <th>price</th>\n",
       "    </tr>\n",
       "  </thead>\n",
       "  <tbody>\n",
       "    <tr>\n",
       "      <th>31292772</th>\n",
       "      <td>000493dd9fc463df1acc2081450c9e75ef8e87d5dd17ed...</td>\n",
       "      <td>0399136061</td>\n",
       "      <td>0.083390</td>\n",
       "    </tr>\n",
       "    <tr>\n",
       "      <th>31292773</th>\n",
       "      <td>000493dd9fc463df1acc2081450c9e75ef8e87d5dd17ed...</td>\n",
       "      <td>0732842014</td>\n",
       "      <td>0.066712</td>\n",
       "    </tr>\n",
       "    <tr>\n",
       "      <th>31292774</th>\n",
       "      <td>000493dd9fc463df1acc2081450c9e75ef8e87d5dd17ed...</td>\n",
       "      <td>0556255001</td>\n",
       "      <td>0.010000</td>\n",
       "    </tr>\n",
       "    <tr>\n",
       "      <th>31292775</th>\n",
       "      <td>000493dd9fc463df1acc2081450c9e75ef8e87d5dd17ed...</td>\n",
       "      <td>0852219003</td>\n",
       "      <td>0.008322</td>\n",
       "    </tr>\n",
       "    <tr>\n",
       "      <th>31292776</th>\n",
       "      <td>000493dd9fc463df1acc2081450c9e75ef8e87d5dd17ed...</td>\n",
       "      <td>0732842021</td>\n",
       "      <td>0.066712</td>\n",
       "    </tr>\n",
       "  </tbody>\n",
       "</table>\n",
       "</div>"
      ],
      "text/plain": [
       "                                                customer_id  article_id  \\\n",
       "31292772  000493dd9fc463df1acc2081450c9e75ef8e87d5dd17ed...  0399136061   \n",
       "31292773  000493dd9fc463df1acc2081450c9e75ef8e87d5dd17ed...  0732842014   \n",
       "31292774  000493dd9fc463df1acc2081450c9e75ef8e87d5dd17ed...  0556255001   \n",
       "31292775  000493dd9fc463df1acc2081450c9e75ef8e87d5dd17ed...  0852219003   \n",
       "31292776  000493dd9fc463df1acc2081450c9e75ef8e87d5dd17ed...  0732842021   \n",
       "\n",
       "             price  \n",
       "31292772  0.083390  \n",
       "31292773  0.066712  \n",
       "31292774  0.010000  \n",
       "31292775  0.008322  \n",
       "31292776  0.066712  "
      ]
     },
     "execution_count": 59,
     "metadata": {},
     "output_type": "execute_result"
    }
   ],
   "source": [
    "# Set start and end date:\n",
    "\n",
    "test_week_no = 3\n",
    "\n",
    "if test_week_no == 1:\n",
    "    start_date = \"2020-08-26\"\n",
    "    end_date = \"2020-09-01\"\n",
    "elif test_week_no == 2:\n",
    "    start_date = \"2020-09-02\"\n",
    "    end_date = \"2020-09-08\"\n",
    "elif test_week_no == 3:\n",
    "    start_date = \"2020-09-09\"\n",
    "    end_date = \"2020-09-15\"\n",
    "else:\n",
    "    start_date = \"2020-09-09\"\n",
    "    end_date = \"2020-09-15\"\n",
    "\n",
    "# Load purchases in test period:\n",
    "df_test_week = df_trans.query(f't_dat >= \"{start_date}\" and t_dat <= \"{end_date}\"').copy()\n",
    "# Drop not necessary columns:\n",
    "df_test_week = df_test_week.drop(columns=['t_dat', 'sales_channel_id'])\n",
    "\n",
    "print(f'Number of purchases in test-week are: {df_test_week.shape[0]}')\n",
    "\n",
    "df_test_week.head()"
   ]
  },
  {
   "cell_type": "code",
   "execution_count": null,
   "metadata": {},
   "outputs": [],
   "source": [
    "# NOT NEEDED:\n",
    "# Create wardrobe for testweek:\n",
    "# df_wardrobe_week = df_test_week.groupby('customer_id')[['article_id','price']].aggregate(lambda x: list(x)).reset_index().copy()\n",
    "# df_wardrobe_week.head()"
   ]
  },
  {
   "cell_type": "code",
   "execution_count": 60,
   "metadata": {},
   "outputs": [
    {
     "data": {
      "text/html": [
       "<div>\n",
       "<style scoped>\n",
       "    .dataframe tbody tr th:only-of-type {\n",
       "        vertical-align: middle;\n",
       "    }\n",
       "\n",
       "    .dataframe tbody tr th {\n",
       "        vertical-align: top;\n",
       "    }\n",
       "\n",
       "    .dataframe thead th {\n",
       "        text-align: right;\n",
       "    }\n",
       "</style>\n",
       "<table border=\"1\" class=\"dataframe\">\n",
       "  <thead>\n",
       "    <tr style=\"text-align: right;\">\n",
       "      <th></th>\n",
       "      <th>customer_id</th>\n",
       "      <th>prediction_12</th>\n",
       "    </tr>\n",
       "  </thead>\n",
       "  <tbody>\n",
       "    <tr>\n",
       "      <th>0</th>\n",
       "      <td>00000dbacae5abe5e23885899a1fa44253a17956c6d1c3...</td>\n",
       "      <td>[0706016001, 0706016002, 0372860001, 061077600...</td>\n",
       "    </tr>\n",
       "    <tr>\n",
       "      <th>1</th>\n",
       "      <td>0000423b00ade91418cceaf3b26c6af3dd342b51fd051e...</td>\n",
       "      <td>[0706016001, 0706016002, 0372860001, 061077600...</td>\n",
       "    </tr>\n",
       "    <tr>\n",
       "      <th>2</th>\n",
       "      <td>000058a12d5b43e67d225668fa1f8d618c13dc232df0ca...</td>\n",
       "      <td>[0706016001, 0706016002, 0372860001, 061077600...</td>\n",
       "    </tr>\n",
       "    <tr>\n",
       "      <th>3</th>\n",
       "      <td>00005ca1c9ed5f5146b52ac8639a40ca9d57aeff4d1bd2...</td>\n",
       "      <td>[0706016001, 0706016002, 0372860001, 061077600...</td>\n",
       "    </tr>\n",
       "    <tr>\n",
       "      <th>4</th>\n",
       "      <td>00006413d8573cd20ed7128e53b7b13819fe5cfc2d801f...</td>\n",
       "      <td>[0706016001, 0706016002, 0372860001, 061077600...</td>\n",
       "    </tr>\n",
       "  </tbody>\n",
       "</table>\n",
       "</div>"
      ],
      "text/plain": [
       "                                         customer_id  \\\n",
       "0  00000dbacae5abe5e23885899a1fa44253a17956c6d1c3...   \n",
       "1  0000423b00ade91418cceaf3b26c6af3dd342b51fd051e...   \n",
       "2  000058a12d5b43e67d225668fa1f8d618c13dc232df0ca...   \n",
       "3  00005ca1c9ed5f5146b52ac8639a40ca9d57aeff4d1bd2...   \n",
       "4  00006413d8573cd20ed7128e53b7b13819fe5cfc2d801f...   \n",
       "\n",
       "                                       prediction_12  \n",
       "0  [0706016001, 0706016002, 0372860001, 061077600...  \n",
       "1  [0706016001, 0706016002, 0372860001, 061077600...  \n",
       "2  [0706016001, 0706016002, 0372860001, 061077600...  \n",
       "3  [0706016001, 0706016002, 0372860001, 061077600...  \n",
       "4  [0706016001, 0706016002, 0372860001, 061077600...  "
      ]
     },
     "execution_count": 60,
     "metadata": {},
     "output_type": "execute_result"
    }
   ],
   "source": [
    "# Convert prediction-string to list\n",
    "df_submission['prediction2'] = df_submission['prediction'].apply(lambda x: list(x.split(' ')))\n",
    "\n",
    "# Cut prediction-list to 12 elements (only for Marketbasket-Submission necessary)\n",
    "df_submission['prediction_12'] = df_submission['prediction2'].apply(lambda x: x[0:12])\n",
    "\n",
    "# Drop not necessary columns:\n",
    "df_submission = df_submission.drop(columns=['prediction', 'prediction2'])\n",
    "\n",
    "df_submission.head()"
   ]
  },
  {
   "cell_type": "markdown",
   "metadata": {},
   "source": [
    "# 2.0 Collect all prices from forecasted products"
   ]
  },
  {
   "cell_type": "code",
   "execution_count": null,
   "metadata": {},
   "outputs": [],
   "source": [
    "# Loop through datasets to get forecasted products:\n",
    "#price_list = []\n",
    "#article_list = []\n",
    "# for i in tqdm(range(0,10000)):\n",
    "#for i in tqdm(range(len(df_test_week))):\n",
    "#    df_sub_cust = df_submission.query(f'customer_id == \"{df_test_week.customer_id.iloc[i]}\"')\n",
    "#    if df_test_week.article_id.iloc[i] in df_sub_cust.prediction_12.iloc[0]:\n",
    "#        price_list.append(df_test_week.price.iloc[i])\n",
    "#        article_list.append(df_test_week.article_id.iloc[i])\n",
    "\n",
    "\n",
    "#print(f'Number of found prices: {len(price_list)}')\n",
    "#print(f'Number of forecasted articles: {len(article_list)}')\n"
   ]
  },
  {
   "cell_type": "code",
   "execution_count": 177,
   "metadata": {},
   "outputs": [
    {
     "name": "stdout",
     "output_type": "stream",
     "text": [
      "Number of found prices: 2411\n",
      "Number of forecasted articles: 2411\n"
     ]
    }
   ],
   "source": [
    "# alternative to cell above\n",
    "def count_hits(actual, predicted, prices):\n",
    "    # find items that were both predicted and bought (repeat buys will only appear once though)\n",
    "    isect = np.intersect1d(actual, predicted)\n",
    "    # count taking into account repeat buys\n",
    "    actual = np.array(actual)\n",
    "    prices = np.array(prices)\n",
    "    hits = np.sum([len(actual[actual == x]) for x in predicted])\n",
    "    # collect items and prices\n",
    "    items = []\n",
    "    prices_out = []\n",
    "    for item in isect:\n",
    "        items.extend([item for i in range(len(actual[actual == item]))])\n",
    "        prices_out.extend(prices[actual == item])\n",
    "    return (hits, items, prices_out)\n",
    "\n",
    "# collect bought items per user for test week\n",
    "actually_bought = df_test_week.groupby('customer_id').article_id.apply(list).rename('actually_bought')\n",
    "actually_paid = df_test_week.groupby('customer_id').price.apply(list).rename('actually_paid')\n",
    "# collect associated predictions and concat\n",
    "predicted = df_submission.set_index('customer_id').loc[actually_bought.index, 'prediction_12']\n",
    "df_tmp = pd.concat([actually_bought, predicted, actually_paid], axis=1)\n",
    "# compute intersection of actual vs. prediction (with repeat buys)\n",
    "intersection = df_tmp.apply(lambda row: count_hits(row.actually_bought, row.prediction_12, row.actually_paid)[0], axis=1)\n",
    "# compute list of correctly predicted items\n",
    "correctly_predicted = df_tmp.apply(lambda row: count_hits(row.actually_bought, row.prediction_12, row.actually_paid)[1], axis=1)\n",
    "# drop all users that have no intersection (no hits)\n",
    "intersection = intersection[intersection > 0]\n",
    "correctly_predicted = correctly_predicted.loc[intersection.index]\n",
    "article_list = correctly_predicted.apply(lambda l: ' '.join(l)).str.cat(sep=' ').split(' ')\n",
    "price_list = df_tmp.apply(lambda row: count_hits(row.actually_bought, row.prediction_12, row.actually_paid)[2], axis=1)\n",
    "price_list = price_list.reset_index().set_index('customer_id').loc[intersection.index]\n",
    "price_list = price_list.iloc[:, 0].apply(lambda l: [str(x) for x in l]).apply(lambda s: ' '.join(s)).str.cat(sep=' ').split(' ')\n",
    "price_list = [float(price) for price in price_list]\n",
    "print(f'Number of found prices: {len(price_list)}')\n",
    "print(f'Number of forecasted articles: {len(article_list)}')"
   ]
  },
  {
   "cell_type": "markdown",
   "metadata": {},
   "source": [
    "# 3.0 Calculate turnover & hitrate in test week"
   ]
  },
  {
   "cell_type": "code",
   "execution_count": null,
   "metadata": {},
   "outputs": [],
   "source": []
  },
  {
   "cell_type": "code",
   "execution_count": 178,
   "metadata": {},
   "outputs": [
    {
     "name": "stdout",
     "output_type": "stream",
     "text": [
      "This calculation regards the model \"baseline_top12\" in the week between 2020-09-09 and 2020-09-15.\n",
      "\n",
      "Number of purchased articles: 255241\n",
      "The hitrate is: 0.94 %\n",
      "Turnover in this week is €: 8675.32\n",
      "The forecasted turnover is €: 55.07\n",
      "\n",
      "We are able to forecast the following share of turnover:\n",
      "0.6348 %\n"
     ]
    }
   ],
   "source": [
    "print(f'This calculation regards the model \"{model_name}\" in the week between {start_date} and {end_date}.\\n')\n",
    "print(f'Number of purchased articles: {df_test_week.shape[0]}')\n",
    "\n",
    "# Calculate hitrate:\n",
    "hits = len(article_list)\n",
    "sold_articles = df_test_week.shape[0]\n",
    "hitrate = hits/sold_articles\n",
    "\n",
    "# Calculate turnover:\n",
    "turnover_week = df_test_week.price.sum()\n",
    "\n",
    "# Calculate forecasted turnover and share:\n",
    "forecasted_turnover = sum(price_list)\n",
    "forecast_share = forecasted_turnover/turnover_week\n",
    "\n",
    "print(f'The hitrate is: {round(hitrate*100, 2)} %')\n",
    "print(f'Turnover in this week is €: {round(turnover_week, 2)}')\n",
    "print(f'The forecasted turnover is €: {round(forecasted_turnover, 2)}')\n",
    "print(f'\\nWe are able to forecast the following share of turnover:\\n{round(forecast_share*100, 4)} %')\n",
    "\n",
    "# Append to list for saving as csv:\n",
    "result_list = []\n",
    "result_list.append(model_name)\n",
    "result_list.append(start_date)\n",
    "result_list.append(end_date)\n",
    "result_list.append(sold_articles)\n",
    "result_list.append(hits)\n",
    "result_list.append(hitrate)\n",
    "result_list.append(turnover_week)\n",
    "result_list.append(forecasted_turnover)\n",
    "result_list.append(forecast_share)"
   ]
  },
  {
   "cell_type": "markdown",
   "metadata": {},
   "source": [
    "# 4.0 Save price-list, article-list and results in csv"
   ]
  },
  {
   "cell_type": "code",
   "execution_count": 179,
   "metadata": {},
   "outputs": [
    {
     "data": {
      "text/html": [
       "<div>\n",
       "<style scoped>\n",
       "    .dataframe tbody tr th:only-of-type {\n",
       "        vertical-align: middle;\n",
       "    }\n",
       "\n",
       "    .dataframe tbody tr th {\n",
       "        vertical-align: top;\n",
       "    }\n",
       "\n",
       "    .dataframe thead th {\n",
       "        text-align: right;\n",
       "    }\n",
       "</style>\n",
       "<table border=\"1\" class=\"dataframe\">\n",
       "  <thead>\n",
       "    <tr style=\"text-align: right;\">\n",
       "      <th></th>\n",
       "      <th>article_id</th>\n",
       "      <th>price</th>\n",
       "    </tr>\n",
       "  </thead>\n",
       "  <tbody>\n",
       "    <tr>\n",
       "      <th>0</th>\n",
       "      <td>0610776002</td>\n",
       "      <td>0.008458</td>\n",
       "    </tr>\n",
       "    <tr>\n",
       "      <th>1</th>\n",
       "      <td>0372860001</td>\n",
       "      <td>0.012119</td>\n",
       "    </tr>\n",
       "    <tr>\n",
       "      <th>2</th>\n",
       "      <td>0156231001</td>\n",
       "      <td>0.008458</td>\n",
       "    </tr>\n",
       "    <tr>\n",
       "      <th>3</th>\n",
       "      <td>0706016001</td>\n",
       "      <td>0.033881</td>\n",
       "    </tr>\n",
       "    <tr>\n",
       "      <th>4</th>\n",
       "      <td>0759871002</td>\n",
       "      <td>0.006763</td>\n",
       "    </tr>\n",
       "  </tbody>\n",
       "</table>\n",
       "</div>"
      ],
      "text/plain": [
       "   article_id     price\n",
       "0  0610776002  0.008458\n",
       "1  0372860001  0.012119\n",
       "2  0156231001  0.008458\n",
       "3  0706016001  0.033881\n",
       "4  0759871002  0.006763"
      ]
     },
     "execution_count": 179,
     "metadata": {},
     "output_type": "execute_result"
    }
   ],
   "source": [
    "# Convert price-list and article-list to dataframe and save as csv:\n",
    "\n",
    "df_forecast = pd.DataFrame(list(zip(article_list, price_list)), columns =['article_id', 'price'])\n",
    "df_forecast.to_csv(f'../data/forecast-results_{model_name}_{start_date}_{end_date}.csv', index=False)\n",
    "df_forecast.head()\n"
   ]
  },
  {
   "cell_type": "code",
   "execution_count": 180,
   "metadata": {},
   "outputs": [],
   "source": [
    "# Save results in csv\n",
    "from csv import writer\n",
    "def append_list_as_row(file_name, list_of_elem):\n",
    "    # Open file in append mode\n",
    "    with open(file_name, 'a+', newline='') as write_obj:\n",
    "        # Create a writer object from csv module\n",
    "        csv_writer = writer(write_obj)\n",
    "        # Add contents of list as last row in the csv file\n",
    "        csv_writer.writerow(list_of_elem)"
   ]
  },
  {
   "cell_type": "code",
   "execution_count": 181,
   "metadata": {},
   "outputs": [],
   "source": [
    "# Append a list as new line to an old csv file\n",
    "append_list_as_row('../data/collection_forecast_results.csv', result_list)"
   ]
  }
 ],
 "metadata": {
  "interpreter": {
   "hash": "b6f2773fc6b5cc5caaeb493fad510cddd60463bfb6b6e05ea60d03f3b1d34650"
  },
  "kernelspec": {
   "display_name": "Python 3.9.4 ('.venv': venv)",
   "language": "python",
   "name": "python3"
  },
  "language_info": {
   "codemirror_mode": {
    "name": "ipython",
    "version": 3
   },
   "file_extension": ".py",
   "mimetype": "text/x-python",
   "name": "python",
   "nbconvert_exporter": "python",
   "pygments_lexer": "ipython3",
   "version": "3.9.4"
  },
  "orig_nbformat": 4
 },
 "nbformat": 4,
 "nbformat_minor": 2
}
