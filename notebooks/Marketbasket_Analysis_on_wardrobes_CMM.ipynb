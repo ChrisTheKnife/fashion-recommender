{
 "cells": [
  {
   "cell_type": "code",
   "execution_count": null,
   "metadata": {},
   "outputs": [],
   "source": [
    "import pandas as pd\n",
    "import numpy as np\n",
    "import seaborn as sns\n",
    "import matplotlib.pyplot as plt\n",
    "from tqdm import tqdm\n",
    "import gc\n",
    "import warnings\n",
    "warnings.filterwarnings('ignore')\n",
    "\n",
    "# IMPORTANT: apyori and mlxtend libraries both have methods which are called apriori. \n",
    "# Be sure to import only one of the libraries in order to use apriori.\n",
    "\n",
    "from apyori import apriori\n",
    "# from mlxtend.frequent_patterns import apriori\n",
    "# from mlxtend.frequent_patterns import association_rules\n",
    "\n",
    "# Display numbers not in scientific notation:\n",
    "pd.options.display.float_format = '{:.6f}'.format"
   ]
  },
  {
   "cell_type": "markdown",
   "metadata": {},
   "source": [
    "# Load data"
   ]
  },
  {
   "cell_type": "code",
   "execution_count": null,
   "metadata": {},
   "outputs": [],
   "source": [
    "df_trans = pd.read_csv('../data/transactions_train.csv', dtype={'article_id':'string'})\n",
    "df_trans.tail()\n"
   ]
  },
  {
   "cell_type": "code",
   "execution_count": null,
   "metadata": {},
   "outputs": [],
   "source": [
    "# Train test split:\n",
    "df_trans_train = df_trans.query('t_dat < \"2020-08-26\"').copy()\n",
    "df_trans_train.tail()"
   ]
  },
  {
   "cell_type": "markdown",
   "metadata": {},
   "source": [
    "# 1.0 Model on wardrobes without 'None'\n",
    "\n",
    "https://www.analyticsvidhya.com/blog/2021/10/a-comprehensive-guide-on-market-basket-analysis/\n",
    "\n",
    "Create association rules based on wardrobes (not on baskets). \n",
    "\n",
    "Use apyori library."
   ]
  },
  {
   "cell_type": "code",
   "execution_count": null,
   "metadata": {},
   "outputs": [],
   "source": [
    "# Generate wardrobe\n",
    "\n",
    "df_trans_red = df_trans_train.drop(columns=['t_dat', 'price', 'sales_channel_id']).copy()\n",
    "df_wardrobe = df_trans_red.groupby('customer_id')['article_id'].aggregate(lambda x: list(x)).reset_index().copy()\n",
    "df_wardrobe.head()\n"
   ]
  },
  {
   "cell_type": "code",
   "execution_count": null,
   "metadata": {},
   "outputs": [],
   "source": [
    "# Add 'number of articles' column (needed to generate smaller dataset):\n",
    "\n",
    "df_wardrobe['no_articles'] = df_wardrobe.article_id.apply(lambda x: len(x))\n",
    "df_wardrobe.sort_values('no_articles', ascending=False)\n"
   ]
  },
  {
   "cell_type": "code",
   "execution_count": null,
   "metadata": {},
   "outputs": [],
   "source": [
    "# Select only wardrobes with 2 - 20 articles:\n",
    "\n",
    "lower_bound = 2\n",
    "upper_bound = 20\n",
    "\n",
    "df_wardrobe_small = df_wardrobe[(df_wardrobe['no_articles'] > lower_bound - 1 ) & (df_wardrobe['no_articles'] < upper_bound +1)]\n",
    "df_wardrobe_small.shape"
   ]
  },
  {
   "cell_type": "code",
   "execution_count": null,
   "metadata": {},
   "outputs": [],
   "source": [
    "df_wardrobe_small.sort_values('no_articles', ascending=False).head()"
   ]
  },
  {
   "cell_type": "code",
   "execution_count": null,
   "metadata": {},
   "outputs": [],
   "source": [
    "# Create list of lists with all wardrobes (wardrobesizes 2-20):\n",
    "l_new = df_wardrobe_small['article_id'].to_list()"
   ]
  },
  {
   "cell_type": "code",
   "execution_count": null,
   "metadata": {},
   "outputs": [],
   "source": [
    "# Clear memory\n",
    "\n",
    "del [[df_trans,df_trans_red, df_trans_train]]\n",
    "del [[df_wardrobe, df_wardrobe_small]]\n",
    "gc.collect()"
   ]
  },
  {
   "cell_type": "code",
   "execution_count": null,
   "metadata": {},
   "outputs": [],
   "source": [
    "l_new"
   ]
  },
  {
   "cell_type": "markdown",
   "metadata": {},
   "source": [
    "Resource:\n",
    "https://stackoverflow.com/questions/35491274/split-a-pandas-column-of-lists-into-multiple-columns\n"
   ]
  },
  {
   "cell_type": "code",
   "execution_count": null,
   "metadata": {},
   "outputs": [],
   "source": [
    "# NOT NEEDED ANYMORE\n",
    "# # Generate columns where every article_id is in one column:\n",
    "# df_only_articles = pd.DataFrame(df_wardrobe_small['article_id'].to_list(), index=df_wardrobe_small.index)\n",
    "\n",
    "# # Join dataframe with only articles to wardrobe on index:\n",
    "\n",
    "# df_wardrobe_small = df_wardrobe_small.join(df_only_articles)\n",
    "\n",
    "# # Drop not needed columns:\n",
    "\n",
    "# df_wardrobe_small_red = df_wardrobe_small.drop(columns=['customer_id', 'article_id', 'no_articles'])\n",
    "# df_wardrobe_small_red\n"
   ]
  },
  {
   "cell_type": "code",
   "execution_count": null,
   "metadata": {},
   "outputs": [],
   "source": [
    "# NOT NEEDED ANYMORE\n",
    "# Converting dataframe into list of lists:\n",
    "\n",
    "# l=[]\n",
    "\n",
    "# for i in range (0, len(df_wardrobe_small_red)):\n",
    "#     l.append([str(df_wardrobe_small_red.values[i,j]) for j in range(0,df_wardrobe_small_red.shape[1])])\n",
    "\n",
    "# l"
   ]
  },
  {
   "cell_type": "code",
   "execution_count": null,
   "metadata": {},
   "outputs": [],
   "source": [
    "# NOT NEEDED ANYMORE\n",
    "# # Delete 'None'-strings from all lists:\n",
    "\n",
    "# l_new = []\n",
    "# for i in l:\n",
    "#     l_new.append([ ele for ele in i if ele != 'None' ])"
   ]
  },
  {
   "cell_type": "code",
   "execution_count": null,
   "metadata": {},
   "outputs": [],
   "source": [
    "# Applying apriori algorithm\n",
    "\n",
    "association_rules = apriori(l_new, min_support=0.0001, min_confidence=0.2, min_lift=1, min_length=2)\n",
    "association_results = list(association_rules)"
   ]
  },
  {
   "cell_type": "code",
   "execution_count": null,
   "metadata": {},
   "outputs": [],
   "source": [
    "# Print association rules:\n",
    "\n",
    "for i in range(0, len(association_results)):\n",
    "    print(f\"Rule = {association_results[i][0]} , len of rule= {len(association_results[i][0])}\")"
   ]
  },
  {
   "cell_type": "code",
   "execution_count": null,
   "metadata": {},
   "outputs": [],
   "source": [
    "len(association_results)"
   ]
  },
  {
   "cell_type": "code",
   "execution_count": null,
   "metadata": {},
   "outputs": [],
   "source": [
    "association_results[500]"
   ]
  },
  {
   "cell_type": "code",
   "execution_count": null,
   "metadata": {},
   "outputs": [],
   "source": [
    "association_results_df_plain = pd.DataFrame(association_results)\n",
    "association_results_df_plain.to_csv('../data/20220510_plain_association_results_wardrobesize_2-20_wo_none.csv')"
   ]
  },
  {
   "cell_type": "code",
   "execution_count": null,
   "metadata": {},
   "outputs": [],
   "source": [
    "association_results_dict = {'antecedants': [], 'consequents':[], 'support': [], 'confidence': [], 'lift':[]}\n",
    "\n",
    "for item in association_results:\n",
    "    # first index of the inner list\n",
    "    # Contains base item and add item\n",
    "    pair = item[0]\n",
    "    items = [x for x in pair]\n",
    "    print(\"Rule: \" + items[0] + \" -> \" + items[1])\n",
    "    association_results_dict['antecedants'].append(items[0])\n",
    "    association_results_dict['consequents'].append(items[1])\n",
    "    # second index of the inner list\n",
    "    print(\"Support: \" + str(item[1]))\n",
    "    association_results_dict['support'].append(item[1])\n",
    "    # third index of the list located at 0th position\n",
    "    # of the third index of the inner list\n",
    "    print(\"Confidence: \" + str(item[2][0][2]))\n",
    "    association_results_dict['confidence'].append(item[2][0][2])\n",
    "    print(\"Lift: \" + str(item[2][0][3]))\n",
    "    association_results_dict['lift'].append(item[2][0][3])\n",
    "    print(\"-----------------------------------------------------\")"
   ]
  },
  {
   "cell_type": "code",
   "execution_count": null,
   "metadata": {},
   "outputs": [],
   "source": [
    "# Store association rules dict in dataframe:\n",
    "association_results_df_table = pd.DataFrame.from_dict(association_results_dict)\n",
    "association_results_df_table.head()"
   ]
  },
  {
   "cell_type": "code",
   "execution_count": null,
   "metadata": {},
   "outputs": [],
   "source": [
    "association_results_df_table.shape"
   ]
  },
  {
   "cell_type": "code",
   "execution_count": null,
   "metadata": {},
   "outputs": [],
   "source": [
    "# Store association results in csv.\n",
    "# Change name before executing cell:\n",
    "\n",
    "association_results_df_table.to_csv('../data/20220510_table_association_results_wardrobesize_2-20_wo_none.csv')"
   ]
  }
 ],
 "metadata": {
  "interpreter": {
   "hash": "6dc839308f78902ab8919870d8b0efc1a24d6ce128a31abf7bd1f309bd1934dd"
  },
  "kernelspec": {
   "display_name": "Python 3.9.4 ('.venv': venv)",
   "language": "python",
   "name": "python3"
  },
  "language_info": {
   "codemirror_mode": {
    "name": "ipython",
    "version": 3
   },
   "file_extension": ".py",
   "mimetype": "text/x-python",
   "name": "python",
   "nbconvert_exporter": "python",
   "pygments_lexer": "ipython3",
   "version": "3.9.4"
  },
  "orig_nbformat": 4
 },
 "nbformat": 4,
 "nbformat_minor": 2
}
