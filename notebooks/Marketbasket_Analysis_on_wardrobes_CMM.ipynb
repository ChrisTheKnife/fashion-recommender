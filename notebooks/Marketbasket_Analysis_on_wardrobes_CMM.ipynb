{
 "cells": [
  {
   "cell_type": "markdown",
   "metadata": {},
   "source": [
    "# Marketbasket Analysis on wardrobes\n",
    "\n",
    "This notebook generates association rules based on the wardrobes of each selected customer_id. The selection is based on the number of articles a wardrobe should have. Wardrobesizes can be degfined by the variables lower_bound and upper_bound (see section 1.0).\n",
    "\n",
    "Be aware:\n",
    "The bigger the wardrobesizes, the longer the estimation will take."
   ]
  },
  {
   "cell_type": "code",
   "execution_count": null,
   "metadata": {},
   "outputs": [],
   "source": [
    "# Import necessary libraries:\n",
    "import pandas as pd\n",
    "import numpy as np\n",
    "from tqdm import tqdm\n",
    "import gc\n",
    "import warnings\n",
    "warnings.filterwarnings('ignore')\n",
    "\n",
    "# IMPORTANT: apyori and mlxtend libraries both have methods which are called apriori. \n",
    "# Be sure to import only one of the libraries in order to use apriori.\n",
    "\n",
    "from apyori import apriori\n",
    "# from mlxtend.frequent_patterns import apriori\n",
    "# from mlxtend.frequent_patterns import association_rules\n",
    "\n",
    "# Display numbers not in scientific notation:\n",
    "pd.options.display.float_format = '{:.6f}'.format"
   ]
  },
  {
   "cell_type": "markdown",
   "metadata": {},
   "source": [
    "# Load data"
   ]
  },
  {
   "cell_type": "code",
   "execution_count": null,
   "metadata": {},
   "outputs": [],
   "source": [
    "df_trans = pd.read_csv('../data/transactions_train.csv', dtype={'article_id':'string'})\n",
    "df_trans.tail()\n"
   ]
  },
  {
   "cell_type": "code",
   "execution_count": null,
   "metadata": {},
   "outputs": [],
   "source": [
    "# Train test split:\n",
    "df_trans_train = df_trans.query('t_dat < \"2020-08-26\"').copy()\n",
    "df_trans_train.tail()"
   ]
  },
  {
   "cell_type": "markdown",
   "metadata": {},
   "source": [
    "# 1.0 Model on wardrobes without 'None'\n",
    "\n",
    "https://www.analyticsvidhya.com/blog/2021/10/a-comprehensive-guide-on-market-basket-analysis/\n",
    "\n",
    "Create association rules based on wardrobes (not on baskets) without Nones in list-variable \"wardrobes_as_list\".\n",
    "\n",
    "Apyori library is used here."
   ]
  },
  {
   "cell_type": "code",
   "execution_count": null,
   "metadata": {},
   "outputs": [],
   "source": [
    "# Generate wardrobe\n",
    "\n",
    "df_trans_red = df_trans_train.drop(columns=['t_dat', 'price', 'sales_channel_id']).copy()\n",
    "df_wardrobe = df_trans_red.groupby('customer_id')['article_id'].aggregate(lambda x: list(x)).reset_index().copy()\n",
    "df_wardrobe.head()\n"
   ]
  },
  {
   "cell_type": "code",
   "execution_count": null,
   "metadata": {},
   "outputs": [],
   "source": [
    "# Add 'number of articles' column (needed to generate smaller dataset):\n",
    "\n",
    "df_wardrobe['no_articles'] = df_wardrobe.article_id.apply(lambda x: len(x))\n",
    "df_wardrobe.sort_values('no_articles', ascending=False)\n"
   ]
  },
  {
   "cell_type": "code",
   "execution_count": null,
   "metadata": {},
   "outputs": [],
   "source": [
    "# Choose the customers, which should be included in the apriori association rule mining based on the number of articles they have in their wardrobe. \n",
    "# BE AWARE: The more articles in a wardrobe the longer the estimation will take.\n",
    "\n",
    "# Define lower bound. This should be set on 2, since in wardrobes with less than 2 articles no assiciations can be found:\n",
    "lower_bound = 2\n",
    "# Define upper bound. How much articles should be in the wardrobes in maximum:\n",
    "upper_bound = 20\n",
    "\n",
    "df_wardrobe_small = df_wardrobe[(df_wardrobe['no_articles'] > lower_bound - 1 ) & (df_wardrobe['no_articles'] < upper_bound +1)]\n",
    "df_wardrobe_small.shape"
   ]
  },
  {
   "cell_type": "code",
   "execution_count": null,
   "metadata": {},
   "outputs": [],
   "source": [
    "# Sort selected wardrobes based on number of articles:\n",
    "df_wardrobe_small.sort_values('no_articles', ascending=False).head()"
   ]
  },
  {
   "cell_type": "code",
   "execution_count": null,
   "metadata": {},
   "outputs": [],
   "source": [
    "# Create list of lists with all wardrobes (wardrobesizes: see lower and upper bound):\n",
    "wardrobes_as_list = df_wardrobe_small['article_id'].to_list()"
   ]
  },
  {
   "cell_type": "code",
   "execution_count": null,
   "metadata": {},
   "outputs": [],
   "source": [
    "# Clear memory\n",
    "\n",
    "del [[df_trans,df_trans_red, df_trans_train]]\n",
    "del [[df_wardrobe, df_wardrobe_small]]\n",
    "gc.collect()"
   ]
  },
  {
   "cell_type": "code",
   "execution_count": null,
   "metadata": {},
   "outputs": [],
   "source": [
    "# Check if list is filled:\n",
    "wardrobes_as_list"
   ]
  },
  {
   "cell_type": "code",
   "execution_count": null,
   "metadata": {},
   "outputs": [],
   "source": [
    "# Applying apriori algorithm\n",
    "\n",
    "association_rules = apriori(wardrobes_as_list, min_support=0.0001, min_confidence=0.2, min_lift=1, min_length=2)\n",
    "association_results = list(association_rules)"
   ]
  },
  {
   "cell_type": "code",
   "execution_count": null,
   "metadata": {},
   "outputs": [],
   "source": [
    "# Print association rules:\n",
    "\n",
    "for i in range(0, len(association_results)):\n",
    "    print(f\"Rule = {association_results[i][0]} , len of rule= {len(association_results[i][0])}\")\n",
    "\n",
    "# Print number of association rules:\n",
    "\n",
    "print(f'Number of association rules found: {len(association_results)}')"
   ]
  },
  {
   "cell_type": "code",
   "execution_count": null,
   "metadata": {},
   "outputs": [],
   "source": [
    "# Print example of association rules, fill in a number between 0 and length of association_result-list:\n",
    "print(association_results[5])"
   ]
  },
  {
   "cell_type": "code",
   "execution_count": null,
   "metadata": {},
   "outputs": [],
   "source": [
    "# Store plain association rules as a csv:\n",
    "association_results_df_plain = pd.DataFrame(association_results)\n",
    "association_results_df_plain.to_csv('../data/20220510_plain_association_results_wardrobesize_2-20_wo_none.csv')"
   ]
  },
  {
   "cell_type": "code",
   "execution_count": null,
   "metadata": {},
   "outputs": [],
   "source": [
    "# Fill dictionary with results in order to store a result table later:\n",
    "association_results_dict = {'antecedants': [], 'consequents':[], 'support': [], 'confidence': [], 'lift':[]}\n",
    "\n",
    "for item in association_results:\n",
    "    # first index of the inner list\n",
    "    # Contains base item and add item\n",
    "    pair = item[0]\n",
    "    items = [x for x in pair]\n",
    "    print(\"Rule: \" + items[0] + \" -> \" + items[1])\n",
    "    association_results_dict['antecedants'].append(items[0])\n",
    "    association_results_dict['consequents'].append(items[1])\n",
    "    # second index of the inner list\n",
    "    print(\"Support: \" + str(item[1]))\n",
    "    association_results_dict['support'].append(item[1])\n",
    "    # third index of the list located at 0th position\n",
    "    # of the third index of the inner list\n",
    "    print(\"Confidence: \" + str(item[2][0][2]))\n",
    "    association_results_dict['confidence'].append(item[2][0][2])\n",
    "    print(\"Lift: \" + str(item[2][0][3]))\n",
    "    association_results_dict['lift'].append(item[2][0][3])\n",
    "    print(\"-----------------------------------------------------\")"
   ]
  },
  {
   "cell_type": "code",
   "execution_count": null,
   "metadata": {},
   "outputs": [],
   "source": [
    "# Store association rules dict in dataframe:\n",
    "association_results_df_table = pd.DataFrame.from_dict(association_results_dict)\n",
    "association_results_df_table.head()"
   ]
  },
  {
   "cell_type": "code",
   "execution_count": null,
   "metadata": {},
   "outputs": [],
   "source": [
    "# Check shape of result-table dataframe:\n",
    "association_results_df_table.shape"
   ]
  },
  {
   "cell_type": "code",
   "execution_count": null,
   "metadata": {},
   "outputs": [],
   "source": [
    "# Store association results in csv.\n",
    "# Change name before executing cell:\n",
    "\n",
    "association_results_df_table.to_csv('../data/20220510_table_association_results_wardrobesize_2-20_wo_none.csv')"
   ]
  },
  {
   "cell_type": "markdown",
   "metadata": {},
   "source": [
    "# 2.0 Code-Backup"
   ]
  },
  {
   "cell_type": "markdown",
   "metadata": {},
   "source": [
    "Resource:\n",
    "https://stackoverflow.com/questions/35491274/split-a-pandas-column-of-lists-into-multiple-columns\n"
   ]
  },
  {
   "cell_type": "code",
   "execution_count": null,
   "metadata": {},
   "outputs": [],
   "source": [
    "# NOT NEEDED ANYMORE\n",
    "# # Generate columns where every article_id is in one column:\n",
    "# df_only_articles = pd.DataFrame(df_wardrobe_small['article_id'].to_list(), index=df_wardrobe_small.index)\n",
    "\n",
    "# # Join dataframe with only articles to wardrobe on index:\n",
    "\n",
    "# df_wardrobe_small = df_wardrobe_small.join(df_only_articles)\n",
    "\n",
    "# # Drop not needed columns:\n",
    "\n",
    "# df_wardrobe_small_red = df_wardrobe_small.drop(columns=['customer_id', 'article_id', 'no_articles'])\n",
    "# df_wardrobe_small_red\n"
   ]
  },
  {
   "cell_type": "code",
   "execution_count": null,
   "metadata": {},
   "outputs": [],
   "source": [
    "# NOT NEEDED ANYMORE\n",
    "# Converting dataframe into list of lists:\n",
    "\n",
    "# l=[]\n",
    "\n",
    "# for i in range (0, len(df_wardrobe_small_red)):\n",
    "#     l.append([str(df_wardrobe_small_red.values[i,j]) for j in range(0,df_wardrobe_small_red.shape[1])])\n",
    "\n",
    "# l"
   ]
  },
  {
   "cell_type": "code",
   "execution_count": null,
   "metadata": {},
   "outputs": [],
   "source": [
    "# NOT NEEDED ANYMORE\n",
    "# # Delete 'None'-strings from all lists:\n",
    "\n",
    "# l_new = []\n",
    "# for i in l:\n",
    "#     l_new.append([ ele for ele in i if ele != 'None' ])"
   ]
  },
  {
   "cell_type": "markdown",
   "metadata": {},
   "source": []
  }
 ],
 "metadata": {
  "interpreter": {
   "hash": "34347bbd04d675869165b2d6090539280e372b71c1dfdbcf2e17d3e5aff2bc3e"
  },
  "kernelspec": {
   "display_name": "Python 3.8.9 ('.venv': venv)",
   "language": "python",
   "name": "python3"
  },
  "language_info": {
   "codemirror_mode": {
    "name": "ipython",
    "version": 3
   },
   "file_extension": ".py",
   "mimetype": "text/x-python",
   "name": "python",
   "nbconvert_exporter": "python",
   "pygments_lexer": "ipython3",
   "version": "3.8.9"
  },
  "orig_nbformat": 4
 },
 "nbformat": 4,
 "nbformat_minor": 2
}
