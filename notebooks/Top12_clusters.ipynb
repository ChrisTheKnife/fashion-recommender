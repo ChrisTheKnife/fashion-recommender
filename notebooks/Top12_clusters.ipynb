{
 "cells": [
  {
   "cell_type": "markdown",
   "metadata": {},
   "source": [
    "# Recommendations based on Top12-sold articles per age-cluster\n",
    "\n",
    "This notebook generates 12 recommendations for all customer_ids in the dataset based on the Top12-sold articles in the age cluster the customer is allocated in."
   ]
  },
  {
   "cell_type": "code",
   "execution_count": null,
   "metadata": {},
   "outputs": [],
   "source": [
    "# Import necessary libraries:\n",
    "import pandas as pd\n",
    "import numpy as np"
   ]
  },
  {
   "cell_type": "markdown",
   "metadata": {},
   "source": [
    "# 1.0 Load data"
   ]
  },
  {
   "cell_type": "code",
   "execution_count": null,
   "metadata": {},
   "outputs": [],
   "source": [
    "# Load transaction and customer data:\n",
    "df_trans = pd.read_csv('../data/transactions_train.csv', dtype={'article_id':'string'})\n",
    "df_cust = pd.read_csv('../data/customers.csv')\n",
    "df_cust.info()"
   ]
  },
  {
   "cell_type": "markdown",
   "metadata": {},
   "source": [
    "# 2.0 Generate age groups and assign to transactions"
   ]
  },
  {
   "cell_type": "code",
   "execution_count": null,
   "metadata": {},
   "outputs": [],
   "source": [
    "# Generate age groups and assign to customers:\n",
    "bins= [0, 20, 25 , 30, 35, 40, 45, 50, 55, 60, 65, 70, 75, 100]\n",
    "labels = ['0-19','20-24', '25-29','30-34', '35-39','40-44', '45-49','50-54', '55-59','60-64', '65-69','70-74', '>75']\n",
    "df_cust['agegroup'] = pd.cut(df_cust['age'], bins=bins, labels=labels, right=False)\n",
    "df_cust['agegroup'] = df_cust['agegroup'].cat.add_categories('unknown').fillna('unknown')\n",
    "df_cust.head()"
   ]
  },
  {
   "cell_type": "code",
   "execution_count": null,
   "metadata": {},
   "outputs": [],
   "source": [
    "# Assign age groups to transactions based on customer_id:\n",
    "df_age = df_cust.drop(columns=['FN', 'Active', 'club_member_status',\n",
    "       'fashion_news_frequency', 'age', 'postal_code'])\n",
    "df_trans_age = pd.merge(df_trans, df_age, on=\"customer_id\")\n",
    "df_trans_age.drop(columns=['t_dat', 'customer_id', 'price', 'sales_channel_id'], inplace=True)\n",
    "df_trans_age.head()"
   ]
  },
  {
   "cell_type": "markdown",
   "metadata": {},
   "source": [
    "# 4.0 Calculate top 12 per age group"
   ]
  },
  {
   "cell_type": "code",
   "execution_count": null,
   "metadata": {},
   "outputs": [],
   "source": [
    "# Calculate article_id counts per age group via crosstab:\n",
    "sales_per_agegroup = pd.crosstab(df_trans_age.article_id, df_trans_age.agegroup).reset_index()\n",
    "sales_per_agegroup.head()"
   ]
  },
  {
   "cell_type": "code",
   "execution_count": null,
   "metadata": {},
   "outputs": [],
   "source": [
    "# Loop for generating top 12 article list per age group:\n",
    "groups = list(sales_per_agegroup.columns)\n",
    "groups.remove('article_id')\n",
    "df_top12 = pd.DataFrame(columns = ['agegroup', 'articles'])\n",
    "for element in groups:\n",
    "    sales_ordered = sales_per_agegroup.sort_values(element,ascending=False).iloc[:12]\n",
    "    article_list = list(sales_ordered.article_id)\n",
    "    # append rows to an empty DataFrame\n",
    "    df_top12 = df_top12.append({'agegroup' : element, 'articles' : article_list}, ignore_index = True)\n",
    "\n",
    "print(df_top12)"
   ]
  },
  {
   "cell_type": "markdown",
   "metadata": {},
   "source": [
    "# 3.0 Generate submission csv"
   ]
  },
  {
   "cell_type": "code",
   "execution_count": null,
   "metadata": {},
   "outputs": [],
   "source": [
    "# Assign top 12 articles to each customer based on customers age group:\n",
    "df_submssion = pd.merge(df_age, df_top12, on='agegroup')\n",
    "df_submssion.head()"
   ]
  },
  {
   "cell_type": "code",
   "execution_count": null,
   "metadata": {},
   "outputs": [],
   "source": [
    "# Transform prediction list to string and drop not necessary columns:\n",
    "df_submssion['prediction'] = df_submssion.articles.apply(lambda x: ' '.join(x))\n",
    "df_submssion.drop(columns=['agegroup', 'articles'], inplace=True)\n",
    "df_submssion.head()"
   ]
  },
  {
   "cell_type": "code",
   "execution_count": null,
   "metadata": {},
   "outputs": [],
   "source": [
    "# Store top12 per agegroup as submission csv:\n",
    "df_submssion.to_csv('../data/top12-per-agegroup.csv', index = False)"
   ]
  }
 ],
 "metadata": {
  "interpreter": {
   "hash": "6dc839308f78902ab8919870d8b0efc1a24d6ce128a31abf7bd1f309bd1934dd"
  },
  "kernelspec": {
   "display_name": "Python 3.9.4 ('.venv': venv)",
   "language": "python",
   "name": "python3"
  },
  "language_info": {
   "codemirror_mode": {
    "name": "ipython",
    "version": 3
   },
   "file_extension": ".py",
   "mimetype": "text/x-python",
   "name": "python",
   "nbconvert_exporter": "python",
   "pygments_lexer": "ipython3",
   "version": "3.9.4"
  },
  "orig_nbformat": 4
 },
 "nbformat": 4,
 "nbformat_minor": 2
}
