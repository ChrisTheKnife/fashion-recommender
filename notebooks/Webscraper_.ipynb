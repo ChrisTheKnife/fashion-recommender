{
 "cells": [
  {
   "cell_type": "markdown",
   "metadata": {},
   "source": [
    "# Webscraper"
   ]
  },
  {
   "cell_type": "markdown",
   "metadata": {},
   "source": [
    "Import of the usual libraries in addition the  HTTP library  ([request](https://docs.python-requests.org/en/latest/)) and the HTML/XML parser ([Beautifulsoup](https://www.crummy.com/software/BeautifulSoup/bs4/doc/)). \n",
    "\n",
    "If you don't have a VPN, this API might be interesting ([OpenVPN](https://pypi.org/project/openvpn-api/))\n",
    "\n",
    "The google.cloud import with bigquery and the key is just to get the article_id."
   ]
  },
  {
   "cell_type": "code",
   "execution_count": 49,
   "metadata": {},
   "outputs": [],
   "source": [
    "from google.cloud import bigquery\n",
    "\n",
    "import pandas as pd\n",
    "import numpy as np\n",
    "from tqdm import tqdm\n",
    "from bs4 import BeautifulSoup\n",
    "import requests\n",
    "\n",
    "import os\n",
    "os.environ[\"GOOGLE_APPLICATION_CREDENTIALS\"]=\"./key/key.json\""
   ]
  },
  {
   "cell_type": "markdown",
   "metadata": {},
   "source": [
    "Connecting to bigquery"
   ]
  },
  {
   "cell_type": "code",
   "execution_count": 50,
   "metadata": {},
   "outputs": [],
   "source": [
    " %reload_ext google.cloud.bigquery"
   ]
  },
  {
   "cell_type": "markdown",
   "metadata": {},
   "source": [
    "SQL-Query"
   ]
  },
  {
   "cell_type": "code",
   "execution_count": 51,
   "metadata": {},
   "outputs": [
    {
     "name": "stderr",
     "output_type": "stream",
     "text": [
      "Query complete after 0.00s: 100%|██████████| 1/1 [00:00<00:00, 1269.46query/s]\n",
      "Downloading: 100%|██████████| 1000/1000 [00:01<00:00, 710.41rows/s]\n"
     ]
    }
   ],
   "source": [
    "   %%bigquery crawl\n",
    "\n",
    "SELECT \n",
    "COUNT(*) article_count,\n",
    "trans.article_id,\n",
    "AVG(price) average_price\n",
    "FROM`data-buckeye-347917.fashion_recommender.transaction` AS trans\n",
    "GROUP BY trans.article_id\n",
    "ORDER BY article_count DESC\n",
    "LIMIT 1000;\n"
   ]
  },
  {
   "cell_type": "code",
   "execution_count": 52,
   "metadata": {},
   "outputs": [],
   "source": [
    "df = pd.DataFrame(crawl)"
   ]
  },
  {
   "cell_type": "code",
   "execution_count": 53,
   "metadata": {},
   "outputs": [
    {
     "data": {
      "text/html": [
       "<div>\n",
       "<style scoped>\n",
       "    .dataframe tbody tr th:only-of-type {\n",
       "        vertical-align: middle;\n",
       "    }\n",
       "\n",
       "    .dataframe tbody tr th {\n",
       "        vertical-align: top;\n",
       "    }\n",
       "\n",
       "    .dataframe thead th {\n",
       "        text-align: right;\n",
       "    }\n",
       "</style>\n",
       "<table border=\"1\" class=\"dataframe\">\n",
       "  <thead>\n",
       "    <tr style=\"text-align: right;\">\n",
       "      <th></th>\n",
       "      <th>article_count</th>\n",
       "      <th>article_id</th>\n",
       "      <th>average_price</th>\n",
       "    </tr>\n",
       "  </thead>\n",
       "  <tbody>\n",
       "    <tr>\n",
       "      <th>0</th>\n",
       "      <td>50287</td>\n",
       "      <td>706016001</td>\n",
       "      <td>0.032448</td>\n",
       "    </tr>\n",
       "    <tr>\n",
       "      <th>1</th>\n",
       "      <td>35043</td>\n",
       "      <td>706016002</td>\n",
       "      <td>0.032426</td>\n",
       "    </tr>\n",
       "    <tr>\n",
       "      <th>2</th>\n",
       "      <td>31718</td>\n",
       "      <td>372860001</td>\n",
       "      <td>0.012958</td>\n",
       "    </tr>\n",
       "    <tr>\n",
       "      <th>3</th>\n",
       "      <td>30199</td>\n",
       "      <td>610776002</td>\n",
       "      <td>0.008083</td>\n",
       "    </tr>\n",
       "    <tr>\n",
       "      <th>4</th>\n",
       "      <td>26329</td>\n",
       "      <td>759871002</td>\n",
       "      <td>0.005605</td>\n",
       "    </tr>\n",
       "  </tbody>\n",
       "</table>\n",
       "</div>"
      ],
      "text/plain": [
       "   article_count  article_id  average_price\n",
       "0          50287   706016001       0.032448\n",
       "1          35043   706016002       0.032426\n",
       "2          31718   372860001       0.012958\n",
       "3          30199   610776002       0.008083\n",
       "4          26329   759871002       0.005605"
      ]
     },
     "execution_count": 53,
     "metadata": {},
     "output_type": "execute_result"
    }
   ],
   "source": [
    "df.head()"
   ]
  },
  {
   "cell_type": "markdown",
   "metadata": {},
   "source": [
    "Set the articöe_id to a string and ad a 0 to it "
   ]
  },
  {
   "cell_type": "code",
   "execution_count": 54,
   "metadata": {},
   "outputs": [],
   "source": [
    "df[\"article_id\"]=df[\"article_id\"].astype(str)\n",
    "df['article_id'] = df['article_id'].apply(lambda x: x.zfill(10))"
   ]
  },
  {
   "cell_type": "markdown",
   "metadata": {},
   "source": [
    "Header is needed for sending the webside, \"who\" you are. \n",
    "And an url is given for test purposes.\n",
    "They are set up in the response from requests.get(X)\n",
    "the second is the parser to \"read\" the HTML stuff and translate it for humans."
   ]
  },
  {
   "cell_type": "code",
   "execution_count": 55,
   "metadata": {},
   "outputs": [],
   "source": [
    "headers = {'User-Agent':'Mozilla/15.0 (Macintosh;   Mac OS X 11_2_4) AppleWebKit/601.3.9 (KHTML, like Gecko) Version/9.0.2 Safari/501.3.9'}\n",
    "url = ''\n",
    "\n",
    "response=requests.get(url,headers=headers)\n",
    "\n",
    "\n",
    "soup=BeautifulSoup(response.text, 'html.parser')"
   ]
  },
  {
   "cell_type": "markdown",
   "metadata": {},
   "source": [
    "Get an overview over the whole side and search for \"price regular\""
   ]
  },
  {
   "cell_type": "code",
   "execution_count": 56,
   "metadata": {},
   "outputs": [
    {
     "name": "stdout",
     "output_type": "stream",
     "text": [
      "----------------------------------------\n",
      "<article class=\"hm-product-item\" data-articlecode=\"0706016001\" data-brand=\"H&amp;M\" data-category=\"ladies_jeans_skinny_skinnyhigh\" data-energy-interval=\"\" data-pre-access-end-date=\"\" data-pre-access-groups=\"\" data-pre-access-start-date=\"\" data-style-with-articlecodes=\"\" onclick=\"setVCParameter('SEARCH','0706016001'); setNotificationTicket('Oy9zZWFyY2gvc2VhcmNoLWhpdHMtd2l0aC1jb3VudC9zZWFyY2gtaGl0czsjO3Byb2R1Y3Rfa2V5OzA3MDYwMTZfZ3JvdXBfMDAxX2RlX2RlOzA3MDYwMTYwMDFfZGVfZGU7O05PTkU6Tk9ORTs0ODs','0706016001'); setOsaParameters(utag_data.category_id,'SMALL','0706016001');\">\n",
      "<div class=\"image-container\">\n",
      "<a class=\"item-link\" href=\"/de_de/productpage.0706016001.html\" title=\"Super Skinny High Jeans\">\n",
      "<img alt=\"Super Skinny High Jeans\" class=\"item-image\" data-altimage=\"//lp2.hm.com/hmgoepprod?set=source[/7c/6e/7c6ed6bf87f52c540d8d56b591a99f62557ad928.jpg],origin[dam],category[ladies_jeans_skinny_skinnyhigh],type[DESCRIPTIVESTILLLIFE],res[m],hmver[1]&amp;call=url[file:/product/style]\" data-alttext=\"Super Skinny High JeansModell\" data-src=\"//lp2.hm.com/hmgoepprod?set=source[/7c/6e/7c6ed6bf87f52c540d8d56b591a99f62557ad928.jpg],origin[dam],category[ladies_jeans_skinny_skinnyhigh],type[DESCRIPTIVESTILLLIFE],res[m],hmver[1]&amp;call=url[file:/product/style]\" src=\"//lp2.hm.com/hmgoepprod?set=source[/7c/6e/7c6ed6bf87f52c540d8d56b591a99f62557ad928.jpg],origin[dam],category[ladies_jeans_skinny_skinnyhigh],type[DESCRIPTIVESTILLLIFE],res[m],hmver[1]&amp;call=url[file:/product/style]\"/>\n",
      "<div class=\"item-buttons\">\n",
      "<button class=\"favorite icon-favorites js-favorite\" data-not-saved-text=\"IN DEN FAVORITEN SPEICHERN\" data-saved-text=\"IN DEN FAVORITEN GESPEICHERT\" data-tracking-json-template=\"utagFavorite\" data-tracking-params=\"Favourites|0706016001|Super Skinny High Jeans|SEARCH\" data-tracking-type=\"event\">\n",
      "\t\t\t\tIN DEN FAVORITEN SPEICHERN</button>\n",
      "</div></a>\n",
      "</div><div class=\"item-details\">\n",
      "<h3 class=\"item-heading\">\n",
      "<a class=\"link\" href=\"/de_de/productpage.0706016001.html\">Super Skinny High Jeans</a>\n",
      "</h3><strong class=\"item-price\">\n",
      "<span class=\"price regular\">19,99 €</span>\n",
      "</strong><ul class=\"list-swatches\" data-swatches-total=\"2\">\n",
      "<li class=\"item\"><a class=\"swatch\" href=\"/de_de/productpage.0706016001.html\" style=\"background-color: #272628\" title=\"Schwarz\">\n",
      "\t\t\t\tSchwarz</a></li>\n",
      "<li class=\"item\"><a class=\"swatch\" href=\"/de_de/productpage.0706016003.html\" style=\"background-color: #54586D\" title=\"Dunkelblau\">\n",
      "\t\t\t\tDunkelblau</a></li>\n",
      "</ul></div></article>\n"
     ]
    }
   ],
   "source": [
    "for item in soup.select('.hm-product-item'):\n",
    "\ttry:\n",
    "\t\tprint('----------------------------------------')\n",
    "\t\tprint(item)\n",
    "\n",
    "\n",
    "\n",
    "\texcept Exception as e:\n",
    "\t\t#raise e\n",
    "\t\tprint('')"
   ]
  },
  {
   "cell_type": "code",
   "execution_count": 57,
   "metadata": {},
   "outputs": [
    {
     "name": "stdout",
     "output_type": "stream",
     "text": [
      "----------------------------------------\n",
      "0372860001 19,99 €\n"
     ]
    }
   ],
   "source": [
    "for item in soup.select('.hm-product-item'):\n",
    "\ttry:\n",
    "\t\tprint('----------------------------------------')\n",
    "\t\t#print(item.select(\".item-price\")[0].get_text().strip())\n",
    "\t\tprint(i, soup.find('span', {'class': 'price regular'}).text)\n",
    "\n",
    "\n",
    "\texcept Exception as e:\n",
    "\t\t#raise e\n",
    "\t\tprint('')"
   ]
  },
  {
   "cell_type": "markdown",
   "metadata": {},
   "source": [
    "We want this: ```<span class=\"price regular\">19,99 €</span> ```\n",
    "\n",
    "\n",
    "```{HTML}\n",
    "</h3><strong class=\"item-price\">\n",
    "<span class=\"price regular\">19,99 €</span> \n",
    "```\n",
    "\n",
    "so we tell the parser... \n",
    "\n",
    "```{python}\n",
    "case = {'article_id': i, 'price': soup.find('span', {'class': 'price regular'}).text[:-1]}\n",
    "```\n",
    "Searches for \"price regular\" in \"span\" and removes the euro sign. "
   ]
  },
  {
   "cell_type": "markdown",
   "metadata": {},
   "source": [
    "This is combined in a slow for-loop to have 2 requests a second. This is slowed on purpose, you can extract the request part and iterated ouside of the loop, which increases the speed dramatically but also your visuability. \n",
    " Here .head(5) is added, to try the first 5 lines."
   ]
  },
  {
   "cell_type": "code",
   "execution_count": 58,
   "metadata": {},
   "outputs": [
    {
     "name": "stderr",
     "output_type": "stream",
     "text": [
      " 20%|██        | 1/5 [00:02<00:08,  2.25s/it]"
     ]
    },
    {
     "name": "stdout",
     "output_type": "stream",
     "text": [
      "----------------------------------------\n"
     ]
    },
    {
     "name": "stderr",
     "output_type": "stream",
     "text": [
      " 20%|██        | 1/5 [01:03<04:12, 63.23s/it]\n"
     ]
    },
    {
     "ename": "ConnectionError",
     "evalue": "('Connection aborted.', RemoteDisconnected('Remote end closed connection without response'))",
     "output_type": "error",
     "traceback": [
      "\u001b[0;31m---------------------------------------------------------------------------\u001b[0m",
      "\u001b[0;31mRemoteDisconnected\u001b[0m                        Traceback (most recent call last)",
      "File \u001b[0;32m~/Desktop/Neue Fische/Bootcamp/Capestone/fashion-recommender/.capestone/lib/python3.9/site-packages/urllib3/connectionpool.py:703\u001b[0m, in \u001b[0;36mHTTPConnectionPool.urlopen\u001b[0;34m(self, method, url, body, headers, retries, redirect, assert_same_host, timeout, pool_timeout, release_conn, chunked, body_pos, **response_kw)\u001b[0m\n\u001b[1;32m    <a href='file:///Users/kaergell/Desktop/Neue%20Fische/Bootcamp/Capestone/fashion-recommender/.capestone/lib/python3.9/site-packages/urllib3/connectionpool.py?line=701'>702</a>\u001b[0m \u001b[39m# Make the request on the httplib connection object.\u001b[39;00m\n\u001b[0;32m--> <a href='file:///Users/kaergell/Desktop/Neue%20Fische/Bootcamp/Capestone/fashion-recommender/.capestone/lib/python3.9/site-packages/urllib3/connectionpool.py?line=702'>703</a>\u001b[0m httplib_response \u001b[39m=\u001b[39m \u001b[39mself\u001b[39;49m\u001b[39m.\u001b[39;49m_make_request(\n\u001b[1;32m    <a href='file:///Users/kaergell/Desktop/Neue%20Fische/Bootcamp/Capestone/fashion-recommender/.capestone/lib/python3.9/site-packages/urllib3/connectionpool.py?line=703'>704</a>\u001b[0m     conn,\n\u001b[1;32m    <a href='file:///Users/kaergell/Desktop/Neue%20Fische/Bootcamp/Capestone/fashion-recommender/.capestone/lib/python3.9/site-packages/urllib3/connectionpool.py?line=704'>705</a>\u001b[0m     method,\n\u001b[1;32m    <a href='file:///Users/kaergell/Desktop/Neue%20Fische/Bootcamp/Capestone/fashion-recommender/.capestone/lib/python3.9/site-packages/urllib3/connectionpool.py?line=705'>706</a>\u001b[0m     url,\n\u001b[1;32m    <a href='file:///Users/kaergell/Desktop/Neue%20Fische/Bootcamp/Capestone/fashion-recommender/.capestone/lib/python3.9/site-packages/urllib3/connectionpool.py?line=706'>707</a>\u001b[0m     timeout\u001b[39m=\u001b[39;49mtimeout_obj,\n\u001b[1;32m    <a href='file:///Users/kaergell/Desktop/Neue%20Fische/Bootcamp/Capestone/fashion-recommender/.capestone/lib/python3.9/site-packages/urllib3/connectionpool.py?line=707'>708</a>\u001b[0m     body\u001b[39m=\u001b[39;49mbody,\n\u001b[1;32m    <a href='file:///Users/kaergell/Desktop/Neue%20Fische/Bootcamp/Capestone/fashion-recommender/.capestone/lib/python3.9/site-packages/urllib3/connectionpool.py?line=708'>709</a>\u001b[0m     headers\u001b[39m=\u001b[39;49mheaders,\n\u001b[1;32m    <a href='file:///Users/kaergell/Desktop/Neue%20Fische/Bootcamp/Capestone/fashion-recommender/.capestone/lib/python3.9/site-packages/urllib3/connectionpool.py?line=709'>710</a>\u001b[0m     chunked\u001b[39m=\u001b[39;49mchunked,\n\u001b[1;32m    <a href='file:///Users/kaergell/Desktop/Neue%20Fische/Bootcamp/Capestone/fashion-recommender/.capestone/lib/python3.9/site-packages/urllib3/connectionpool.py?line=710'>711</a>\u001b[0m )\n\u001b[1;32m    <a href='file:///Users/kaergell/Desktop/Neue%20Fische/Bootcamp/Capestone/fashion-recommender/.capestone/lib/python3.9/site-packages/urllib3/connectionpool.py?line=712'>713</a>\u001b[0m \u001b[39m# If we're going to release the connection in ``finally:``, then\u001b[39;00m\n\u001b[1;32m    <a href='file:///Users/kaergell/Desktop/Neue%20Fische/Bootcamp/Capestone/fashion-recommender/.capestone/lib/python3.9/site-packages/urllib3/connectionpool.py?line=713'>714</a>\u001b[0m \u001b[39m# the response doesn't need to know about the connection. Otherwise\u001b[39;00m\n\u001b[1;32m    <a href='file:///Users/kaergell/Desktop/Neue%20Fische/Bootcamp/Capestone/fashion-recommender/.capestone/lib/python3.9/site-packages/urllib3/connectionpool.py?line=714'>715</a>\u001b[0m \u001b[39m# it will also try to release it and we'll have a double-release\u001b[39;00m\n\u001b[1;32m    <a href='file:///Users/kaergell/Desktop/Neue%20Fische/Bootcamp/Capestone/fashion-recommender/.capestone/lib/python3.9/site-packages/urllib3/connectionpool.py?line=715'>716</a>\u001b[0m \u001b[39m# mess.\u001b[39;00m\n",
      "File \u001b[0;32m~/Desktop/Neue Fische/Bootcamp/Capestone/fashion-recommender/.capestone/lib/python3.9/site-packages/urllib3/connectionpool.py:449\u001b[0m, in \u001b[0;36mHTTPConnectionPool._make_request\u001b[0;34m(self, conn, method, url, timeout, chunked, **httplib_request_kw)\u001b[0m\n\u001b[1;32m    <a href='file:///Users/kaergell/Desktop/Neue%20Fische/Bootcamp/Capestone/fashion-recommender/.capestone/lib/python3.9/site-packages/urllib3/connectionpool.py?line=444'>445</a>\u001b[0m         \u001b[39mexcept\u001b[39;00m \u001b[39mBaseException\u001b[39;00m \u001b[39mas\u001b[39;00m e:\n\u001b[1;32m    <a href='file:///Users/kaergell/Desktop/Neue%20Fische/Bootcamp/Capestone/fashion-recommender/.capestone/lib/python3.9/site-packages/urllib3/connectionpool.py?line=445'>446</a>\u001b[0m             \u001b[39m# Remove the TypeError from the exception chain in\u001b[39;00m\n\u001b[1;32m    <a href='file:///Users/kaergell/Desktop/Neue%20Fische/Bootcamp/Capestone/fashion-recommender/.capestone/lib/python3.9/site-packages/urllib3/connectionpool.py?line=446'>447</a>\u001b[0m             \u001b[39m# Python 3 (including for exceptions like SystemExit).\u001b[39;00m\n\u001b[1;32m    <a href='file:///Users/kaergell/Desktop/Neue%20Fische/Bootcamp/Capestone/fashion-recommender/.capestone/lib/python3.9/site-packages/urllib3/connectionpool.py?line=447'>448</a>\u001b[0m             \u001b[39m# Otherwise it looks like a bug in the code.\u001b[39;00m\n\u001b[0;32m--> <a href='file:///Users/kaergell/Desktop/Neue%20Fische/Bootcamp/Capestone/fashion-recommender/.capestone/lib/python3.9/site-packages/urllib3/connectionpool.py?line=448'>449</a>\u001b[0m             six\u001b[39m.\u001b[39;49mraise_from(e, \u001b[39mNone\u001b[39;49;00m)\n\u001b[1;32m    <a href='file:///Users/kaergell/Desktop/Neue%20Fische/Bootcamp/Capestone/fashion-recommender/.capestone/lib/python3.9/site-packages/urllib3/connectionpool.py?line=449'>450</a>\u001b[0m \u001b[39mexcept\u001b[39;00m (SocketTimeout, BaseSSLError, SocketError) \u001b[39mas\u001b[39;00m e:\n",
      "File \u001b[0;32m<string>:3\u001b[0m, in \u001b[0;36mraise_from\u001b[0;34m(value, from_value)\u001b[0m\n",
      "File \u001b[0;32m~/Desktop/Neue Fische/Bootcamp/Capestone/fashion-recommender/.capestone/lib/python3.9/site-packages/urllib3/connectionpool.py:444\u001b[0m, in \u001b[0;36mHTTPConnectionPool._make_request\u001b[0;34m(self, conn, method, url, timeout, chunked, **httplib_request_kw)\u001b[0m\n\u001b[1;32m    <a href='file:///Users/kaergell/Desktop/Neue%20Fische/Bootcamp/Capestone/fashion-recommender/.capestone/lib/python3.9/site-packages/urllib3/connectionpool.py?line=442'>443</a>\u001b[0m \u001b[39mtry\u001b[39;00m:\n\u001b[0;32m--> <a href='file:///Users/kaergell/Desktop/Neue%20Fische/Bootcamp/Capestone/fashion-recommender/.capestone/lib/python3.9/site-packages/urllib3/connectionpool.py?line=443'>444</a>\u001b[0m     httplib_response \u001b[39m=\u001b[39m conn\u001b[39m.\u001b[39;49mgetresponse()\n\u001b[1;32m    <a href='file:///Users/kaergell/Desktop/Neue%20Fische/Bootcamp/Capestone/fashion-recommender/.capestone/lib/python3.9/site-packages/urllib3/connectionpool.py?line=444'>445</a>\u001b[0m \u001b[39mexcept\u001b[39;00m \u001b[39mBaseException\u001b[39;00m \u001b[39mas\u001b[39;00m e:\n\u001b[1;32m    <a href='file:///Users/kaergell/Desktop/Neue%20Fische/Bootcamp/Capestone/fashion-recommender/.capestone/lib/python3.9/site-packages/urllib3/connectionpool.py?line=445'>446</a>\u001b[0m     \u001b[39m# Remove the TypeError from the exception chain in\u001b[39;00m\n\u001b[1;32m    <a href='file:///Users/kaergell/Desktop/Neue%20Fische/Bootcamp/Capestone/fashion-recommender/.capestone/lib/python3.9/site-packages/urllib3/connectionpool.py?line=446'>447</a>\u001b[0m     \u001b[39m# Python 3 (including for exceptions like SystemExit).\u001b[39;00m\n\u001b[1;32m    <a href='file:///Users/kaergell/Desktop/Neue%20Fische/Bootcamp/Capestone/fashion-recommender/.capestone/lib/python3.9/site-packages/urllib3/connectionpool.py?line=447'>448</a>\u001b[0m     \u001b[39m# Otherwise it looks like a bug in the code.\u001b[39;00m\n",
      "File \u001b[0;32m~/.pyenv/versions/3.9.4/lib/python3.9/http/client.py:1345\u001b[0m, in \u001b[0;36mHTTPConnection.getresponse\u001b[0;34m(self)\u001b[0m\n\u001b[1;32m   <a href='file:///Users/kaergell/.pyenv/versions/3.9.4/lib/python3.9/http/client.py?line=1343'>1344</a>\u001b[0m \u001b[39mtry\u001b[39;00m:\n\u001b[0;32m-> <a href='file:///Users/kaergell/.pyenv/versions/3.9.4/lib/python3.9/http/client.py?line=1344'>1345</a>\u001b[0m     response\u001b[39m.\u001b[39;49mbegin()\n\u001b[1;32m   <a href='file:///Users/kaergell/.pyenv/versions/3.9.4/lib/python3.9/http/client.py?line=1345'>1346</a>\u001b[0m \u001b[39mexcept\u001b[39;00m \u001b[39mConnectionError\u001b[39;00m:\n",
      "File \u001b[0;32m~/.pyenv/versions/3.9.4/lib/python3.9/http/client.py:307\u001b[0m, in \u001b[0;36mHTTPResponse.begin\u001b[0;34m(self)\u001b[0m\n\u001b[1;32m    <a href='file:///Users/kaergell/.pyenv/versions/3.9.4/lib/python3.9/http/client.py?line=305'>306</a>\u001b[0m \u001b[39mwhile\u001b[39;00m \u001b[39mTrue\u001b[39;00m:\n\u001b[0;32m--> <a href='file:///Users/kaergell/.pyenv/versions/3.9.4/lib/python3.9/http/client.py?line=306'>307</a>\u001b[0m     version, status, reason \u001b[39m=\u001b[39m \u001b[39mself\u001b[39;49m\u001b[39m.\u001b[39;49m_read_status()\n\u001b[1;32m    <a href='file:///Users/kaergell/.pyenv/versions/3.9.4/lib/python3.9/http/client.py?line=307'>308</a>\u001b[0m     \u001b[39mif\u001b[39;00m status \u001b[39m!=\u001b[39m CONTINUE:\n",
      "File \u001b[0;32m~/.pyenv/versions/3.9.4/lib/python3.9/http/client.py:276\u001b[0m, in \u001b[0;36mHTTPResponse._read_status\u001b[0;34m(self)\u001b[0m\n\u001b[1;32m    <a href='file:///Users/kaergell/.pyenv/versions/3.9.4/lib/python3.9/http/client.py?line=272'>273</a>\u001b[0m \u001b[39mif\u001b[39;00m \u001b[39mnot\u001b[39;00m line:\n\u001b[1;32m    <a href='file:///Users/kaergell/.pyenv/versions/3.9.4/lib/python3.9/http/client.py?line=273'>274</a>\u001b[0m     \u001b[39m# Presumably, the server closed the connection before\u001b[39;00m\n\u001b[1;32m    <a href='file:///Users/kaergell/.pyenv/versions/3.9.4/lib/python3.9/http/client.py?line=274'>275</a>\u001b[0m     \u001b[39m# sending a valid response.\u001b[39;00m\n\u001b[0;32m--> <a href='file:///Users/kaergell/.pyenv/versions/3.9.4/lib/python3.9/http/client.py?line=275'>276</a>\u001b[0m     \u001b[39mraise\u001b[39;00m RemoteDisconnected(\u001b[39m\"\u001b[39m\u001b[39mRemote end closed connection without\u001b[39m\u001b[39m\"\u001b[39m\n\u001b[1;32m    <a href='file:///Users/kaergell/.pyenv/versions/3.9.4/lib/python3.9/http/client.py?line=276'>277</a>\u001b[0m                              \u001b[39m\"\u001b[39m\u001b[39m response\u001b[39m\u001b[39m\"\u001b[39m)\n\u001b[1;32m    <a href='file:///Users/kaergell/.pyenv/versions/3.9.4/lib/python3.9/http/client.py?line=277'>278</a>\u001b[0m \u001b[39mtry\u001b[39;00m:\n",
      "\u001b[0;31mRemoteDisconnected\u001b[0m: Remote end closed connection without response",
      "\nDuring handling of the above exception, another exception occurred:\n",
      "\u001b[0;31mProtocolError\u001b[0m                             Traceback (most recent call last)",
      "File \u001b[0;32m~/Desktop/Neue Fische/Bootcamp/Capestone/fashion-recommender/.capestone/lib/python3.9/site-packages/requests/adapters.py:440\u001b[0m, in \u001b[0;36mHTTPAdapter.send\u001b[0;34m(self, request, stream, timeout, verify, cert, proxies)\u001b[0m\n\u001b[1;32m    <a href='file:///Users/kaergell/Desktop/Neue%20Fische/Bootcamp/Capestone/fashion-recommender/.capestone/lib/python3.9/site-packages/requests/adapters.py?line=438'>439</a>\u001b[0m \u001b[39mif\u001b[39;00m \u001b[39mnot\u001b[39;00m chunked:\n\u001b[0;32m--> <a href='file:///Users/kaergell/Desktop/Neue%20Fische/Bootcamp/Capestone/fashion-recommender/.capestone/lib/python3.9/site-packages/requests/adapters.py?line=439'>440</a>\u001b[0m     resp \u001b[39m=\u001b[39m conn\u001b[39m.\u001b[39;49murlopen(\n\u001b[1;32m    <a href='file:///Users/kaergell/Desktop/Neue%20Fische/Bootcamp/Capestone/fashion-recommender/.capestone/lib/python3.9/site-packages/requests/adapters.py?line=440'>441</a>\u001b[0m         method\u001b[39m=\u001b[39;49mrequest\u001b[39m.\u001b[39;49mmethod,\n\u001b[1;32m    <a href='file:///Users/kaergell/Desktop/Neue%20Fische/Bootcamp/Capestone/fashion-recommender/.capestone/lib/python3.9/site-packages/requests/adapters.py?line=441'>442</a>\u001b[0m         url\u001b[39m=\u001b[39;49murl,\n\u001b[1;32m    <a href='file:///Users/kaergell/Desktop/Neue%20Fische/Bootcamp/Capestone/fashion-recommender/.capestone/lib/python3.9/site-packages/requests/adapters.py?line=442'>443</a>\u001b[0m         body\u001b[39m=\u001b[39;49mrequest\u001b[39m.\u001b[39;49mbody,\n\u001b[1;32m    <a href='file:///Users/kaergell/Desktop/Neue%20Fische/Bootcamp/Capestone/fashion-recommender/.capestone/lib/python3.9/site-packages/requests/adapters.py?line=443'>444</a>\u001b[0m         headers\u001b[39m=\u001b[39;49mrequest\u001b[39m.\u001b[39;49mheaders,\n\u001b[1;32m    <a href='file:///Users/kaergell/Desktop/Neue%20Fische/Bootcamp/Capestone/fashion-recommender/.capestone/lib/python3.9/site-packages/requests/adapters.py?line=444'>445</a>\u001b[0m         redirect\u001b[39m=\u001b[39;49m\u001b[39mFalse\u001b[39;49;00m,\n\u001b[1;32m    <a href='file:///Users/kaergell/Desktop/Neue%20Fische/Bootcamp/Capestone/fashion-recommender/.capestone/lib/python3.9/site-packages/requests/adapters.py?line=445'>446</a>\u001b[0m         assert_same_host\u001b[39m=\u001b[39;49m\u001b[39mFalse\u001b[39;49;00m,\n\u001b[1;32m    <a href='file:///Users/kaergell/Desktop/Neue%20Fische/Bootcamp/Capestone/fashion-recommender/.capestone/lib/python3.9/site-packages/requests/adapters.py?line=446'>447</a>\u001b[0m         preload_content\u001b[39m=\u001b[39;49m\u001b[39mFalse\u001b[39;49;00m,\n\u001b[1;32m    <a href='file:///Users/kaergell/Desktop/Neue%20Fische/Bootcamp/Capestone/fashion-recommender/.capestone/lib/python3.9/site-packages/requests/adapters.py?line=447'>448</a>\u001b[0m         decode_content\u001b[39m=\u001b[39;49m\u001b[39mFalse\u001b[39;49;00m,\n\u001b[1;32m    <a href='file:///Users/kaergell/Desktop/Neue%20Fische/Bootcamp/Capestone/fashion-recommender/.capestone/lib/python3.9/site-packages/requests/adapters.py?line=448'>449</a>\u001b[0m         retries\u001b[39m=\u001b[39;49m\u001b[39mself\u001b[39;49m\u001b[39m.\u001b[39;49mmax_retries,\n\u001b[1;32m    <a href='file:///Users/kaergell/Desktop/Neue%20Fische/Bootcamp/Capestone/fashion-recommender/.capestone/lib/python3.9/site-packages/requests/adapters.py?line=449'>450</a>\u001b[0m         timeout\u001b[39m=\u001b[39;49mtimeout\n\u001b[1;32m    <a href='file:///Users/kaergell/Desktop/Neue%20Fische/Bootcamp/Capestone/fashion-recommender/.capestone/lib/python3.9/site-packages/requests/adapters.py?line=450'>451</a>\u001b[0m     )\n\u001b[1;32m    <a href='file:///Users/kaergell/Desktop/Neue%20Fische/Bootcamp/Capestone/fashion-recommender/.capestone/lib/python3.9/site-packages/requests/adapters.py?line=452'>453</a>\u001b[0m \u001b[39m# Send the request.\u001b[39;00m\n\u001b[1;32m    <a href='file:///Users/kaergell/Desktop/Neue%20Fische/Bootcamp/Capestone/fashion-recommender/.capestone/lib/python3.9/site-packages/requests/adapters.py?line=453'>454</a>\u001b[0m \u001b[39melse\u001b[39;00m:\n",
      "File \u001b[0;32m~/Desktop/Neue Fische/Bootcamp/Capestone/fashion-recommender/.capestone/lib/python3.9/site-packages/urllib3/connectionpool.py:785\u001b[0m, in \u001b[0;36mHTTPConnectionPool.urlopen\u001b[0;34m(self, method, url, body, headers, retries, redirect, assert_same_host, timeout, pool_timeout, release_conn, chunked, body_pos, **response_kw)\u001b[0m\n\u001b[1;32m    <a href='file:///Users/kaergell/Desktop/Neue%20Fische/Bootcamp/Capestone/fashion-recommender/.capestone/lib/python3.9/site-packages/urllib3/connectionpool.py?line=782'>783</a>\u001b[0m     e \u001b[39m=\u001b[39m ProtocolError(\u001b[39m\"\u001b[39m\u001b[39mConnection aborted.\u001b[39m\u001b[39m\"\u001b[39m, e)\n\u001b[0;32m--> <a href='file:///Users/kaergell/Desktop/Neue%20Fische/Bootcamp/Capestone/fashion-recommender/.capestone/lib/python3.9/site-packages/urllib3/connectionpool.py?line=784'>785</a>\u001b[0m retries \u001b[39m=\u001b[39m retries\u001b[39m.\u001b[39;49mincrement(\n\u001b[1;32m    <a href='file:///Users/kaergell/Desktop/Neue%20Fische/Bootcamp/Capestone/fashion-recommender/.capestone/lib/python3.9/site-packages/urllib3/connectionpool.py?line=785'>786</a>\u001b[0m     method, url, error\u001b[39m=\u001b[39;49me, _pool\u001b[39m=\u001b[39;49m\u001b[39mself\u001b[39;49m, _stacktrace\u001b[39m=\u001b[39;49msys\u001b[39m.\u001b[39;49mexc_info()[\u001b[39m2\u001b[39;49m]\n\u001b[1;32m    <a href='file:///Users/kaergell/Desktop/Neue%20Fische/Bootcamp/Capestone/fashion-recommender/.capestone/lib/python3.9/site-packages/urllib3/connectionpool.py?line=786'>787</a>\u001b[0m )\n\u001b[1;32m    <a href='file:///Users/kaergell/Desktop/Neue%20Fische/Bootcamp/Capestone/fashion-recommender/.capestone/lib/python3.9/site-packages/urllib3/connectionpool.py?line=787'>788</a>\u001b[0m retries\u001b[39m.\u001b[39msleep()\n",
      "File \u001b[0;32m~/Desktop/Neue Fische/Bootcamp/Capestone/fashion-recommender/.capestone/lib/python3.9/site-packages/urllib3/util/retry.py:550\u001b[0m, in \u001b[0;36mRetry.increment\u001b[0;34m(self, method, url, response, error, _pool, _stacktrace)\u001b[0m\n\u001b[1;32m    <a href='file:///Users/kaergell/Desktop/Neue%20Fische/Bootcamp/Capestone/fashion-recommender/.capestone/lib/python3.9/site-packages/urllib3/util/retry.py?line=548'>549</a>\u001b[0m \u001b[39mif\u001b[39;00m read \u001b[39mis\u001b[39;00m \u001b[39mFalse\u001b[39;00m \u001b[39mor\u001b[39;00m \u001b[39mnot\u001b[39;00m \u001b[39mself\u001b[39m\u001b[39m.\u001b[39m_is_method_retryable(method):\n\u001b[0;32m--> <a href='file:///Users/kaergell/Desktop/Neue%20Fische/Bootcamp/Capestone/fashion-recommender/.capestone/lib/python3.9/site-packages/urllib3/util/retry.py?line=549'>550</a>\u001b[0m     \u001b[39mraise\u001b[39;00m six\u001b[39m.\u001b[39;49mreraise(\u001b[39mtype\u001b[39;49m(error), error, _stacktrace)\n\u001b[1;32m    <a href='file:///Users/kaergell/Desktop/Neue%20Fische/Bootcamp/Capestone/fashion-recommender/.capestone/lib/python3.9/site-packages/urllib3/util/retry.py?line=550'>551</a>\u001b[0m \u001b[39melif\u001b[39;00m read \u001b[39mis\u001b[39;00m \u001b[39mnot\u001b[39;00m \u001b[39mNone\u001b[39;00m:\n",
      "File \u001b[0;32m~/Desktop/Neue Fische/Bootcamp/Capestone/fashion-recommender/.capestone/lib/python3.9/site-packages/urllib3/packages/six.py:769\u001b[0m, in \u001b[0;36mreraise\u001b[0;34m(tp, value, tb)\u001b[0m\n\u001b[1;32m    <a href='file:///Users/kaergell/Desktop/Neue%20Fische/Bootcamp/Capestone/fashion-recommender/.capestone/lib/python3.9/site-packages/urllib3/packages/six.py?line=767'>768</a>\u001b[0m \u001b[39mif\u001b[39;00m value\u001b[39m.\u001b[39m__traceback__ \u001b[39mis\u001b[39;00m \u001b[39mnot\u001b[39;00m tb:\n\u001b[0;32m--> <a href='file:///Users/kaergell/Desktop/Neue%20Fische/Bootcamp/Capestone/fashion-recommender/.capestone/lib/python3.9/site-packages/urllib3/packages/six.py?line=768'>769</a>\u001b[0m     \u001b[39mraise\u001b[39;00m value\u001b[39m.\u001b[39mwith_traceback(tb)\n\u001b[1;32m    <a href='file:///Users/kaergell/Desktop/Neue%20Fische/Bootcamp/Capestone/fashion-recommender/.capestone/lib/python3.9/site-packages/urllib3/packages/six.py?line=769'>770</a>\u001b[0m \u001b[39mraise\u001b[39;00m value\n",
      "File \u001b[0;32m~/Desktop/Neue Fische/Bootcamp/Capestone/fashion-recommender/.capestone/lib/python3.9/site-packages/urllib3/connectionpool.py:703\u001b[0m, in \u001b[0;36mHTTPConnectionPool.urlopen\u001b[0;34m(self, method, url, body, headers, retries, redirect, assert_same_host, timeout, pool_timeout, release_conn, chunked, body_pos, **response_kw)\u001b[0m\n\u001b[1;32m    <a href='file:///Users/kaergell/Desktop/Neue%20Fische/Bootcamp/Capestone/fashion-recommender/.capestone/lib/python3.9/site-packages/urllib3/connectionpool.py?line=701'>702</a>\u001b[0m \u001b[39m# Make the request on the httplib connection object.\u001b[39;00m\n\u001b[0;32m--> <a href='file:///Users/kaergell/Desktop/Neue%20Fische/Bootcamp/Capestone/fashion-recommender/.capestone/lib/python3.9/site-packages/urllib3/connectionpool.py?line=702'>703</a>\u001b[0m httplib_response \u001b[39m=\u001b[39m \u001b[39mself\u001b[39;49m\u001b[39m.\u001b[39;49m_make_request(\n\u001b[1;32m    <a href='file:///Users/kaergell/Desktop/Neue%20Fische/Bootcamp/Capestone/fashion-recommender/.capestone/lib/python3.9/site-packages/urllib3/connectionpool.py?line=703'>704</a>\u001b[0m     conn,\n\u001b[1;32m    <a href='file:///Users/kaergell/Desktop/Neue%20Fische/Bootcamp/Capestone/fashion-recommender/.capestone/lib/python3.9/site-packages/urllib3/connectionpool.py?line=704'>705</a>\u001b[0m     method,\n\u001b[1;32m    <a href='file:///Users/kaergell/Desktop/Neue%20Fische/Bootcamp/Capestone/fashion-recommender/.capestone/lib/python3.9/site-packages/urllib3/connectionpool.py?line=705'>706</a>\u001b[0m     url,\n\u001b[1;32m    <a href='file:///Users/kaergell/Desktop/Neue%20Fische/Bootcamp/Capestone/fashion-recommender/.capestone/lib/python3.9/site-packages/urllib3/connectionpool.py?line=706'>707</a>\u001b[0m     timeout\u001b[39m=\u001b[39;49mtimeout_obj,\n\u001b[1;32m    <a href='file:///Users/kaergell/Desktop/Neue%20Fische/Bootcamp/Capestone/fashion-recommender/.capestone/lib/python3.9/site-packages/urllib3/connectionpool.py?line=707'>708</a>\u001b[0m     body\u001b[39m=\u001b[39;49mbody,\n\u001b[1;32m    <a href='file:///Users/kaergell/Desktop/Neue%20Fische/Bootcamp/Capestone/fashion-recommender/.capestone/lib/python3.9/site-packages/urllib3/connectionpool.py?line=708'>709</a>\u001b[0m     headers\u001b[39m=\u001b[39;49mheaders,\n\u001b[1;32m    <a href='file:///Users/kaergell/Desktop/Neue%20Fische/Bootcamp/Capestone/fashion-recommender/.capestone/lib/python3.9/site-packages/urllib3/connectionpool.py?line=709'>710</a>\u001b[0m     chunked\u001b[39m=\u001b[39;49mchunked,\n\u001b[1;32m    <a href='file:///Users/kaergell/Desktop/Neue%20Fische/Bootcamp/Capestone/fashion-recommender/.capestone/lib/python3.9/site-packages/urllib3/connectionpool.py?line=710'>711</a>\u001b[0m )\n\u001b[1;32m    <a href='file:///Users/kaergell/Desktop/Neue%20Fische/Bootcamp/Capestone/fashion-recommender/.capestone/lib/python3.9/site-packages/urllib3/connectionpool.py?line=712'>713</a>\u001b[0m \u001b[39m# If we're going to release the connection in ``finally:``, then\u001b[39;00m\n\u001b[1;32m    <a href='file:///Users/kaergell/Desktop/Neue%20Fische/Bootcamp/Capestone/fashion-recommender/.capestone/lib/python3.9/site-packages/urllib3/connectionpool.py?line=713'>714</a>\u001b[0m \u001b[39m# the response doesn't need to know about the connection. Otherwise\u001b[39;00m\n\u001b[1;32m    <a href='file:///Users/kaergell/Desktop/Neue%20Fische/Bootcamp/Capestone/fashion-recommender/.capestone/lib/python3.9/site-packages/urllib3/connectionpool.py?line=714'>715</a>\u001b[0m \u001b[39m# it will also try to release it and we'll have a double-release\u001b[39;00m\n\u001b[1;32m    <a href='file:///Users/kaergell/Desktop/Neue%20Fische/Bootcamp/Capestone/fashion-recommender/.capestone/lib/python3.9/site-packages/urllib3/connectionpool.py?line=715'>716</a>\u001b[0m \u001b[39m# mess.\u001b[39;00m\n",
      "File \u001b[0;32m~/Desktop/Neue Fische/Bootcamp/Capestone/fashion-recommender/.capestone/lib/python3.9/site-packages/urllib3/connectionpool.py:449\u001b[0m, in \u001b[0;36mHTTPConnectionPool._make_request\u001b[0;34m(self, conn, method, url, timeout, chunked, **httplib_request_kw)\u001b[0m\n\u001b[1;32m    <a href='file:///Users/kaergell/Desktop/Neue%20Fische/Bootcamp/Capestone/fashion-recommender/.capestone/lib/python3.9/site-packages/urllib3/connectionpool.py?line=444'>445</a>\u001b[0m         \u001b[39mexcept\u001b[39;00m \u001b[39mBaseException\u001b[39;00m \u001b[39mas\u001b[39;00m e:\n\u001b[1;32m    <a href='file:///Users/kaergell/Desktop/Neue%20Fische/Bootcamp/Capestone/fashion-recommender/.capestone/lib/python3.9/site-packages/urllib3/connectionpool.py?line=445'>446</a>\u001b[0m             \u001b[39m# Remove the TypeError from the exception chain in\u001b[39;00m\n\u001b[1;32m    <a href='file:///Users/kaergell/Desktop/Neue%20Fische/Bootcamp/Capestone/fashion-recommender/.capestone/lib/python3.9/site-packages/urllib3/connectionpool.py?line=446'>447</a>\u001b[0m             \u001b[39m# Python 3 (including for exceptions like SystemExit).\u001b[39;00m\n\u001b[1;32m    <a href='file:///Users/kaergell/Desktop/Neue%20Fische/Bootcamp/Capestone/fashion-recommender/.capestone/lib/python3.9/site-packages/urllib3/connectionpool.py?line=447'>448</a>\u001b[0m             \u001b[39m# Otherwise it looks like a bug in the code.\u001b[39;00m\n\u001b[0;32m--> <a href='file:///Users/kaergell/Desktop/Neue%20Fische/Bootcamp/Capestone/fashion-recommender/.capestone/lib/python3.9/site-packages/urllib3/connectionpool.py?line=448'>449</a>\u001b[0m             six\u001b[39m.\u001b[39;49mraise_from(e, \u001b[39mNone\u001b[39;49;00m)\n\u001b[1;32m    <a href='file:///Users/kaergell/Desktop/Neue%20Fische/Bootcamp/Capestone/fashion-recommender/.capestone/lib/python3.9/site-packages/urllib3/connectionpool.py?line=449'>450</a>\u001b[0m \u001b[39mexcept\u001b[39;00m (SocketTimeout, BaseSSLError, SocketError) \u001b[39mas\u001b[39;00m e:\n",
      "File \u001b[0;32m<string>:3\u001b[0m, in \u001b[0;36mraise_from\u001b[0;34m(value, from_value)\u001b[0m\n",
      "File \u001b[0;32m~/Desktop/Neue Fische/Bootcamp/Capestone/fashion-recommender/.capestone/lib/python3.9/site-packages/urllib3/connectionpool.py:444\u001b[0m, in \u001b[0;36mHTTPConnectionPool._make_request\u001b[0;34m(self, conn, method, url, timeout, chunked, **httplib_request_kw)\u001b[0m\n\u001b[1;32m    <a href='file:///Users/kaergell/Desktop/Neue%20Fische/Bootcamp/Capestone/fashion-recommender/.capestone/lib/python3.9/site-packages/urllib3/connectionpool.py?line=442'>443</a>\u001b[0m \u001b[39mtry\u001b[39;00m:\n\u001b[0;32m--> <a href='file:///Users/kaergell/Desktop/Neue%20Fische/Bootcamp/Capestone/fashion-recommender/.capestone/lib/python3.9/site-packages/urllib3/connectionpool.py?line=443'>444</a>\u001b[0m     httplib_response \u001b[39m=\u001b[39m conn\u001b[39m.\u001b[39;49mgetresponse()\n\u001b[1;32m    <a href='file:///Users/kaergell/Desktop/Neue%20Fische/Bootcamp/Capestone/fashion-recommender/.capestone/lib/python3.9/site-packages/urllib3/connectionpool.py?line=444'>445</a>\u001b[0m \u001b[39mexcept\u001b[39;00m \u001b[39mBaseException\u001b[39;00m \u001b[39mas\u001b[39;00m e:\n\u001b[1;32m    <a href='file:///Users/kaergell/Desktop/Neue%20Fische/Bootcamp/Capestone/fashion-recommender/.capestone/lib/python3.9/site-packages/urllib3/connectionpool.py?line=445'>446</a>\u001b[0m     \u001b[39m# Remove the TypeError from the exception chain in\u001b[39;00m\n\u001b[1;32m    <a href='file:///Users/kaergell/Desktop/Neue%20Fische/Bootcamp/Capestone/fashion-recommender/.capestone/lib/python3.9/site-packages/urllib3/connectionpool.py?line=446'>447</a>\u001b[0m     \u001b[39m# Python 3 (including for exceptions like SystemExit).\u001b[39;00m\n\u001b[1;32m    <a href='file:///Users/kaergell/Desktop/Neue%20Fische/Bootcamp/Capestone/fashion-recommender/.capestone/lib/python3.9/site-packages/urllib3/connectionpool.py?line=447'>448</a>\u001b[0m     \u001b[39m# Otherwise it looks like a bug in the code.\u001b[39;00m\n",
      "File \u001b[0;32m~/.pyenv/versions/3.9.4/lib/python3.9/http/client.py:1345\u001b[0m, in \u001b[0;36mHTTPConnection.getresponse\u001b[0;34m(self)\u001b[0m\n\u001b[1;32m   <a href='file:///Users/kaergell/.pyenv/versions/3.9.4/lib/python3.9/http/client.py?line=1343'>1344</a>\u001b[0m \u001b[39mtry\u001b[39;00m:\n\u001b[0;32m-> <a href='file:///Users/kaergell/.pyenv/versions/3.9.4/lib/python3.9/http/client.py?line=1344'>1345</a>\u001b[0m     response\u001b[39m.\u001b[39;49mbegin()\n\u001b[1;32m   <a href='file:///Users/kaergell/.pyenv/versions/3.9.4/lib/python3.9/http/client.py?line=1345'>1346</a>\u001b[0m \u001b[39mexcept\u001b[39;00m \u001b[39mConnectionError\u001b[39;00m:\n",
      "File \u001b[0;32m~/.pyenv/versions/3.9.4/lib/python3.9/http/client.py:307\u001b[0m, in \u001b[0;36mHTTPResponse.begin\u001b[0;34m(self)\u001b[0m\n\u001b[1;32m    <a href='file:///Users/kaergell/.pyenv/versions/3.9.4/lib/python3.9/http/client.py?line=305'>306</a>\u001b[0m \u001b[39mwhile\u001b[39;00m \u001b[39mTrue\u001b[39;00m:\n\u001b[0;32m--> <a href='file:///Users/kaergell/.pyenv/versions/3.9.4/lib/python3.9/http/client.py?line=306'>307</a>\u001b[0m     version, status, reason \u001b[39m=\u001b[39m \u001b[39mself\u001b[39;49m\u001b[39m.\u001b[39;49m_read_status()\n\u001b[1;32m    <a href='file:///Users/kaergell/.pyenv/versions/3.9.4/lib/python3.9/http/client.py?line=307'>308</a>\u001b[0m     \u001b[39mif\u001b[39;00m status \u001b[39m!=\u001b[39m CONTINUE:\n",
      "File \u001b[0;32m~/.pyenv/versions/3.9.4/lib/python3.9/http/client.py:276\u001b[0m, in \u001b[0;36mHTTPResponse._read_status\u001b[0;34m(self)\u001b[0m\n\u001b[1;32m    <a href='file:///Users/kaergell/.pyenv/versions/3.9.4/lib/python3.9/http/client.py?line=272'>273</a>\u001b[0m \u001b[39mif\u001b[39;00m \u001b[39mnot\u001b[39;00m line:\n\u001b[1;32m    <a href='file:///Users/kaergell/.pyenv/versions/3.9.4/lib/python3.9/http/client.py?line=273'>274</a>\u001b[0m     \u001b[39m# Presumably, the server closed the connection before\u001b[39;00m\n\u001b[1;32m    <a href='file:///Users/kaergell/.pyenv/versions/3.9.4/lib/python3.9/http/client.py?line=274'>275</a>\u001b[0m     \u001b[39m# sending a valid response.\u001b[39;00m\n\u001b[0;32m--> <a href='file:///Users/kaergell/.pyenv/versions/3.9.4/lib/python3.9/http/client.py?line=275'>276</a>\u001b[0m     \u001b[39mraise\u001b[39;00m RemoteDisconnected(\u001b[39m\"\u001b[39m\u001b[39mRemote end closed connection without\u001b[39m\u001b[39m\"\u001b[39m\n\u001b[1;32m    <a href='file:///Users/kaergell/.pyenv/versions/3.9.4/lib/python3.9/http/client.py?line=276'>277</a>\u001b[0m                              \u001b[39m\"\u001b[39m\u001b[39m response\u001b[39m\u001b[39m\"\u001b[39m)\n\u001b[1;32m    <a href='file:///Users/kaergell/.pyenv/versions/3.9.4/lib/python3.9/http/client.py?line=277'>278</a>\u001b[0m \u001b[39mtry\u001b[39;00m:\n",
      "\u001b[0;31mProtocolError\u001b[0m: ('Connection aborted.', RemoteDisconnected('Remote end closed connection without response'))",
      "\nDuring handling of the above exception, another exception occurred:\n",
      "\u001b[0;31mConnectionError\u001b[0m                           Traceback (most recent call last)",
      "Input \u001b[0;32mIn [58]\u001b[0m, in \u001b[0;36m<cell line: 5>\u001b[0;34m()\u001b[0m\n\u001b[1;32m      6\u001b[0m url \u001b[39m=\u001b[39m \u001b[39m'\u001b[39m\u001b[39mhttps://www2.hm.com/de_de/search-results.html?q=\u001b[39m\u001b[39m{}\u001b[39;00m\u001b[39m'\u001b[39m\u001b[39m.\u001b[39mformat(i) \n\u001b[1;32m      7\u001b[0m soup\u001b[39m=\u001b[39mBeautifulSoup(response\u001b[39m.\u001b[39mcontent,\u001b[39m'\u001b[39m\u001b[39mlxml\u001b[39m\u001b[39m'\u001b[39m)\n\u001b[0;32m----> 8\u001b[0m response\u001b[39m=\u001b[39mrequests\u001b[39m.\u001b[39;49mget(url,headers\u001b[39m=\u001b[39;49mheaders)\n\u001b[1;32m      9\u001b[0m \u001b[39mfor\u001b[39;00m item \u001b[39min\u001b[39;00m soup\u001b[39m.\u001b[39mselect(\u001b[39m'\u001b[39m\u001b[39m.hm-product-item\u001b[39m\u001b[39m'\u001b[39m):\n\u001b[1;32m     10\u001b[0m \t\u001b[39mtry\u001b[39;00m:\n",
      "File \u001b[0;32m~/Desktop/Neue Fische/Bootcamp/Capestone/fashion-recommender/.capestone/lib/python3.9/site-packages/requests/api.py:75\u001b[0m, in \u001b[0;36mget\u001b[0;34m(url, params, **kwargs)\u001b[0m\n\u001b[1;32m     <a href='file:///Users/kaergell/Desktop/Neue%20Fische/Bootcamp/Capestone/fashion-recommender/.capestone/lib/python3.9/site-packages/requests/api.py?line=63'>64</a>\u001b[0m \u001b[39mdef\u001b[39;00m \u001b[39mget\u001b[39m(url, params\u001b[39m=\u001b[39m\u001b[39mNone\u001b[39;00m, \u001b[39m*\u001b[39m\u001b[39m*\u001b[39mkwargs):\n\u001b[1;32m     <a href='file:///Users/kaergell/Desktop/Neue%20Fische/Bootcamp/Capestone/fashion-recommender/.capestone/lib/python3.9/site-packages/requests/api.py?line=64'>65</a>\u001b[0m     \u001b[39mr\u001b[39m\u001b[39m\"\"\"Sends a GET request.\u001b[39;00m\n\u001b[1;32m     <a href='file:///Users/kaergell/Desktop/Neue%20Fische/Bootcamp/Capestone/fashion-recommender/.capestone/lib/python3.9/site-packages/requests/api.py?line=65'>66</a>\u001b[0m \n\u001b[1;32m     <a href='file:///Users/kaergell/Desktop/Neue%20Fische/Bootcamp/Capestone/fashion-recommender/.capestone/lib/python3.9/site-packages/requests/api.py?line=66'>67</a>\u001b[0m \u001b[39m    :param url: URL for the new :class:`Request` object.\u001b[39;00m\n\u001b[0;32m   (...)\u001b[0m\n\u001b[1;32m     <a href='file:///Users/kaergell/Desktop/Neue%20Fische/Bootcamp/Capestone/fashion-recommender/.capestone/lib/python3.9/site-packages/requests/api.py?line=71'>72</a>\u001b[0m \u001b[39m    :rtype: requests.Response\u001b[39;00m\n\u001b[1;32m     <a href='file:///Users/kaergell/Desktop/Neue%20Fische/Bootcamp/Capestone/fashion-recommender/.capestone/lib/python3.9/site-packages/requests/api.py?line=72'>73</a>\u001b[0m \u001b[39m    \"\"\"\u001b[39;00m\n\u001b[0;32m---> <a href='file:///Users/kaergell/Desktop/Neue%20Fische/Bootcamp/Capestone/fashion-recommender/.capestone/lib/python3.9/site-packages/requests/api.py?line=74'>75</a>\u001b[0m     \u001b[39mreturn\u001b[39;00m request(\u001b[39m'\u001b[39;49m\u001b[39mget\u001b[39;49m\u001b[39m'\u001b[39;49m, url, params\u001b[39m=\u001b[39;49mparams, \u001b[39m*\u001b[39;49m\u001b[39m*\u001b[39;49mkwargs)\n",
      "File \u001b[0;32m~/Desktop/Neue Fische/Bootcamp/Capestone/fashion-recommender/.capestone/lib/python3.9/site-packages/requests/api.py:61\u001b[0m, in \u001b[0;36mrequest\u001b[0;34m(method, url, **kwargs)\u001b[0m\n\u001b[1;32m     <a href='file:///Users/kaergell/Desktop/Neue%20Fische/Bootcamp/Capestone/fashion-recommender/.capestone/lib/python3.9/site-packages/requests/api.py?line=56'>57</a>\u001b[0m \u001b[39m# By using the 'with' statement we are sure the session is closed, thus we\u001b[39;00m\n\u001b[1;32m     <a href='file:///Users/kaergell/Desktop/Neue%20Fische/Bootcamp/Capestone/fashion-recommender/.capestone/lib/python3.9/site-packages/requests/api.py?line=57'>58</a>\u001b[0m \u001b[39m# avoid leaving sockets open which can trigger a ResourceWarning in some\u001b[39;00m\n\u001b[1;32m     <a href='file:///Users/kaergell/Desktop/Neue%20Fische/Bootcamp/Capestone/fashion-recommender/.capestone/lib/python3.9/site-packages/requests/api.py?line=58'>59</a>\u001b[0m \u001b[39m# cases, and look like a memory leak in others.\u001b[39;00m\n\u001b[1;32m     <a href='file:///Users/kaergell/Desktop/Neue%20Fische/Bootcamp/Capestone/fashion-recommender/.capestone/lib/python3.9/site-packages/requests/api.py?line=59'>60</a>\u001b[0m \u001b[39mwith\u001b[39;00m sessions\u001b[39m.\u001b[39mSession() \u001b[39mas\u001b[39;00m session:\n\u001b[0;32m---> <a href='file:///Users/kaergell/Desktop/Neue%20Fische/Bootcamp/Capestone/fashion-recommender/.capestone/lib/python3.9/site-packages/requests/api.py?line=60'>61</a>\u001b[0m     \u001b[39mreturn\u001b[39;00m session\u001b[39m.\u001b[39;49mrequest(method\u001b[39m=\u001b[39;49mmethod, url\u001b[39m=\u001b[39;49murl, \u001b[39m*\u001b[39;49m\u001b[39m*\u001b[39;49mkwargs)\n",
      "File \u001b[0;32m~/Desktop/Neue Fische/Bootcamp/Capestone/fashion-recommender/.capestone/lib/python3.9/site-packages/requests/sessions.py:529\u001b[0m, in \u001b[0;36mSession.request\u001b[0;34m(self, method, url, params, data, headers, cookies, files, auth, timeout, allow_redirects, proxies, hooks, stream, verify, cert, json)\u001b[0m\n\u001b[1;32m    <a href='file:///Users/kaergell/Desktop/Neue%20Fische/Bootcamp/Capestone/fashion-recommender/.capestone/lib/python3.9/site-packages/requests/sessions.py?line=523'>524</a>\u001b[0m send_kwargs \u001b[39m=\u001b[39m {\n\u001b[1;32m    <a href='file:///Users/kaergell/Desktop/Neue%20Fische/Bootcamp/Capestone/fashion-recommender/.capestone/lib/python3.9/site-packages/requests/sessions.py?line=524'>525</a>\u001b[0m     \u001b[39m'\u001b[39m\u001b[39mtimeout\u001b[39m\u001b[39m'\u001b[39m: timeout,\n\u001b[1;32m    <a href='file:///Users/kaergell/Desktop/Neue%20Fische/Bootcamp/Capestone/fashion-recommender/.capestone/lib/python3.9/site-packages/requests/sessions.py?line=525'>526</a>\u001b[0m     \u001b[39m'\u001b[39m\u001b[39mallow_redirects\u001b[39m\u001b[39m'\u001b[39m: allow_redirects,\n\u001b[1;32m    <a href='file:///Users/kaergell/Desktop/Neue%20Fische/Bootcamp/Capestone/fashion-recommender/.capestone/lib/python3.9/site-packages/requests/sessions.py?line=526'>527</a>\u001b[0m }\n\u001b[1;32m    <a href='file:///Users/kaergell/Desktop/Neue%20Fische/Bootcamp/Capestone/fashion-recommender/.capestone/lib/python3.9/site-packages/requests/sessions.py?line=527'>528</a>\u001b[0m send_kwargs\u001b[39m.\u001b[39mupdate(settings)\n\u001b[0;32m--> <a href='file:///Users/kaergell/Desktop/Neue%20Fische/Bootcamp/Capestone/fashion-recommender/.capestone/lib/python3.9/site-packages/requests/sessions.py?line=528'>529</a>\u001b[0m resp \u001b[39m=\u001b[39m \u001b[39mself\u001b[39;49m\u001b[39m.\u001b[39;49msend(prep, \u001b[39m*\u001b[39;49m\u001b[39m*\u001b[39;49msend_kwargs)\n\u001b[1;32m    <a href='file:///Users/kaergell/Desktop/Neue%20Fische/Bootcamp/Capestone/fashion-recommender/.capestone/lib/python3.9/site-packages/requests/sessions.py?line=530'>531</a>\u001b[0m \u001b[39mreturn\u001b[39;00m resp\n",
      "File \u001b[0;32m~/Desktop/Neue Fische/Bootcamp/Capestone/fashion-recommender/.capestone/lib/python3.9/site-packages/requests/sessions.py:645\u001b[0m, in \u001b[0;36mSession.send\u001b[0;34m(self, request, **kwargs)\u001b[0m\n\u001b[1;32m    <a href='file:///Users/kaergell/Desktop/Neue%20Fische/Bootcamp/Capestone/fashion-recommender/.capestone/lib/python3.9/site-packages/requests/sessions.py?line=641'>642</a>\u001b[0m start \u001b[39m=\u001b[39m preferred_clock()\n\u001b[1;32m    <a href='file:///Users/kaergell/Desktop/Neue%20Fische/Bootcamp/Capestone/fashion-recommender/.capestone/lib/python3.9/site-packages/requests/sessions.py?line=643'>644</a>\u001b[0m \u001b[39m# Send the request\u001b[39;00m\n\u001b[0;32m--> <a href='file:///Users/kaergell/Desktop/Neue%20Fische/Bootcamp/Capestone/fashion-recommender/.capestone/lib/python3.9/site-packages/requests/sessions.py?line=644'>645</a>\u001b[0m r \u001b[39m=\u001b[39m adapter\u001b[39m.\u001b[39;49msend(request, \u001b[39m*\u001b[39;49m\u001b[39m*\u001b[39;49mkwargs)\n\u001b[1;32m    <a href='file:///Users/kaergell/Desktop/Neue%20Fische/Bootcamp/Capestone/fashion-recommender/.capestone/lib/python3.9/site-packages/requests/sessions.py?line=646'>647</a>\u001b[0m \u001b[39m# Total elapsed time of the request (approximately)\u001b[39;00m\n\u001b[1;32m    <a href='file:///Users/kaergell/Desktop/Neue%20Fische/Bootcamp/Capestone/fashion-recommender/.capestone/lib/python3.9/site-packages/requests/sessions.py?line=647'>648</a>\u001b[0m elapsed \u001b[39m=\u001b[39m preferred_clock() \u001b[39m-\u001b[39m start\n",
      "File \u001b[0;32m~/Desktop/Neue Fische/Bootcamp/Capestone/fashion-recommender/.capestone/lib/python3.9/site-packages/requests/adapters.py:501\u001b[0m, in \u001b[0;36mHTTPAdapter.send\u001b[0;34m(self, request, stream, timeout, verify, cert, proxies)\u001b[0m\n\u001b[1;32m    <a href='file:///Users/kaergell/Desktop/Neue%20Fische/Bootcamp/Capestone/fashion-recommender/.capestone/lib/python3.9/site-packages/requests/adapters.py?line=497'>498</a>\u001b[0m             \u001b[39mraise\u001b[39;00m\n\u001b[1;32m    <a href='file:///Users/kaergell/Desktop/Neue%20Fische/Bootcamp/Capestone/fashion-recommender/.capestone/lib/python3.9/site-packages/requests/adapters.py?line=499'>500</a>\u001b[0m \u001b[39mexcept\u001b[39;00m (ProtocolError, socket\u001b[39m.\u001b[39merror) \u001b[39mas\u001b[39;00m err:\n\u001b[0;32m--> <a href='file:///Users/kaergell/Desktop/Neue%20Fische/Bootcamp/Capestone/fashion-recommender/.capestone/lib/python3.9/site-packages/requests/adapters.py?line=500'>501</a>\u001b[0m     \u001b[39mraise\u001b[39;00m \u001b[39mConnectionError\u001b[39;00m(err, request\u001b[39m=\u001b[39mrequest)\n\u001b[1;32m    <a href='file:///Users/kaergell/Desktop/Neue%20Fische/Bootcamp/Capestone/fashion-recommender/.capestone/lib/python3.9/site-packages/requests/adapters.py?line=502'>503</a>\u001b[0m \u001b[39mexcept\u001b[39;00m MaxRetryError \u001b[39mas\u001b[39;00m e:\n\u001b[1;32m    <a href='file:///Users/kaergell/Desktop/Neue%20Fische/Bootcamp/Capestone/fashion-recommender/.capestone/lib/python3.9/site-packages/requests/adapters.py?line=503'>504</a>\u001b[0m     \u001b[39mif\u001b[39;00m \u001b[39misinstance\u001b[39m(e\u001b[39m.\u001b[39mreason, ConnectTimeoutError):\n\u001b[1;32m    <a href='file:///Users/kaergell/Desktop/Neue%20Fische/Bootcamp/Capestone/fashion-recommender/.capestone/lib/python3.9/site-packages/requests/adapters.py?line=504'>505</a>\u001b[0m         \u001b[39m# TODO: Remove this in 3.0.0: see #2811\u001b[39;00m\n",
      "\u001b[0;31mConnectionError\u001b[0m: ('Connection aborted.', RemoteDisconnected('Remote end closed connection without response'))"
     ]
    }
   ],
   "source": [
    "#response=requests.get(url,headers=headers)\n",
    "\n",
    "sample = []\n",
    "\n",
    "for i in tqdm(df[\"article_id\"].head(5)):\n",
    "\turl = '{}'.format(i) \n",
    "\tsoup=BeautifulSoup(response.content,'lxml')\n",
    "\tresponse=requests.get(url,headers=headers)\n",
    "\tfor item in soup.select('.hm-product-item'):\n",
    "\t\ttry:\n",
    "\t\t\tprint('----------------------------------------')\n",
    "\t\t\tcase = {'article_id': i, 'price': soup.find('span', {'class': 'price regular'}).text[:-1]}\n",
    "\t\t\tsample.append(case)\n",
    "\n",
    "\n",
    "\n",
    "\t\texcept Exception as e:\n",
    "\t\t\t#raise e\n",
    "\t\t\tprint('')\n"
   ]
  },
  {
   "cell_type": "code",
   "execution_count": null,
   "metadata": {},
   "outputs": [
    {
     "data": {
      "text/plain": [
       "[{'article_id': '0706016001', 'price': '19,99 '},\n",
       " {'article_id': '0706016002', 'price': '19,99 '},\n",
       " {'article_id': '0372860001', 'price': '19,99 '},\n",
       " {'article_id': '0610776002', 'price': '7,99 '},\n",
       " {'article_id': '0759871002', 'price': '4,99 '}]"
      ]
     },
     "execution_count": 33,
     "metadata": {},
     "output_type": "execute_result"
    }
   ],
   "source": [
    "sample"
   ]
  },
  {
   "cell_type": "markdown",
   "metadata": {},
   "source": [
    "A new dataframe is formed from the sample list"
   ]
  },
  {
   "cell_type": "code",
   "execution_count": null,
   "metadata": {},
   "outputs": [],
   "source": [
    "df_2 = pd.DataFrame(sample, columns=[\"article_id\", \"new_price\"])\n"
   ]
  },
  {
   "cell_type": "markdown",
   "metadata": {},
   "source": [
    "Merged"
   ]
  },
  {
   "cell_type": "code",
   "execution_count": 37,
   "metadata": {},
   "outputs": [],
   "source": [
    "df=pd.merge(df,df_2, on=[\"article_id\"], how=\"outer\")"
   ]
  },
  {
   "cell_type": "code",
   "execution_count": 39,
   "metadata": {},
   "outputs": [],
   "source": [
    "df_2[\"article_id\"]=df_2[\"article_id\"].astype(int)"
   ]
  },
  {
   "cell_type": "code",
   "execution_count": 40,
   "metadata": {},
   "outputs": [],
   "source": [
    "#df_2.to_parquet(\"../parquet/articles_prices_right_type.parquet\")"
   ]
  },
  {
   "cell_type": "code",
   "execution_count": 41,
   "metadata": {},
   "outputs": [],
   "source": [
    "df_2[\"new_price\"]=df_2['new_price'].apply(lambda x:  str(x).replace(',','.'))"
   ]
  },
  {
   "cell_type": "code",
   "execution_count": 42,
   "metadata": {},
   "outputs": [],
   "source": [
    "df_2.replace(to_replace=\"None\", value=np.nan, inplace=True)"
   ]
  },
  {
   "cell_type": "code",
   "execution_count": 43,
   "metadata": {},
   "outputs": [
    {
     "ename": "KeyError",
     "evalue": "'average_price'",
     "output_type": "error",
     "traceback": [
      "\u001b[0;31m---------------------------------------------------------------------------\u001b[0m",
      "\u001b[0;31mKeyError\u001b[0m                                  Traceback (most recent call last)",
      "File \u001b[0;32m~/Desktop/Neue Fische/Bootcamp/Capestone/fashion-recommender/.capestone/lib/python3.9/site-packages/pandas/core/indexes/base.py:3361\u001b[0m, in \u001b[0;36mIndex.get_loc\u001b[0;34m(self, key, method, tolerance)\u001b[0m\n\u001b[1;32m   <a href='file:///Users/kaergell/Desktop/Neue%20Fische/Bootcamp/Capestone/fashion-recommender/.capestone/lib/python3.9/site-packages/pandas/core/indexes/base.py?line=3359'>3360</a>\u001b[0m \u001b[39mtry\u001b[39;00m:\n\u001b[0;32m-> <a href='file:///Users/kaergell/Desktop/Neue%20Fische/Bootcamp/Capestone/fashion-recommender/.capestone/lib/python3.9/site-packages/pandas/core/indexes/base.py?line=3360'>3361</a>\u001b[0m     \u001b[39mreturn\u001b[39;00m \u001b[39mself\u001b[39;49m\u001b[39m.\u001b[39;49m_engine\u001b[39m.\u001b[39;49mget_loc(casted_key)\n\u001b[1;32m   <a href='file:///Users/kaergell/Desktop/Neue%20Fische/Bootcamp/Capestone/fashion-recommender/.capestone/lib/python3.9/site-packages/pandas/core/indexes/base.py?line=3361'>3362</a>\u001b[0m \u001b[39mexcept\u001b[39;00m \u001b[39mKeyError\u001b[39;00m \u001b[39mas\u001b[39;00m err:\n",
      "File \u001b[0;32m~/Desktop/Neue Fische/Bootcamp/Capestone/fashion-recommender/.capestone/lib/python3.9/site-packages/pandas/_libs/index.pyx:76\u001b[0m, in \u001b[0;36mpandas._libs.index.IndexEngine.get_loc\u001b[0;34m()\u001b[0m\n",
      "File \u001b[0;32m~/Desktop/Neue Fische/Bootcamp/Capestone/fashion-recommender/.capestone/lib/python3.9/site-packages/pandas/_libs/index.pyx:108\u001b[0m, in \u001b[0;36mpandas._libs.index.IndexEngine.get_loc\u001b[0;34m()\u001b[0m\n",
      "File \u001b[0;32mpandas/_libs/hashtable_class_helper.pxi:5198\u001b[0m, in \u001b[0;36mpandas._libs.hashtable.PyObjectHashTable.get_item\u001b[0;34m()\u001b[0m\n",
      "File \u001b[0;32mpandas/_libs/hashtable_class_helper.pxi:5206\u001b[0m, in \u001b[0;36mpandas._libs.hashtable.PyObjectHashTable.get_item\u001b[0;34m()\u001b[0m\n",
      "\u001b[0;31mKeyError\u001b[0m: 'average_price'",
      "\nThe above exception was the direct cause of the following exception:\n",
      "\u001b[0;31mKeyError\u001b[0m                                  Traceback (most recent call last)",
      "Input \u001b[0;32mIn [43]\u001b[0m, in \u001b[0;36m<cell line: 1>\u001b[0;34m()\u001b[0m\n\u001b[0;32m----> 1\u001b[0m df_2[\u001b[39m\"\u001b[39m\u001b[39mnew_price\u001b[39m\u001b[39m\"\u001b[39m]\u001b[39m.\u001b[39mfillna((df_2[\u001b[39m\"\u001b[39;49m\u001b[39maverage_price\u001b[39;49m\u001b[39m\"\u001b[39;49m]\u001b[39m*\u001b[39m\u001b[39m10\u001b[39m), inplace\u001b[39m=\u001b[39m\u001b[39mTrue\u001b[39;00m)\n",
      "File \u001b[0;32m~/Desktop/Neue Fische/Bootcamp/Capestone/fashion-recommender/.capestone/lib/python3.9/site-packages/pandas/core/frame.py:3458\u001b[0m, in \u001b[0;36mDataFrame.__getitem__\u001b[0;34m(self, key)\u001b[0m\n\u001b[1;32m   <a href='file:///Users/kaergell/Desktop/Neue%20Fische/Bootcamp/Capestone/fashion-recommender/.capestone/lib/python3.9/site-packages/pandas/core/frame.py?line=3455'>3456</a>\u001b[0m \u001b[39mif\u001b[39;00m \u001b[39mself\u001b[39m\u001b[39m.\u001b[39mcolumns\u001b[39m.\u001b[39mnlevels \u001b[39m>\u001b[39m \u001b[39m1\u001b[39m:\n\u001b[1;32m   <a href='file:///Users/kaergell/Desktop/Neue%20Fische/Bootcamp/Capestone/fashion-recommender/.capestone/lib/python3.9/site-packages/pandas/core/frame.py?line=3456'>3457</a>\u001b[0m     \u001b[39mreturn\u001b[39;00m \u001b[39mself\u001b[39m\u001b[39m.\u001b[39m_getitem_multilevel(key)\n\u001b[0;32m-> <a href='file:///Users/kaergell/Desktop/Neue%20Fische/Bootcamp/Capestone/fashion-recommender/.capestone/lib/python3.9/site-packages/pandas/core/frame.py?line=3457'>3458</a>\u001b[0m indexer \u001b[39m=\u001b[39m \u001b[39mself\u001b[39;49m\u001b[39m.\u001b[39;49mcolumns\u001b[39m.\u001b[39;49mget_loc(key)\n\u001b[1;32m   <a href='file:///Users/kaergell/Desktop/Neue%20Fische/Bootcamp/Capestone/fashion-recommender/.capestone/lib/python3.9/site-packages/pandas/core/frame.py?line=3458'>3459</a>\u001b[0m \u001b[39mif\u001b[39;00m is_integer(indexer):\n\u001b[1;32m   <a href='file:///Users/kaergell/Desktop/Neue%20Fische/Bootcamp/Capestone/fashion-recommender/.capestone/lib/python3.9/site-packages/pandas/core/frame.py?line=3459'>3460</a>\u001b[0m     indexer \u001b[39m=\u001b[39m [indexer]\n",
      "File \u001b[0;32m~/Desktop/Neue Fische/Bootcamp/Capestone/fashion-recommender/.capestone/lib/python3.9/site-packages/pandas/core/indexes/base.py:3363\u001b[0m, in \u001b[0;36mIndex.get_loc\u001b[0;34m(self, key, method, tolerance)\u001b[0m\n\u001b[1;32m   <a href='file:///Users/kaergell/Desktop/Neue%20Fische/Bootcamp/Capestone/fashion-recommender/.capestone/lib/python3.9/site-packages/pandas/core/indexes/base.py?line=3360'>3361</a>\u001b[0m         \u001b[39mreturn\u001b[39;00m \u001b[39mself\u001b[39m\u001b[39m.\u001b[39m_engine\u001b[39m.\u001b[39mget_loc(casted_key)\n\u001b[1;32m   <a href='file:///Users/kaergell/Desktop/Neue%20Fische/Bootcamp/Capestone/fashion-recommender/.capestone/lib/python3.9/site-packages/pandas/core/indexes/base.py?line=3361'>3362</a>\u001b[0m     \u001b[39mexcept\u001b[39;00m \u001b[39mKeyError\u001b[39;00m \u001b[39mas\u001b[39;00m err:\n\u001b[0;32m-> <a href='file:///Users/kaergell/Desktop/Neue%20Fische/Bootcamp/Capestone/fashion-recommender/.capestone/lib/python3.9/site-packages/pandas/core/indexes/base.py?line=3362'>3363</a>\u001b[0m         \u001b[39mraise\u001b[39;00m \u001b[39mKeyError\u001b[39;00m(key) \u001b[39mfrom\u001b[39;00m \u001b[39merr\u001b[39;00m\n\u001b[1;32m   <a href='file:///Users/kaergell/Desktop/Neue%20Fische/Bootcamp/Capestone/fashion-recommender/.capestone/lib/python3.9/site-packages/pandas/core/indexes/base.py?line=3364'>3365</a>\u001b[0m \u001b[39mif\u001b[39;00m is_scalar(key) \u001b[39mand\u001b[39;00m isna(key) \u001b[39mand\u001b[39;00m \u001b[39mnot\u001b[39;00m \u001b[39mself\u001b[39m\u001b[39m.\u001b[39mhasnans:\n\u001b[1;32m   <a href='file:///Users/kaergell/Desktop/Neue%20Fische/Bootcamp/Capestone/fashion-recommender/.capestone/lib/python3.9/site-packages/pandas/core/indexes/base.py?line=3365'>3366</a>\u001b[0m     \u001b[39mraise\u001b[39;00m \u001b[39mKeyError\u001b[39;00m(key)\n",
      "\u001b[0;31mKeyError\u001b[0m: 'average_price'"
     ]
    }
   ],
   "source": [
    "#df_2[\"new_price\"].fillna((df_2[\"average_price\"]*10), inplace=True)"
   ]
  },
  {
   "cell_type": "code",
   "execution_count": 44,
   "metadata": {},
   "outputs": [],
   "source": [
    "df_2[\"new_price\"]=df_2[\"new_price\"].astype(float)"
   ]
  },
  {
   "cell_type": "code",
   "execution_count": 45,
   "metadata": {},
   "outputs": [
    {
     "ename": "KeyError",
     "evalue": "'article_count'",
     "output_type": "error",
     "traceback": [
      "\u001b[0;31m---------------------------------------------------------------------------\u001b[0m",
      "\u001b[0;31mKeyError\u001b[0m                                  Traceback (most recent call last)",
      "File \u001b[0;32m~/Desktop/Neue Fische/Bootcamp/Capestone/fashion-recommender/.capestone/lib/python3.9/site-packages/pandas/core/indexes/base.py:3361\u001b[0m, in \u001b[0;36mIndex.get_loc\u001b[0;34m(self, key, method, tolerance)\u001b[0m\n\u001b[1;32m   <a href='file:///Users/kaergell/Desktop/Neue%20Fische/Bootcamp/Capestone/fashion-recommender/.capestone/lib/python3.9/site-packages/pandas/core/indexes/base.py?line=3359'>3360</a>\u001b[0m \u001b[39mtry\u001b[39;00m:\n\u001b[0;32m-> <a href='file:///Users/kaergell/Desktop/Neue%20Fische/Bootcamp/Capestone/fashion-recommender/.capestone/lib/python3.9/site-packages/pandas/core/indexes/base.py?line=3360'>3361</a>\u001b[0m     \u001b[39mreturn\u001b[39;00m \u001b[39mself\u001b[39;49m\u001b[39m.\u001b[39;49m_engine\u001b[39m.\u001b[39;49mget_loc(casted_key)\n\u001b[1;32m   <a href='file:///Users/kaergell/Desktop/Neue%20Fische/Bootcamp/Capestone/fashion-recommender/.capestone/lib/python3.9/site-packages/pandas/core/indexes/base.py?line=3361'>3362</a>\u001b[0m \u001b[39mexcept\u001b[39;00m \u001b[39mKeyError\u001b[39;00m \u001b[39mas\u001b[39;00m err:\n",
      "File \u001b[0;32m~/Desktop/Neue Fische/Bootcamp/Capestone/fashion-recommender/.capestone/lib/python3.9/site-packages/pandas/_libs/index.pyx:76\u001b[0m, in \u001b[0;36mpandas._libs.index.IndexEngine.get_loc\u001b[0;34m()\u001b[0m\n",
      "File \u001b[0;32m~/Desktop/Neue Fische/Bootcamp/Capestone/fashion-recommender/.capestone/lib/python3.9/site-packages/pandas/_libs/index.pyx:108\u001b[0m, in \u001b[0;36mpandas._libs.index.IndexEngine.get_loc\u001b[0;34m()\u001b[0m\n",
      "File \u001b[0;32mpandas/_libs/hashtable_class_helper.pxi:5198\u001b[0m, in \u001b[0;36mpandas._libs.hashtable.PyObjectHashTable.get_item\u001b[0;34m()\u001b[0m\n",
      "File \u001b[0;32mpandas/_libs/hashtable_class_helper.pxi:5206\u001b[0m, in \u001b[0;36mpandas._libs.hashtable.PyObjectHashTable.get_item\u001b[0;34m()\u001b[0m\n",
      "\u001b[0;31mKeyError\u001b[0m: 'article_count'",
      "\nThe above exception was the direct cause of the following exception:\n",
      "\u001b[0;31mKeyError\u001b[0m                                  Traceback (most recent call last)",
      "Input \u001b[0;32mIn [45]\u001b[0m, in \u001b[0;36m<cell line: 1>\u001b[0;34m()\u001b[0m\n\u001b[0;32m----> 1\u001b[0m df_2[\u001b[39m\"\u001b[39m\u001b[39mtotal\u001b[39m\u001b[39m\"\u001b[39m]\u001b[39m=\u001b[39m(df_2[\u001b[39m\"\u001b[39;49m\u001b[39marticle_count\u001b[39;49m\u001b[39m\"\u001b[39;49m]\u001b[39m*\u001b[39mdf_2[\u001b[39m\"\u001b[39m\u001b[39mnew_price\u001b[39m\u001b[39m\"\u001b[39m])\n",
      "File \u001b[0;32m~/Desktop/Neue Fische/Bootcamp/Capestone/fashion-recommender/.capestone/lib/python3.9/site-packages/pandas/core/frame.py:3458\u001b[0m, in \u001b[0;36mDataFrame.__getitem__\u001b[0;34m(self, key)\u001b[0m\n\u001b[1;32m   <a href='file:///Users/kaergell/Desktop/Neue%20Fische/Bootcamp/Capestone/fashion-recommender/.capestone/lib/python3.9/site-packages/pandas/core/frame.py?line=3455'>3456</a>\u001b[0m \u001b[39mif\u001b[39;00m \u001b[39mself\u001b[39m\u001b[39m.\u001b[39mcolumns\u001b[39m.\u001b[39mnlevels \u001b[39m>\u001b[39m \u001b[39m1\u001b[39m:\n\u001b[1;32m   <a href='file:///Users/kaergell/Desktop/Neue%20Fische/Bootcamp/Capestone/fashion-recommender/.capestone/lib/python3.9/site-packages/pandas/core/frame.py?line=3456'>3457</a>\u001b[0m     \u001b[39mreturn\u001b[39;00m \u001b[39mself\u001b[39m\u001b[39m.\u001b[39m_getitem_multilevel(key)\n\u001b[0;32m-> <a href='file:///Users/kaergell/Desktop/Neue%20Fische/Bootcamp/Capestone/fashion-recommender/.capestone/lib/python3.9/site-packages/pandas/core/frame.py?line=3457'>3458</a>\u001b[0m indexer \u001b[39m=\u001b[39m \u001b[39mself\u001b[39;49m\u001b[39m.\u001b[39;49mcolumns\u001b[39m.\u001b[39;49mget_loc(key)\n\u001b[1;32m   <a href='file:///Users/kaergell/Desktop/Neue%20Fische/Bootcamp/Capestone/fashion-recommender/.capestone/lib/python3.9/site-packages/pandas/core/frame.py?line=3458'>3459</a>\u001b[0m \u001b[39mif\u001b[39;00m is_integer(indexer):\n\u001b[1;32m   <a href='file:///Users/kaergell/Desktop/Neue%20Fische/Bootcamp/Capestone/fashion-recommender/.capestone/lib/python3.9/site-packages/pandas/core/frame.py?line=3459'>3460</a>\u001b[0m     indexer \u001b[39m=\u001b[39m [indexer]\n",
      "File \u001b[0;32m~/Desktop/Neue Fische/Bootcamp/Capestone/fashion-recommender/.capestone/lib/python3.9/site-packages/pandas/core/indexes/base.py:3363\u001b[0m, in \u001b[0;36mIndex.get_loc\u001b[0;34m(self, key, method, tolerance)\u001b[0m\n\u001b[1;32m   <a href='file:///Users/kaergell/Desktop/Neue%20Fische/Bootcamp/Capestone/fashion-recommender/.capestone/lib/python3.9/site-packages/pandas/core/indexes/base.py?line=3360'>3361</a>\u001b[0m         \u001b[39mreturn\u001b[39;00m \u001b[39mself\u001b[39m\u001b[39m.\u001b[39m_engine\u001b[39m.\u001b[39mget_loc(casted_key)\n\u001b[1;32m   <a href='file:///Users/kaergell/Desktop/Neue%20Fische/Bootcamp/Capestone/fashion-recommender/.capestone/lib/python3.9/site-packages/pandas/core/indexes/base.py?line=3361'>3362</a>\u001b[0m     \u001b[39mexcept\u001b[39;00m \u001b[39mKeyError\u001b[39;00m \u001b[39mas\u001b[39;00m err:\n\u001b[0;32m-> <a href='file:///Users/kaergell/Desktop/Neue%20Fische/Bootcamp/Capestone/fashion-recommender/.capestone/lib/python3.9/site-packages/pandas/core/indexes/base.py?line=3362'>3363</a>\u001b[0m         \u001b[39mraise\u001b[39;00m \u001b[39mKeyError\u001b[39;00m(key) \u001b[39mfrom\u001b[39;00m \u001b[39merr\u001b[39;00m\n\u001b[1;32m   <a href='file:///Users/kaergell/Desktop/Neue%20Fische/Bootcamp/Capestone/fashion-recommender/.capestone/lib/python3.9/site-packages/pandas/core/indexes/base.py?line=3364'>3365</a>\u001b[0m \u001b[39mif\u001b[39;00m is_scalar(key) \u001b[39mand\u001b[39;00m isna(key) \u001b[39mand\u001b[39;00m \u001b[39mnot\u001b[39;00m \u001b[39mself\u001b[39m\u001b[39m.\u001b[39mhasnans:\n\u001b[1;32m   <a href='file:///Users/kaergell/Desktop/Neue%20Fische/Bootcamp/Capestone/fashion-recommender/.capestone/lib/python3.9/site-packages/pandas/core/indexes/base.py?line=3365'>3366</a>\u001b[0m     \u001b[39mraise\u001b[39;00m \u001b[39mKeyError\u001b[39;00m(key)\n",
      "\u001b[0;31mKeyError\u001b[0m: 'article_count'"
     ]
    }
   ],
   "source": [
    "df_2[\"total\"]=(df_2[\"article_count\"]*df_2[\"new_price\"])"
   ]
  },
  {
   "cell_type": "code",
   "execution_count": 46,
   "metadata": {},
   "outputs": [
    {
     "data": {
      "text/html": [
       "<div>\n",
       "<style scoped>\n",
       "    .dataframe tbody tr th:only-of-type {\n",
       "        vertical-align: middle;\n",
       "    }\n",
       "\n",
       "    .dataframe tbody tr th {\n",
       "        vertical-align: top;\n",
       "    }\n",
       "\n",
       "    .dataframe thead th {\n",
       "        text-align: right;\n",
       "    }\n",
       "</style>\n",
       "<table border=\"1\" class=\"dataframe\">\n",
       "  <thead>\n",
       "    <tr style=\"text-align: right;\">\n",
       "      <th></th>\n",
       "      <th>article_id</th>\n",
       "      <th>new_price</th>\n",
       "    </tr>\n",
       "  </thead>\n",
       "  <tbody>\n",
       "    <tr>\n",
       "      <th>0</th>\n",
       "      <td>706016001</td>\n",
       "      <td>NaN</td>\n",
       "    </tr>\n",
       "    <tr>\n",
       "      <th>1</th>\n",
       "      <td>706016002</td>\n",
       "      <td>NaN</td>\n",
       "    </tr>\n",
       "    <tr>\n",
       "      <th>2</th>\n",
       "      <td>372860001</td>\n",
       "      <td>NaN</td>\n",
       "    </tr>\n",
       "    <tr>\n",
       "      <th>3</th>\n",
       "      <td>610776002</td>\n",
       "      <td>NaN</td>\n",
       "    </tr>\n",
       "    <tr>\n",
       "      <th>4</th>\n",
       "      <td>759871002</td>\n",
       "      <td>NaN</td>\n",
       "    </tr>\n",
       "  </tbody>\n",
       "</table>\n",
       "</div>"
      ],
      "text/plain": [
       "   article_id  new_price\n",
       "0   706016001        NaN\n",
       "1   706016002        NaN\n",
       "2   372860001        NaN\n",
       "3   610776002        NaN\n",
       "4   759871002        NaN"
      ]
     },
     "execution_count": 46,
     "metadata": {},
     "output_type": "execute_result"
    }
   ],
   "source": []
  },
  {
   "cell_type": "code",
   "execution_count": null,
   "metadata": {},
   "outputs": [],
   "source": []
  }
 ],
 "metadata": {
  "interpreter": {
   "hash": "328734dbe9e3c184795c63509ffa33498755909f8a78b9e437854070cb5b22ec"
  },
  "kernelspec": {
   "display_name": "Python 3.9.4 ('.capestone': venv)",
   "language": "python",
   "name": "python3"
  },
  "language_info": {
   "codemirror_mode": {
    "name": "ipython",
    "version": 3
   },
   "file_extension": ".py",
   "mimetype": "text/x-python",
   "name": "python",
   "nbconvert_exporter": "python",
   "pygments_lexer": "ipython3",
   "version": "3.9.4"
  },
  "orig_nbformat": 4
 },
 "nbformat": 4,
 "nbformat_minor": 2
}
